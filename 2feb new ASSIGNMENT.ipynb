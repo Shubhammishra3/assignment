{
 "cells": [
  {
   "cell_type": "markdown",
   "id": "dc4abc4b-fb8d-4681-92ab-89acd41e9fa9",
   "metadata": {},
   "source": [
    "                                ASSIGNMENT 2 FEB"
   ]
  },
  {
   "cell_type": "code",
   "execution_count": null,
   "id": "75c56bee-0319-457c-a548-15f16d8d1601",
   "metadata": {},
   "outputs": [],
   "source": [
    "\"\"\" 1] Explain with an example each when to use a for loop and a while loop?\n",
    "                [ FOR LOOP]\n",
    "answer] A for loop is a control flow statement that executes code for a predefined number of iterations.\n",
    "The key word used in this control flow statements is for.  When the number of iteration is already known,for loop is used.\n",
    "                  [ WHILE LOOP]\n",
    " A loop that runs a single statement or a set of statement for a given true condition. this loop is represented by a\n",
    " keyword \"while\" . when the number of iterations is unknown , a while loop is used . The statement is repeated untill the\n",
    " boolean value is false. Because the condition is teasted at the begining of a while loop, it is also known as pre test loop.        \"\"\"         "
   ]
  },
  {
   "cell_type": "code",
   "execution_count": 38,
   "id": "76f3c360-adaf-451f-8844-2c56338b33c2",
   "metadata": {},
   "outputs": [
    {
     "name": "stdin",
     "output_type": "stream",
     "text": [
      "enter the number of rows 5\n"
     ]
    },
    {
     "name": "stdout",
     "output_type": "stream",
     "text": [
      "$\n",
      "$$\n",
      "$$$\n",
      "$$$$\n",
      "$$$$$\n"
     ]
    }
   ],
   "source": [
    "num = int(input(\"enter the number of rows\"))\n",
    "for i in range(1,num+1):                              # EXAMPLE OF FOR LOOP\n",
    "    for j in range(1,i+1):\n",
    "        print(\"$\",end=\"\")\n",
    "    print()\n",
    "\n",
    "          "
   ]
  },
  {
   "cell_type": "code",
   "execution_count": 40,
   "id": "ed24ec68-4bba-4b1e-a57f-448a54b1038f",
   "metadata": {},
   "outputs": [
    {
     "name": "stdin",
     "output_type": "stream",
     "text": [
      "enter the number of rows 5\n"
     ]
    },
    {
     "name": "stdout",
     "output_type": "stream",
     "text": [
      "@\n",
      "@@\n",
      "@@@\n",
      "@@@@\n",
      "@@@@@\n"
     ]
    }
   ],
   "source": [
    "n = int(input(\"enter the number of rows\"))\n",
    "i =1\n",
    "while i<=n:\n",
    "    j=1                          # EXAMPLE FOR WHILE LOOP\n",
    "    while j<=i:\n",
    "        print(\"@\" , end=\"\")\n",
    "        j+=1\n",
    "    print()\n",
    "    i+=1"
   ]
  },
  {
   "cell_type": "markdown",
   "id": "41b7b1a6-f3e1-4703-8a11-6bb18c6b5876",
   "metadata": {},
   "source": [
    "\"\"\"2] Writa a python program to print the sum and product of first 10 natural numbers using for and while loop?"
   ]
  },
  {
   "cell_type": "code",
   "execution_count": 41,
   "id": "adc3009b-65fa-4997-b0ed-b9b679233378",
   "metadata": {},
   "outputs": [
    {
     "name": "stdout",
     "output_type": "stream",
     "text": [
      " sum of first 10 natural number is 55\n",
      " product of first 10 natural number is 3628800\n"
     ]
    }
   ],
   "source": [
    "i = 10\n",
    "sum = 0\n",
    "product = 1                              # using while loop\n",
    "while(i<=10 and i>= 1):\n",
    "    sum = sum +i\n",
    "    product = product * i\n",
    "    i = i-1\n",
    "print(\" sum of first 10 natural number is\",sum)\n",
    "print(\" product of first 10 natural number is\",product)"
   ]
  },
  {
   "cell_type": "code",
   "execution_count": 42,
   "id": "0c378c30-8c7a-487b-a661-c092ff154de5",
   "metadata": {},
   "outputs": [
    {
     "name": "stdout",
     "output_type": "stream",
     "text": [
      " sum of first 10 natural number is 55\n",
      " product of first 10 natural number is 3628800\n"
     ]
    }
   ],
   "source": [
    "l = 1,2,3,4,5,6,7,8,9,10\n",
    "sum = 0\n",
    "product = 1                              # using for loop\n",
    "for i in l:\n",
    "    sum = sum +i\n",
    "    product = product * i\n",
    "    i = i+1\n",
    "print(\" sum of first 10 natural number is\",sum)\n",
    "print(\" product of first 10 natural number is\",product)"
   ]
  },
  {
   "cell_type": "code",
   "execution_count": null,
   "id": "737486bb-41e6-42a7-bb29-eab591410acd",
   "metadata": {},
   "outputs": [],
   "source": []
  },
  {
   "cell_type": "markdown",
   "id": "be998bd0-7190-45ea-b478-79d179dc6666",
   "metadata": {},
   "source": [
    "\"\"\"3] creat a python program to comput the electricity bill for a house hold. the per unit charges in rupees are as follows; for the first 100 units , the user will be charged rs 4.5 per units, for next 100 units , the user will be charged rs 6 per unit and for next 100 units the user will be charged rs 10per unit ,after 300 units and above the user be charged rs 20 per unit?"
   ]
  },
  {
   "cell_type": "code",
   "execution_count": 2,
   "id": "dad73fe8-1cde-4474-89bb-9cc698d87076",
   "metadata": {},
   "outputs": [
    {
     "name": "stdin",
     "output_type": "stream",
     "text": [
      "enter the number of units consumed 310\n"
     ]
    },
    {
     "name": "stdout",
     "output_type": "stream",
     "text": [
      "2250.0 is electricity bill of this month\n"
     ]
    }
   ],
   "source": [
    "units = int(input(\"enter the number of units consumed\"))\n",
    "if units>= 1 and units <= 100:\n",
    "    bill = 4.5 * units\n",
    "    print(bill , \"is electricity bill of this month\")\n",
    "elif units >100 and units<=200:\n",
    "    bill = 4.5*100 + 6 * (units - 100)\n",
    "    print(bill , \" is electricity bill of this month\")\n",
    "elif units >200 and units <= 300:\n",
    "    bill = 4.5*100 + 6*100 + (units-200)*10\n",
    "    print(bill , \"is electricity bill of this month\")\n",
    "else:\n",
    "    bill = 4.5*100 + 6*100 + 10*100 +( units-300)*20\n",
    "    print(bill , \"is electricity bill of this month\")"
   ]
  },
  {
   "cell_type": "markdown",
   "id": "f4f367a1-34d0-413d-9fa2-c532640c262f",
   "metadata": {},
   "source": [
    "\"\"\"4]create a list of number from 1 to 100 . use for loop and while loop to calculate the cube of each number and if the cube of that number is divided by 4 or 5 then append that number in a list and print that  list?"
   ]
  },
  {
   "cell_type": "code",
   "execution_count": null,
   "id": "e9da1976-29e3-4b20-bb33-cd94e0c5d021",
   "metadata": {},
   "outputs": [],
   "source": []
  },
  {
   "cell_type": "code",
   "execution_count": 1,
   "id": "ab68c4cc-01ca-4eab-a3e7-c560cb3400c1",
   "metadata": {},
   "outputs": [
    {
     "name": "stdout",
     "output_type": "stream",
     "text": [
      " cube of numbers is  1\n",
      " cube of numbers is  8\n",
      " cube of numbers is  27\n",
      " cube of numbers is  64\n",
      " cube of numbers is  125\n",
      " cube of numbers is  216\n",
      " cube of numbers is  343\n",
      " cube of numbers is  512\n",
      " cube of numbers is  729\n",
      " cube of numbers is  1000\n",
      " cube of numbers is  1331\n",
      " cube of numbers is  1728\n",
      " cube of numbers is  2197\n",
      " cube of numbers is  2744\n",
      " cube of numbers is  3375\n",
      " cube of numbers is  4096\n",
      " cube of numbers is  4913\n",
      " cube of numbers is  5832\n",
      " cube of numbers is  6859\n",
      " cube of numbers is  8000\n",
      " cube of numbers is  9261\n",
      " cube of numbers is  10648\n",
      " cube of numbers is  12167\n",
      " cube of numbers is  13824\n",
      " cube of numbers is  15625\n",
      " cube of numbers is  17576\n",
      " cube of numbers is  19683\n",
      " cube of numbers is  21952\n",
      " cube of numbers is  24389\n",
      " cube of numbers is  27000\n",
      " cube of numbers is  29791\n",
      " cube of numbers is  32768\n",
      " cube of numbers is  35937\n",
      " cube of numbers is  39304\n",
      " cube of numbers is  42875\n",
      " cube of numbers is  46656\n",
      " cube of numbers is  50653\n",
      " cube of numbers is  54872\n",
      " cube of numbers is  59319\n",
      " cube of numbers is  64000\n",
      " cube of numbers is  68921\n",
      " cube of numbers is  74088\n",
      " cube of numbers is  79507\n",
      " cube of numbers is  85184\n",
      " cube of numbers is  91125\n",
      " cube of numbers is  97336\n",
      " cube of numbers is  103823\n",
      " cube of numbers is  110592\n",
      " cube of numbers is  117649\n",
      " cube of numbers is  125000\n",
      " cube of numbers is  132651\n",
      " cube of numbers is  140608\n",
      " cube of numbers is  148877\n",
      " cube of numbers is  157464\n",
      " cube of numbers is  166375\n",
      " cube of numbers is  175616\n",
      " cube of numbers is  185193\n",
      " cube of numbers is  195112\n",
      " cube of numbers is  205379\n",
      " cube of numbers is  216000\n",
      " cube of numbers is  226981\n",
      " cube of numbers is  238328\n",
      " cube of numbers is  250047\n",
      " cube of numbers is  262144\n",
      " cube of numbers is  274625\n",
      " cube of numbers is  287496\n",
      " cube of numbers is  300763\n",
      " cube of numbers is  314432\n",
      " cube of numbers is  328509\n",
      " cube of numbers is  343000\n",
      " cube of numbers is  357911\n",
      " cube of numbers is  373248\n",
      " cube of numbers is  389017\n",
      " cube of numbers is  405224\n",
      " cube of numbers is  421875\n",
      " cube of numbers is  438976\n",
      " cube of numbers is  456533\n",
      " cube of numbers is  474552\n",
      " cube of numbers is  493039\n",
      " cube of numbers is  512000\n",
      " cube of numbers is  531441\n",
      " cube of numbers is  551368\n",
      " cube of numbers is  571787\n",
      " cube of numbers is  592704\n",
      " cube of numbers is  614125\n",
      " cube of numbers is  636056\n",
      " cube of numbers is  658503\n",
      " cube of numbers is  681472\n",
      " cube of numbers is  704969\n",
      " cube of numbers is  729000\n",
      " cube of numbers is  753571\n",
      " cube of numbers is  778688\n",
      " cube of numbers is  804357\n",
      " cube of numbers is  830584\n",
      " cube of numbers is  857375\n",
      " cube of numbers is  884736\n",
      " cube of numbers is  912673\n",
      " cube of numbers is  941192\n",
      " cube of numbers is  970299\n",
      " cube of numbers is  1000000\n",
      "new list is  [2, 4, 5, 6, 8, 10, 12, 14, 15, 16, 18, 20, 22, 24, 25, 26, 28, 30, 32, 34, 35, 36, 38, 40, 42, 44, 45, 46, 48, 50, 52, 54, 55, 56, 58, 60, 62, 64, 65, 66, 68, 70, 72, 74, 75, 76, 78, 80, 82, 84, 85, 86, 88, 90, 92, 94, 95, 96, 98, 100]\n"
     ]
    }
   ],
   "source": [
    "l1 = []\n",
    "cube = 0\n",
    "l = list(range(1,101))\n",
    "for i in l:                                               #print statement out side the loop\n",
    "    cube = pow(i,3)\n",
    "    print(\" cube of numbers is \", cube)\n",
    "    if(cube % 4==0 or cube % 5 ==0):\n",
    "        l1.append(i)\n",
    "         \n",
    "print(\"new list is \", l1)        "
   ]
  },
  {
   "cell_type": "markdown",
   "id": "a3857007-bd20-4220-99b6-de6f1860c92c",
   "metadata": {},
   "source": [
    "\"\"\"5] Write a program to filter count vowels in the below given string.\n",
    "string = \"I want to become a data scientist\""
   ]
  },
  {
   "cell_type": "code",
   "execution_count": 34,
   "id": "cd859978-e67c-42b9-bb4b-d83152f7166b",
   "metadata": {},
   "outputs": [
    {
     "name": "stdout",
     "output_type": "stream",
     "text": [
      " no of vowel is  12\n"
     ]
    }
   ],
   "source": [
    "string = \" I want to become a data scientist\"\n",
    "count = 0\n",
    "\n",
    "for i in string:\n",
    "    if (i.upper() == \"A\" or i.upper() ==\"E\" or i.upper()==\"I\" or i.upper() ==\"O\" or i.upper() ==\"U\"):\n",
    "        count = count+1\n",
    "print(\" no of vowel is \",count) \n"
   ]
  },
  {
   "cell_type": "code",
   "execution_count": null,
   "id": "8cd43a7f-1bac-441d-abe5-50155ca573ee",
   "metadata": {},
   "outputs": [],
   "source": []
  }
 ],
 "metadata": {
  "kernelspec": {
   "display_name": "Python 3 (ipykernel)",
   "language": "python",
   "name": "python3"
  },
  "language_info": {
   "codemirror_mode": {
    "name": "ipython",
    "version": 3
   },
   "file_extension": ".py",
   "mimetype": "text/x-python",
   "name": "python",
   "nbconvert_exporter": "python",
   "pygments_lexer": "ipython3",
   "version": "3.10.6"
  }
 },
 "nbformat": 4,
 "nbformat_minor": 5
}
