{
 "cells": [
  {
   "cell_type": "code",
   "execution_count": null,
   "id": "c61c9cab-f497-418b-b2d3-0036fa27999b",
   "metadata": {},
   "outputs": [],
   "source": [
    "\"\"\"                           [ 9 FEB. ASSIGNMENT]\n",
    "1] Creat a vehicle class with an init method having instance variables as name_of_vehicle, max_speed and average_of_vehicle.\n",
    "\n"
   ]
  },
  {
   "cell_type": "code",
   "execution_count": 60,
   "id": "3ecb68ac-c88f-4f41-9849-b9b08d6e756b",
   "metadata": {},
   "outputs": [],
   "source": [
    "class vehicle:\n",
    "    def __init__(self,name_of_vehicle,max_speed,average_of_vehicle):\n",
    "        self.name_of_vehicle = name_of_vehicle\n",
    "        self.max_speed = max_speed\n",
    "        self.average_of_vehicle = average_of_vehicle\n",
    "    def show(self):\n",
    "        print(\" Name of vehicle is \",self.name_of_vehicle, \" max speed is \" , self.max_speed, \" average of vehicle is \",self.average_of_vehicle)"
   ]
  },
  {
   "cell_type": "code",
   "execution_count": 61,
   "id": "e0ea84a7-acca-4283-8510-5d494c612929",
   "metadata": {},
   "outputs": [],
   "source": [
    "object = vehicle(\"hero\" ,150,76)"
   ]
  },
  {
   "cell_type": "code",
   "execution_count": 62,
   "id": "4d1f9c42-eb7a-4726-b162-25f966e2a301",
   "metadata": {},
   "outputs": [
    {
     "name": "stdout",
     "output_type": "stream",
     "text": [
      " Name of vehicle is  hero  max speed is  150  average of vehicle is  76\n"
     ]
    }
   ],
   "source": [
    "object.show()"
   ]
  },
  {
   "cell_type": "code",
   "execution_count": null,
   "id": "2dc877ee-ed5d-46e8-8ab9-5f7a6e024b8c",
   "metadata": {},
   "outputs": [],
   "source": []
  },
  {
   "cell_type": "code",
   "execution_count": null,
   "id": "4da36ae3-50cf-4c26-a85a-9c2535fd2550",
   "metadata": {},
   "outputs": [],
   "source": [
    "\"\"\"\n",
    "2] Creat a child class car from the vehicle class created in question1 , which will inherit the vehicle class. creat a \n",
    "method named seating_capacity which takes capacity as an argument and return the name of the vehicle and its seating capacity."
   ]
  },
  {
   "cell_type": "code",
   "execution_count": 66,
   "id": "63e59630-c36a-416f-8dd0-dce2aa92cfcd",
   "metadata": {},
   "outputs": [],
   "source": [
    "class car(vehicle):\n",
    "    def seating_capacity(self,capacity):\n",
    "        \n",
    "        self.capacity = capacity\n",
    "        return \"name of vehicle is\",self.name_of_vehicle,\"capacity of vehicle is\",self.capacity"
   ]
  },
  {
   "cell_type": "code",
   "execution_count": 67,
   "id": "a29f94f3-934e-4fd7-bd59-fd73ae39347f",
   "metadata": {},
   "outputs": [],
   "source": [
    "obj1 = car(\"hero\",180,78)"
   ]
  },
  {
   "cell_type": "code",
   "execution_count": 68,
   "id": "6f3fbf03-5285-4bf4-ad4f-bd1f3bfd5519",
   "metadata": {},
   "outputs": [
    {
     "data": {
      "text/plain": [
       "('name of vehicle is', 'hero', 'capacity of vehicle is', 4)"
      ]
     },
     "execution_count": 68,
     "metadata": {},
     "output_type": "execute_result"
    }
   ],
   "source": [
    "obj1.seating_capacity(4)"
   ]
  },
  {
   "cell_type": "code",
   "execution_count": null,
   "id": "659a3bce-644d-40ca-aaf8-1ebb9e56381e",
   "metadata": {},
   "outputs": [],
   "source": []
  },
  {
   "cell_type": "code",
   "execution_count": null,
   "id": "49362d9e-0557-467c-b94d-1215e1f23dd9",
   "metadata": {},
   "outputs": [],
   "source": []
  },
  {
   "cell_type": "code",
   "execution_count": 52,
   "id": "28811388-1bf3-47eb-9846-4011bafdf624",
   "metadata": {},
   "outputs": [],
   "source": [
    "class car(vehicle):\n",
    "    def __init__(self,name_of_vehicle,capacity ):\n",
    "        self.name_of_vehicle = name_of_vehicle\n",
    "        self.capacity = capacity\n",
    "    def show1( self):\n",
    "        print(\"name of vehicle is\", self.name_of_vehicle,\"capacity of vehicle is\",self.capacity)"
   ]
  },
  {
   "cell_type": "code",
   "execution_count": 53,
   "id": "6d4da3fe-cdf9-44a7-a863-d45fa06cc659",
   "metadata": {},
   "outputs": [],
   "source": [
    "obj = car(\"hero\",4)\n",
    "         "
   ]
  },
  {
   "cell_type": "code",
   "execution_count": 54,
   "id": "eb00502f-67b4-41d8-ae8f-ed5ac1841950",
   "metadata": {},
   "outputs": [
    {
     "name": "stdout",
     "output_type": "stream",
     "text": [
      "name of vehicle is hero capacity of vehicle is 4\n"
     ]
    }
   ],
   "source": [
    "obj.show1()\n"
   ]
  },
  {
   "cell_type": "code",
   "execution_count": null,
   "id": "20dcb6aa-f88b-457a-92b8-e5b6406f7b37",
   "metadata": {},
   "outputs": [],
   "source": []
  },
  {
   "cell_type": "code",
   "execution_count": null,
   "id": "22c7ab08-e57f-46da-8d41-af4f568919f3",
   "metadata": {},
   "outputs": [],
   "source": [
    "\"\"\"\n",
    "3] What is multiple inheritance ? write a python code to demonstrate multiple inheritance.\n",
    "\n",
    "answer] when a class is derived from more than one base class it is called multiple inheritance.The derived class inherits\n",
    "all the properties of base calss"
   ]
  },
  {
   "cell_type": "code",
   "execution_count": 1,
   "id": "6dfe25ae-39f2-4b85-b078-9bf40c343204",
   "metadata": {},
   "outputs": [],
   "source": [
    "class class1:\n",
    "    def test_class1(self):\n",
    "        return \" this is class 1\""
   ]
  },
  {
   "cell_type": "code",
   "execution_count": 2,
   "id": "734ed527-b1bf-4ebf-904c-065416ada518",
   "metadata": {},
   "outputs": [],
   "source": [
    "class class2:\n",
    "    def test_class2(self):\n",
    "        return \" this is class 2\""
   ]
  },
  {
   "cell_type": "code",
   "execution_count": 3,
   "id": "e87c5c14-ac47-4cdb-9c29-60414037cc77",
   "metadata": {},
   "outputs": [],
   "source": [
    "class class3(class1,class2):\n",
    "    def test_class3(self):\n",
    "        return \" this is class 3\""
   ]
  },
  {
   "cell_type": "code",
   "execution_count": 4,
   "id": "49afbbb1-679a-4c54-8c4d-359c3c048326",
   "metadata": {},
   "outputs": [],
   "source": [
    "object = class3()"
   ]
  },
  {
   "cell_type": "code",
   "execution_count": 5,
   "id": "748bfbcc-019d-4347-9087-bb66bfdb8bc0",
   "metadata": {},
   "outputs": [
    {
     "data": {
      "text/plain": [
       "' this is class 2'"
      ]
     },
     "execution_count": 5,
     "metadata": {},
     "output_type": "execute_result"
    }
   ],
   "source": [
    "object.test_class2()"
   ]
  },
  {
   "cell_type": "code",
   "execution_count": 6,
   "id": "40c6b20d-e21a-4b0b-9726-d2c1eefd36f8",
   "metadata": {},
   "outputs": [
    {
     "data": {
      "text/plain": [
       "' this is class 3'"
      ]
     },
     "execution_count": 6,
     "metadata": {},
     "output_type": "execute_result"
    }
   ],
   "source": [
    "object.test_class3()"
   ]
  },
  {
   "cell_type": "code",
   "execution_count": null,
   "id": "e2abb4df-65d2-4c61-8899-968235d95d15",
   "metadata": {},
   "outputs": [],
   "source": [
    "\"\"\"\n",
    "4] What is getter and setter in python ? Creat a class and creat getter and setter method in this class.\n",
    "\n",
    "answer] The main purpose of using getters and setters in object oriented programs is to ensure data encapsulation.\n",
    "Private variables in python are not actually hidden fields like in other object oriented languages.Getter and Setters \n",
    "in python are often used when : \n",
    "                a)    We use getters and setters to add validation logic around getting and setting a value.\n",
    "                b)    To avoid direct access of a class field that is private variables can not be accessed directly or\n",
    "                       modified by external user."
   ]
  },
  {
   "cell_type": "code",
   "execution_count": 7,
   "id": "8b9c314f-2a18-45da-a0c1-2f7612976a0b",
   "metadata": {},
   "outputs": [],
   "source": [
    "class bank_account:\n",
    "    def __init__(self,balance):\n",
    "        self.__balance = balance\n",
    "    def deposit(self,amount):\n",
    "        self.__balance = self.__balance + amount\n",
    "    def  eithdraw(self,amount):\n",
    "        if self.__balance >= amount:\n",
    "            self.__balance = self.__balance - amount\n",
    "            return True\n",
    "        else :\n",
    "            return False\n",
    "    def get_balance(self):\n",
    "        return self.__balance"
   ]
  },
  {
   "cell_type": "code",
   "execution_count": 9,
   "id": "e03edbbf-e78d-459f-a6c4-6536cce1df17",
   "metadata": {},
   "outputs": [],
   "source": [
    "object = bank_account(10000)"
   ]
  },
  {
   "cell_type": "code",
   "execution_count": 10,
   "id": "0c86ae38-5e42-4d13-8db9-b0093ef7dec7",
   "metadata": {},
   "outputs": [
    {
     "data": {
      "text/plain": [
       "10000"
      ]
     },
     "execution_count": 10,
     "metadata": {},
     "output_type": "execute_result"
    }
   ],
   "source": [
    "object.get_balance()"
   ]
  },
  {
   "cell_type": "code",
   "execution_count": null,
   "id": "4b830dfa-c0f9-45c3-ae91-d5c1e0c70395",
   "metadata": {},
   "outputs": [],
   "source": [
    "\"\"\"\n",
    "5] What is method overloading in python ? Write a python code to demonstrate method overloading.\n",
    "\n",
    "answer] Method overloading is a means by which you can call the same method in different ways thatis with different\n",
    "parameters based on the number of arguments or their different data type. "
   ]
  },
  {
   "cell_type": "code",
   "execution_count": 11,
   "id": "69dea8fc-5c60-4763-ac98-a4802e62c912",
   "metadata": {},
   "outputs": [],
   "source": [
    "class myclass:\n",
    "    def sum(self,a= None , b = None, c = None):\n",
    "        if a!= None and b!= None and c!= None:\n",
    "            s = a + b+ c\n",
    "        elif a!= None and b!= None:\n",
    "            s = a*b\n",
    "        return s    "
   ]
  },
  {
   "cell_type": "code",
   "execution_count": 15,
   "id": "c3f9abd4-3d29-47b2-abdc-9b84b00ba108",
   "metadata": {},
   "outputs": [],
   "source": [
    "object = myclass()"
   ]
  },
  {
   "cell_type": "code",
   "execution_count": 17,
   "id": "926c8712-8a8d-4027-afea-9983c680922d",
   "metadata": {},
   "outputs": [
    {
     "name": "stdout",
     "output_type": "stream",
     "text": [
      "585\n"
     ]
    }
   ],
   "source": [
    "print(object.sum(13,45,))"
   ]
  },
  {
   "cell_type": "code",
   "execution_count": null,
   "id": "43893dcc-8106-425a-bc18-aa1863035ad1",
   "metadata": {},
   "outputs": [],
   "source": []
  }
 ],
 "metadata": {
  "kernelspec": {
   "display_name": "Python 3 (ipykernel)",
   "language": "python",
   "name": "python3"
  },
  "language_info": {
   "codemirror_mode": {
    "name": "ipython",
    "version": 3
   },
   "file_extension": ".py",
   "mimetype": "text/x-python",
   "name": "python",
   "nbconvert_exporter": "python",
   "pygments_lexer": "ipython3",
   "version": "3.10.6"
  }
 },
 "nbformat": 4,
 "nbformat_minor": 5
}
