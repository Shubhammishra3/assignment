{
 "cells": [
  {
   "cell_type": "code",
   "execution_count": null,
   "id": "44882c1c-9f86-4b7b-a3a9-cae84be67888",
   "metadata": {},
   "outputs": [],
   "source": [
    "\"\"\"                     [TASK 1 ASSIGNMENT]\n",
    "Q1. Create a function which will take a list as an argument and return the product of all the numbers\n",
    "after creating a flat list.\n",
    "\n",
    "Use the below-given list as an argument for your function.\n",
    "\n",
    "\n",
    "list1 = [1,2,3,4, [44,55,66, True], False, (34,56,78,89,34), {1,2,3,3,2,1}, {1:34, \"key2\": [55, 67, 78, 89], 4: (45,\n",
    "22, 61, 34)}, [56, 'data science'], 'Machine Learning']\n",
    "\n",
    "\n",
    "Note: you must extract numeric keys and values of the dictionary also.\n"
   ]
  },
  {
   "cell_type": "code",
   "execution_count": null,
   "id": "f634b380-6ed1-453a-99b6-71cacda771c1",
   "metadata": {},
   "outputs": [],
   "source": [
    "from collections.abc import Iterable\n",
    "\n",
    "def flatten_list(lst):\n",
    "    flattened_lst = []\n",
    "    for item in lst:\n",
    "        if isinstance(item, dict):\n",
    "            item = item.values()\n",
    "        if isinstance(item, Iterable) and not isinstance(item, str):\n",
    "            flattened_lst.extend(flatten_list(item))\n",
    "        else:\n",
    "            flattened_lst.append(item)\n",
    "    return flattened_lst\n",
    "\n",
    "def product_of_numbers(lst):\n",
    "    flattened_lst = flatten_list(lst)\n",
    "\n",
    "    product = 1\n",
    "    for num in flattened_lst:\n",
    "        if isinstance(num, (int, float)):\n",
    "            product *= num\n",
    "\n",
    "    return product\n",
    "\n",
    "# Example usage\n",
    "list1 = [1, 2, 3, 4, [44, 55, 66, True], False, (34, 56, 78, 89, 34), {1, 2, 3, 3, 2, 1}, {1: 34, \"key2\": [55, 67, 78, 89], 4: (45, 22, 61, 34)}, [56, 'data science'], 'Machine Learning']\n",
    "\n",
    "result = product_of_numbers(list1)\n",
    "print(\"Product of numbers:\", result)"
   ]
  },
  {
   "cell_type": "code",
   "execution_count": null,
   "id": "92466403-4c15-4fba-9c5f-9b6a3e8e842e",
   "metadata": {},
   "outputs": [],
   "source": []
  },
  {
   "cell_type": "code",
   "execution_count": null,
   "id": "94fa222a-aaec-4694-9de3-37e04441fdc8",
   "metadata": {},
   "outputs": [],
   "source": [
    "\"\"\"\n",
    "Q2. Write a python program for encrypting a message sent to you by your friend. The logic of encryption\n",
    "should be such that, for a the output should be z. For b, the output should be y. For c, the output should\n",
    "be x respectively. Also, the whitespace should be replaced with a dollar sign. Keep the punctuation\n",
    "marks unchanged.\n",
    "\n",
    "\n",
    "Input Sentence: I want to become a Data Scientist.\n",
    "\n",
    "\n",
    "Encrypt the above input sentence using the program you just created.\n",
    "\n",
    "\n",
    "Note: Convert the given input sentence into lowercase before encrypting. The final output should be lowercase.\n"
   ]
  },
  {
   "cell_type": "code",
   "execution_count": 1,
   "id": "00a52dff-d122-4c34-9bc5-da29a37c96b6",
   "metadata": {},
   "outputs": [
    {
     "name": "stdout",
     "output_type": "stream",
     "text": [
      "Encrypted sentence: R$dzmg$gl$yvxlnv$z$Wzgz$Hxrvmgrhg.\n"
     ]
    }
   ],
   "source": [
    "def encrypt_message(message):\n",
    "    encrypted_message = \"\"\n",
    "    for char in message:\n",
    "        if char.isalpha():\n",
    "            if char.islower():\n",
    "                encrypted_char = chr(219 - ord(char))\n",
    "            else:\n",
    "                encrypted_char = chr(155 - ord(char))\n",
    "            encrypted_message += encrypted_char\n",
    "        elif char == \" \":\n",
    "            encrypted_message += \"$\"\n",
    "        else:\n",
    "            encrypted_message += char\n",
    "    return encrypted_message\n",
    "\n",
    "# Example usage\n",
    "input_sentence = \"I want to become a Data Scientist.\"\n",
    "encrypted_sentence = encrypt_message(input_sentence)\n",
    "print(\"Encrypted sentence:\", encrypted_sentence)\n"
   ]
  },
  {
   "cell_type": "code",
   "execution_count": null,
   "id": "dcbc6722-11ad-45a2-9ac9-3478e3c6bde7",
   "metadata": {},
   "outputs": [],
   "source": []
  }
 ],
 "metadata": {
  "kernelspec": {
   "display_name": "Python 3 (ipykernel)",
   "language": "python",
   "name": "python3"
  },
  "language_info": {
   "codemirror_mode": {
    "name": "ipython",
    "version": 3
   },
   "file_extension": ".py",
   "mimetype": "text/x-python",
   "name": "python",
   "nbconvert_exporter": "python",
   "pygments_lexer": "ipython3",
   "version": "3.10.6"
  }
 },
 "nbformat": 4,
 "nbformat_minor": 5
}
