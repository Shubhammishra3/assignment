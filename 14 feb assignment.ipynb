{
 "cells": [
  {
   "cell_type": "code",
   "execution_count": null,
   "id": "731bbcf2-8d70-4b38-b351-fbc70c42844b",
   "metadata": {},
   "outputs": [],
   "source": [
    "\"\"\"                        [ 14 feb ASSIGNMENT]\n",
    "1] What is multithreading in python ? why is it used? Name the module used to handle threads in python.\n",
    "\n",
    "answer] A thread is a unit of execution within a process. Multithreading refers to concurrently executing multiple\n",
    "threads by rapidly switching the control of the cpu between threads called context switching.It is use to improve\n",
    "performance of a program by using multiple cpus. The python global interpreter lock limits one thread to run at a time \n",
    "even if the machine contains multiple processors.\n",
    "  Threading module is used to handle threads in python.It is a high level implementation of multithreading used to deploy\n",
    "   an application in python."
   ]
  },
  {
   "cell_type": "code",
   "execution_count": null,
   "id": "a3d976c4-227e-41e4-a633-34639d866c24",
   "metadata": {},
   "outputs": [],
   "source": []
  },
  {
   "cell_type": "code",
   "execution_count": null,
   "id": "fdd7464b-f0e3-4e5e-a6bb-99f5af5070d7",
   "metadata": {},
   "outputs": [],
   "source": [
    "\"\"\"\n",
    "2] Why threading module used ? Write the use of the following function:\n",
    "1) activeCount()\n",
    "2) currentThread()\n",
    "3) enumerate()\n",
    "\n",
    "answer] Threading module is used to handle threads in python.It is a high level implementation of multithreading used \n",
    "        to deploy an application in python.\n",
    "   1) activeCount() - threading.activeCount() returns the number of thread objects that are active.\n",
    "   2) currentThread() - threading.currentThread() returns the number of thread objects in the caller's thread control.\n",
    "   3) enumerate() - threading.enumerate() returns a list of all thread objects that are currently active."
   ]
  },
  {
   "cell_type": "code",
   "execution_count": null,
   "id": "21d9a2e2-99ac-4950-af02-dfe082c72916",
   "metadata": {},
   "outputs": [],
   "source": []
  },
  {
   "cell_type": "code",
   "execution_count": null,
   "id": "d0efacb4-28d5-42c6-a87f-e8b81f50bb86",
   "metadata": {},
   "outputs": [],
   "source": [
    "\"\"\"\n",
    "3] Explain the following function:\n",
    "\n",
    "1] run() - method is the entry point for a thread.\n",
    "2] start() - is an inbuilt method of the thread class of the threading module in python. It is used to start a thread's\n",
    "              activity.This method calls the run() method internally which then executes the target method.\n",
    "3] join() - The join method provides a way for one thread to block untill another thread has finished.Threads can be \n",
    "             joined by calling the Thread.join() method.\n",
    "             \n",
    "4] isAlive() - is an inbuilt method of the thread class  of the threading module in python .It checks wheather a thread \n",
    "                is still executing."
   ]
  },
  {
   "cell_type": "code",
   "execution_count": null,
   "id": "e34517ab-a923-4737-bf1d-a203ff423f37",
   "metadata": {},
   "outputs": [],
   "source": []
  },
  {
   "cell_type": "code",
   "execution_count": null,
   "id": "faac2c25-7b6c-4747-92f7-e00dfda57b23",
   "metadata": {},
   "outputs": [],
   "source": [
    "\"\"\"\n",
    "4] Write a python program to create two threads. Thread one must print the list of squares and thread two must print\n",
    "the list of cubes."
   ]
  },
  {
   "cell_type": "code",
   "execution_count": null,
   "id": "95a3d0b8-8d1f-41cc-958f-4c45bcfa4b20",
   "metadata": {},
   "outputs": [],
   "source": [
    "import time\n",
    "def sqr(n):\n",
    "    for x in n:\n",
    "        time.sleep(1)\n",
    "        x%2\n",
    "def cube(n):\n",
    "    for x in n:\n",
    "        time.sleep(1)\n",
    "        x%3\n",
    "n = [1,2,3,4,5,6,7,8]\n",
    "s= time.time()\n",
    "x1  = sqr(n)\n",
    "x2 = cube(n)\n",
    "e = time.time()\n",
    "print(x1)\n",
    "print(x2)\n",
    "print(e-s)"
   ]
  },
  {
   "cell_type": "code",
   "execution_count": null,
   "id": "babcfcae-27f9-4b68-a0c2-a678cafb44b0",
   "metadata": {},
   "outputs": [],
   "source": [
    "\"\"\"\n",
    "5] State advantages and disadvantages of multithreading.\n",
    "answer]  ADVANTAGES\n",
    " 1) Python multithreading enables efficient utilization of the resourses as the threads share the data space and memory.\n",
    " 2) Multithreading in python allows the concurrent and parallel occurrence of various tasks.\n",
    " 3) It causes a reduction in time consumption or response time , their by increasing the performance.\n",
    "          DISADVANTAGE\n",
    "  1) Difficulty of debugging\n",
    "  2) Difficulity in writing code\n",
    "  3) Difficulity in testing\n",
    "  4) Difficulity in porting existing code"
   ]
  },
  {
   "cell_type": "code",
   "execution_count": null,
   "id": "a61fb9df-4bf9-4545-991b-cbdd3d257dba",
   "metadata": {},
   "outputs": [],
   "source": []
  },
  {
   "cell_type": "code",
   "execution_count": null,
   "id": "886d6543-b9d3-4f6e-9cd6-d35431e9b2e9",
   "metadata": {},
   "outputs": [],
   "source": [
    "\"\"\"\n",
    "6] Explain deadlocks and race conditions.\n",
    "answer] A DEAD LOCK is a concurrency failure mode where a thread or threads wait for a condition that never occurs.\n",
    "       The result is that the dead lock thread are unable to progress and the program is stuck or frozen and must \n",
    "       be terminated forcefully.\n",
    "       A race condition means that your program's result might depands on the order of execution of the individual steps.\n",
    "       This becomes essential in concurrent programs that can run multiple threads of execution simultaneously through \n",
    "       context switching and they access a shared resourses like a variable."
   ]
  },
  {
   "cell_type": "code",
   "execution_count": null,
   "id": "0723fb8f-0d2b-49b7-b538-7fa13d8f102d",
   "metadata": {},
   "outputs": [],
   "source": []
  }
 ],
 "metadata": {
  "kernelspec": {
   "display_name": "Python 3 (ipykernel)",
   "language": "python",
   "name": "python3"
  },
  "language_info": {
   "codemirror_mode": {
    "name": "ipython",
    "version": 3
   },
   "file_extension": ".py",
   "mimetype": "text/x-python",
   "name": "python",
   "nbconvert_exporter": "python",
   "pygments_lexer": "ipython3",
   "version": "3.10.6"
  }
 },
 "nbformat": 4,
 "nbformat_minor": 5
}
