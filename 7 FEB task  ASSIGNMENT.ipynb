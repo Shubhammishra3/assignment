{
 "cells": [
  {
   "cell_type": "code",
   "execution_count": null,
   "id": "bac1c301-3333-4f1b-b770-0c3c4406f73a",
   "metadata": {},
   "outputs": [],
   "source": [
    "\"\"\"                             [ TASK 2 ]\n",
    "1] YOU ARE WRITING CODE FOR A COMPANY . THE REQUIRMENT OF THE  COMPANY IS THAT YOU CREAT A PYTHON FUNCTION THAT WILL\n",
    "  check whether the password entered by the user is correct or not. The function should\n",
    "take the password as input and return the string “Valid Password” if the entered password follows the\n",
    "below-given password guidelines else it should return “Invalid Password”.\n",
    "Note: 1. The Password should contain at least two uppercase letters and at least two lowercase letters.\n",
    "2. The Password should contain at least a number and three special characters.\n",
    "3. The length of the password should be 10 characters long.\n"
   ]
  },
  {
   "cell_type": "code",
   "execution_count": 3,
   "id": "2a52d50d-e186-42c7-b8d6-e270a56e5146",
   "metadata": {},
   "outputs": [
    {
     "name": "stdout",
     "output_type": "stream",
     "text": [
      "Invalid Password!!!\n",
      "Invalid Password!!!\n"
     ]
    }
   ],
   "source": [
    "# A utility function to check\n",
    "# whether a password is valid or not\n",
    "def isValid(password):\n",
    " \n",
    "    # for checking if password length\n",
    "    # is between 8 and 15\n",
    "    if (len(password) < 10 or len(password) > 10):\n",
    "        return False\n",
    " \n",
    "    # to check space\n",
    "    if (\" \" in password):\n",
    "        return False\n",
    " \n",
    "    if (True):\n",
    "        count = 0\n",
    " \n",
    "        # check digits from 0 to 9\n",
    "        arr = ['0', '1', '2', '3',\n",
    "        '4', '5', '6', '7', '8', '9']\n",
    " \n",
    "        for i in password:\n",
    "            if i in arr:\n",
    "                count = 1\n",
    "                break\n",
    "        if count == 0:\n",
    "            return False\n",
    " \n",
    "    # for special characters\n",
    "    if True:\n",
    "        count = 0\n",
    " \n",
    "        arr = ['@', '#','!','~','$','%','^',\n",
    "                '&','*','(',',','-','+','/',\n",
    "                ':','.',',','<','>','?','|']\n",
    " \n",
    "        for i in password:\n",
    "            if i in arr:\n",
    "                count = 1\n",
    "                break\n",
    "        if count == 0:\n",
    "            return False\n",
    " \n",
    "    if True:\n",
    "        count = 0\n",
    " \n",
    "        # checking capital letters\n",
    "        for i in range(65, 91):\n",
    " \n",
    "            if chr(i) in password:\n",
    "                count = 1\n",
    " \n",
    "        if (count == 0):\n",
    "            return False\n",
    " \n",
    "    if (True):\n",
    "        count = 0\n",
    " \n",
    "        # checking small letters\n",
    "        for i in range(97, 123):\n",
    " \n",
    "            if chr(i) in password:\n",
    "                count = 1\n",
    " \n",
    "        if (count == 0):\n",
    "            return False\n",
    " \n",
    "    # if all conditions fails\n",
    "    return True\n",
    " \n",
    "# Driver code\n",
    "password1 = \"GeeksForGeeks\"\n",
    " \n",
    "if (isValid([i for i in password1])):\n",
    "    print(\"Valid Password\")\n",
    "else:\n",
    "    print(\"Invalid Password!!!\")\n",
    "password2    = \"Geek$ForGeeks7\"    \n",
    "if (isValid([i for i in password2])):\n",
    "    print(\"Valid Password\")\n",
    "else:\n",
    "    print(\"Invalid Password!!!\")\n",
    " "
   ]
  },
  {
   "cell_type": "code",
   "execution_count": null,
   "id": "b6edcf1f-4374-45cb-abd3-1567618af17a",
   "metadata": {},
   "outputs": [],
   "source": [
    "\"\"\"\n",
    "2] Solve the below given questions using at least one of the following;\n",
    "1] lambda function\n",
    "2] filter function\n",
    "3] map function\n",
    "4] list comprehension\n",
    "\n",
    "a] sort a list of integers into positive and negative integers list.\n",
    "[1,2,3,4,5,6,-1,-2,-3,-4,-5,0]"
   ]
  },
  {
   "cell_type": "code",
   "execution_count": 1,
   "id": "b6f4bdfc-0c86-4506-8c1a-ad63294273b9",
   "metadata": {},
   "outputs": [],
   "source": [
    "l = [1,2,3,4,5,6,-1,-2,-3,-4,-5,0]"
   ]
  },
  {
   "cell_type": "code",
   "execution_count": 4,
   "id": "9585b37a-5c74-4932-af61-0cb9d5a073f9",
   "metadata": {},
   "outputs": [
    {
     "data": {
      "text/plain": [
       "[1, 2, 3, 4, 5, 6, 0]"
      ]
     },
     "execution_count": 4,
     "metadata": {},
     "output_type": "execute_result"
    }
   ],
   "source": [
    "list(filter(lambda i : i >=0,l)) "
   ]
  },
  {
   "cell_type": "code",
   "execution_count": 5,
   "id": "ef005c08-43bc-444b-91bf-54fec88e37f2",
   "metadata": {},
   "outputs": [
    {
     "data": {
      "text/plain": [
       "[-1, -2, -3, -4, -5]"
      ]
     },
     "execution_count": 5,
     "metadata": {},
     "output_type": "execute_result"
    }
   ],
   "source": [
    "list(filter(lambda i: i<0 , l))"
   ]
  },
  {
   "cell_type": "code",
   "execution_count": null,
   "id": "bd654d7d-dcf7-4b23-9b34-a92190d120c0",
   "metadata": {},
   "outputs": [],
   "source": []
  },
  {
   "cell_type": "code",
   "execution_count": null,
   "id": "da74a5cf-edf9-4a8a-9908-99745ad078f1",
   "metadata": {},
   "outputs": [],
   "source": [
    "\"\"\"\n",
    "b] Filter odd number from given list.\n",
    "[1,2,3,4,5,6,7,8,9,10]"
   ]
  },
  {
   "cell_type": "code",
   "execution_count": 15,
   "id": "ff6c6d82-2cc3-49a6-b77f-40afab78d41e",
   "metadata": {},
   "outputs": [],
   "source": [
    "l = [1,2,3,4,5,6,7,8,9,10]"
   ]
  },
  {
   "cell_type": "code",
   "execution_count": 16,
   "id": "651b69cf-c8ad-43dd-8c9e-cd0f68e06dfd",
   "metadata": {},
   "outputs": [
    {
     "data": {
      "text/plain": [
       "[1, 3, 5, 7, 9]"
      ]
     },
     "execution_count": 16,
     "metadata": {},
     "output_type": "execute_result"
    }
   ],
   "source": [
    "[i for i in l if i%2 != 0]"
   ]
  },
  {
   "cell_type": "code",
   "execution_count": 21,
   "id": "bc335a18-d680-4daa-a09e-8dadf8d3e2b2",
   "metadata": {},
   "outputs": [
    {
     "data": {
      "text/plain": [
       "[1, 3, 5, 7, 9]"
      ]
     },
     "execution_count": 21,
     "metadata": {},
     "output_type": "execute_result"
    }
   ],
   "source": [
    "list(filter(lambda i : i % 2 != 0, l))"
   ]
  },
  {
   "cell_type": "code",
   "execution_count": null,
   "id": "5fe82628-172e-487d-834f-46481bf69ffb",
   "metadata": {},
   "outputs": [],
   "source": []
  },
  {
   "cell_type": "code",
   "execution_count": null,
   "id": "bd7cbfde-3be1-4284-ab2f-40eb72712385",
   "metadata": {},
   "outputs": [],
   "source": [
    "\"\"\"\n",
    "c] Check if a given number is even."
   ]
  },
  {
   "cell_type": "code",
   "execution_count": 37,
   "id": "2165d760-691d-4a49-a6d4-f1b2976ebb18",
   "metadata": {},
   "outputs": [],
   "source": [
    "even = lambda i : i%2 == 0"
   ]
  },
  {
   "cell_type": "code",
   "execution_count": 40,
   "id": "4c529d2e-92b4-4ab2-865c-4faf5fb81ae9",
   "metadata": {},
   "outputs": [
    {
     "data": {
      "text/plain": [
       "True"
      ]
     },
     "execution_count": 40,
     "metadata": {},
     "output_type": "execute_result"
    }
   ],
   "source": [
    "even(44)\n",
    "    "
   ]
  },
  {
   "cell_type": "code",
   "execution_count": 45,
   "id": "2467814b-812f-4a48-a378-bb77e4cc8428",
   "metadata": {},
   "outputs": [
    {
     "name": "stdin",
     "output_type": "stream",
     "text": [
      "enter the number 44\n"
     ]
    },
    {
     "data": {
      "text/plain": [
       "[44, True]"
      ]
     },
     "execution_count": 45,
     "metadata": {},
     "output_type": "execute_result"
    }
   ],
   "source": [
    "number = int(input(\"enter the number\"))\n",
    "[number ,  number % 2 ==0]"
   ]
  },
  {
   "cell_type": "code",
   "execution_count": null,
   "id": "582e7ca3-cc5d-450b-bb2a-0ef2dde38d95",
   "metadata": {},
   "outputs": [],
   "source": [
    "\"\"\"\n",
    "d] Find cube root of numbers from 1 to 10?"
   ]
  },
  {
   "cell_type": "code",
   "execution_count": 61,
   "id": "4fdd95dd-66aa-49e0-85e0-ef3afbf17bf8",
   "metadata": {},
   "outputs": [],
   "source": [
    "l =[ 1,2,3,4,5,6,7,8,9,10.0]"
   ]
  },
  {
   "cell_type": "code",
   "execution_count": 57,
   "id": "6f695094-9fbb-4a6e-846a-c55b99eba836",
   "metadata": {},
   "outputs": [
    {
     "data": {
      "text/plain": [
       "[1.0,\n",
       " 1.2599210498948732,\n",
       " 1.4422495703074083,\n",
       " 1.5874010519681994,\n",
       " 1.7099759466766968,\n",
       " 1.8171205928321397,\n",
       " 1.912931182772389,\n",
       " 2.0,\n",
       " 2.080083823051904,\n",
       " 2.154434690031884]"
      ]
     },
     "execution_count": 57,
     "metadata": {},
     "output_type": "execute_result"
    }
   ],
   "source": [
    "list(map(lambda i : pow(i,1/3) , l))"
   ]
  },
  {
   "cell_type": "code",
   "execution_count": 58,
   "id": "9b8d7b77-e876-48e6-9b5d-bda1b4e43a4d",
   "metadata": {},
   "outputs": [
    {
     "data": {
      "text/plain": [
       "[1.0,\n",
       " 1.2599210498948732,\n",
       " 1.4422495703074083,\n",
       " 1.5874010519681994,\n",
       " 1.7099759466766968,\n",
       " 1.8171205928321397,\n",
       " 1.912931182772389,\n",
       " 2.0,\n",
       " 2.080083823051904,\n",
       " 2.154434690031884]"
      ]
     },
     "execution_count": 58,
     "metadata": {},
     "output_type": "execute_result"
    }
   ],
   "source": [
    "[pow(i,1/3) for i in l ]"
   ]
  },
  {
   "cell_type": "code",
   "execution_count": null,
   "id": "4a260038-e470-498a-806e-ccbe5f4ef58b",
   "metadata": {},
   "outputs": [],
   "source": []
  },
  {
   "cell_type": "code",
   "execution_count": null,
   "id": "7c9e7754-7628-4cad-a7f4-bc1e3aa46ce8",
   "metadata": {},
   "outputs": [],
   "source": [
    "\"\"\"\n",
    "e] Find the square of numbers from 1 to 10."
   ]
  },
  {
   "cell_type": "code",
   "execution_count": 76,
   "id": "3ed51659-cb4a-4055-875d-ca467777b725",
   "metadata": {},
   "outputs": [],
   "source": [
    "l = [1,2,3,4,5,6,7,8,9,10]"
   ]
  },
  {
   "cell_type": "code",
   "execution_count": 69,
   "id": "2d675ff5-bd36-4aa8-b029-b1265e4624b1",
   "metadata": {},
   "outputs": [
    {
     "data": {
      "text/plain": [
       "[1, 4, 9, 16, 25, 36, 49, 64, 81, 100]"
      ]
     },
     "execution_count": 69,
     "metadata": {},
     "output_type": "execute_result"
    }
   ],
   "source": [
    "[i**2 for i in l ]"
   ]
  },
  {
   "cell_type": "code",
   "execution_count": 77,
   "id": "e0409063-6ec2-45a8-a750-b08dd82dafc8",
   "metadata": {},
   "outputs": [
    {
     "data": {
      "text/plain": [
       "[1, 4, 9, 16, 25, 36, 49, 64, 81, 100]"
      ]
     },
     "execution_count": 77,
     "metadata": {},
     "output_type": "execute_result"
    }
   ],
   "source": [
    "list(map(lambda i: i**2,l))"
   ]
  },
  {
   "cell_type": "code",
   "execution_count": null,
   "id": "939fb4cc-5128-4d8a-b73c-8129266939e3",
   "metadata": {},
   "outputs": [],
   "source": []
  },
  {
   "cell_type": "code",
   "execution_count": null,
   "id": "9c505e9d-6157-4f5f-b736-1dfb53fd2118",
   "metadata": {},
   "outputs": [],
   "source": [
    "\"\"\"\n",
    "f] Sort a list of tuples having fruit name and their quantity.[(\"mango\" ,99),(\"orange\",80),(\"grapes\" , 1000)]"
   ]
  },
  {
   "cell_type": "code",
   "execution_count": 78,
   "id": "e3b31067-db46-494e-b0c8-b538b591b929",
   "metadata": {},
   "outputs": [],
   "source": [
    " l = [(\"mango\" ,99),(\"orange\",80),(\"grapes\" , 1000)]"
   ]
  },
  {
   "cell_type": "code",
   "execution_count": null,
   "id": "18422dd3-fd01-46a5-bfb6-f8b448c7be7e",
   "metadata": {},
   "outputs": [],
   "source": [
    "list(filter(lambda i : i.isnumeric() , l))"
   ]
  },
  {
   "cell_type": "code",
   "execution_count": null,
   "id": "6ef9a752-e396-47fe-8a3f-4e223e407e15",
   "metadata": {},
   "outputs": [],
   "source": [
    "\"\"\"\n",
    "g] Check if the string is numeric."
   ]
  },
  {
   "cell_type": "code",
   "execution_count": 8,
   "id": "a23c45f4-d12a-4535-b759-c4555f4292ae",
   "metadata": {},
   "outputs": [],
   "source": [
    "l4 = lambda string : string.isnumeric()"
   ]
  },
  {
   "cell_type": "code",
   "execution_count": 14,
   "id": "be17a65f-d1e1-40c4-a66e-4a9cee28b836",
   "metadata": {},
   "outputs": [
    {
     "data": {
      "text/plain": [
       "False"
      ]
     },
     "execution_count": 14,
     "metadata": {},
     "output_type": "execute_result"
    }
   ],
   "source": [
    "l4(\"shubham\")"
   ]
  },
  {
   "cell_type": "code",
   "execution_count": null,
   "id": "f7d12924-633a-438f-8998-3683726b665f",
   "metadata": {},
   "outputs": [],
   "source": []
  },
  {
   "cell_type": "code",
   "execution_count": null,
   "id": "e71eaab7-cf5b-469e-a7e8-6e6f6d5eeaff",
   "metadata": {},
   "outputs": [],
   "source": [
    "\"\"\"\n",
    "h] Check if the string start with a particular letter."
   ]
  },
  {
   "cell_type": "code",
   "execution_count": 3,
   "id": "8912bb7f-631f-4c72-b1c8-7d624953961e",
   "metadata": {},
   "outputs": [],
   "source": [
    "l5 = lambda string: string.startswith(\"s\")"
   ]
  },
  {
   "cell_type": "code",
   "execution_count": 4,
   "id": "be39c99b-02ab-403c-a45d-2299df3903ec",
   "metadata": {},
   "outputs": [
    {
     "data": {
      "text/plain": [
       "True"
      ]
     },
     "execution_count": 4,
     "metadata": {},
     "output_type": "execute_result"
    }
   ],
   "source": [
    "l5(\"shubham\")"
   ]
  },
  {
   "cell_type": "code",
   "execution_count": null,
   "id": "9f685b5d-bc25-4495-8286-961dee30d939",
   "metadata": {},
   "outputs": [],
   "source": []
  },
  {
   "cell_type": "code",
   "execution_count": null,
   "id": "b618dad7-cd0b-4fee-af09-cc7cf1a3518d",
   "metadata": {},
   "outputs": [],
   "source": []
  }
 ],
 "metadata": {
  "kernelspec": {
   "display_name": "Python 3 (ipykernel)",
   "language": "python",
   "name": "python3"
  },
  "language_info": {
   "codemirror_mode": {
    "name": "ipython",
    "version": 3
   },
   "file_extension": ".py",
   "mimetype": "text/x-python",
   "name": "python",
   "nbconvert_exporter": "python",
   "pygments_lexer": "ipython3",
   "version": "3.10.6"
  }
 },
 "nbformat": 4,
 "nbformat_minor": 5
}
