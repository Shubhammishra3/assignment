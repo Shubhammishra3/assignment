{
 "cells": [
  {
   "cell_type": "code",
   "execution_count": null,
   "id": "3eb28340-cff9-461d-ac94-e111e4c803a0",
   "metadata": {},
   "outputs": [],
   "source": [
    "\"\"\"                         \n",
    "                              [ASSIGNMENT 5 FEB.]\n",
    "1] Explain class and objects with respect to objects-oriented programming. give example.\n",
    "\n",
    "\n",
    "ANSWER]             CLASS IN PYTHON\n",
    "A class is considered as blue print of objects . we can think of class as a prototype of a house which \n",
    "contains all the details about the floors , doors, windows etc. Based on these description we build the\n",
    "house. House is object. We use class key word to create a class in python.\n",
    "                     \n",
    "                     OBJECT IN PYTHON\n",
    "An object is called an instance of a class . For example , suppose bike is a class then we can create objects\n",
    "like bike 1 , bike 2, etc from the class                                                                            \"\"\""
   ]
  },
  {
   "cell_type": "code",
   "execution_count": 19,
   "id": "2ff3ba7f-5281-4880-8b65-1c80ec58b851",
   "metadata": {},
   "outputs": [],
   "source": [
    "class test:                                # CLASS\n",
    "    def test_meth(self):\n",
    "        return \" this is my first class\"             \n",
    "    "
   ]
  },
  {
   "cell_type": "code",
   "execution_count": 20,
   "id": "dd41784e-f400-450f-9acd-5b1724c9c6d1",
   "metadata": {},
   "outputs": [],
   "source": [
    "class child_test(test):\n",
    "    pass"
   ]
  },
  {
   "cell_type": "code",
   "execution_count": 21,
   "id": "cd30e21d-05c1-4b1d-ba2e-8edcdc0828d9",
   "metadata": {},
   "outputs": [],
   "source": [
    "child_test_obj = child_test()          #    OBJECT"
   ]
  },
  {
   "cell_type": "code",
   "execution_count": 23,
   "id": "5b910e7f-292c-4647-87cb-ec6a6a503562",
   "metadata": {},
   "outputs": [
    {
     "data": {
      "text/plain": [
       "' this is my first class'"
      ]
     },
     "execution_count": 23,
     "metadata": {},
     "output_type": "execute_result"
    }
   ],
   "source": [
    "child_test_obj.test_meth()"
   ]
  },
  {
   "cell_type": "code",
   "execution_count": null,
   "id": "a03df110-af99-4158-927b-059cfaf14fb9",
   "metadata": {},
   "outputs": [],
   "source": []
  },
  {
   "cell_type": "code",
   "execution_count": null,
   "id": "7622b4b5-eddc-41fe-8c89-7c0a3c6df872",
   "metadata": {},
   "outputs": [],
   "source": [
    "\"\"\"\n",
    "2] Name the four pillers of oops?\n",
    "ANSWER] The four pillers of oops are \n",
    "a] Inheritance\n",
    "b] Polymorphism\n",
    "c] Encapsulation  \n",
    "d] Abstraction                                                \"\"\""
   ]
  },
  {
   "cell_type": "code",
   "execution_count": null,
   "id": "ca020330-1e3d-4c7f-a05a-5e8fa05f6a57",
   "metadata": {},
   "outputs": [],
   "source": [
    "\"\"\"\n",
    "3] Explain why the __ init__() function is used. give example?\n",
    "\n",
    "ANSWER] In an object oriented programming, the __init__ methods in the python equivalent of the c++ constructws.\n",
    "Every time an object is created from a class __init__ function is called .The __init__ methods only allow the class\n",
    "to initialize the objects attributes. It is only used within class.                                          \"\"\""
   ]
  },
  {
   "cell_type": "code",
   "execution_count": 25,
   "id": "51ac9bce-85b8-4a25-9e61-fe1933639567",
   "metadata": {},
   "outputs": [],
   "source": [
    "class test:\n",
    "    def __init__(self , a , b):\n",
    "        self.a = a\n",
    "        self.b = b\n",
    "        "
   ]
  },
  {
   "cell_type": "code",
   "execution_count": 26,
   "id": "8b0548bc-8361-442c-ba54-9a200652474d",
   "metadata": {},
   "outputs": [],
   "source": [
    "test = test(24 , 34)"
   ]
  },
  {
   "cell_type": "code",
   "execution_count": 27,
   "id": "73827570-1ceb-421f-9e4f-25e8b6caec6f",
   "metadata": {},
   "outputs": [
    {
     "data": {
      "text/plain": [
       "24"
      ]
     },
     "execution_count": 27,
     "metadata": {},
     "output_type": "execute_result"
    }
   ],
   "source": [
    "test.a"
   ]
  },
  {
   "cell_type": "code",
   "execution_count": 28,
   "id": "8f8418a1-1066-4d71-8075-f4a4c72bc869",
   "metadata": {},
   "outputs": [
    {
     "data": {
      "text/plain": [
       "34"
      ]
     },
     "execution_count": 28,
     "metadata": {},
     "output_type": "execute_result"
    }
   ],
   "source": [
    "test.b"
   ]
  },
  {
   "cell_type": "code",
   "execution_count": null,
   "id": "c80a9752-4098-4da6-bd6c-d4ed98a792dd",
   "metadata": {},
   "outputs": [],
   "source": []
  },
  {
   "cell_type": "code",
   "execution_count": null,
   "id": "3f6b25c4-8f2c-4c66-ae03-2f17b4d962c5",
   "metadata": {},
   "outputs": [],
   "source": []
  },
  {
   "cell_type": "code",
   "execution_count": null,
   "id": "57d59867-304e-468f-80e2-92b45f972576",
   "metadata": {},
   "outputs": [],
   "source": []
  },
  {
   "cell_type": "code",
   "execution_count": null,
   "id": "dd8141f6-3a42-4507-95ae-fd3aebe0932f",
   "metadata": {},
   "outputs": [],
   "source": [
    "\"\"\"\n",
    "4] Why self is used in oops?\n",
    "\n",
    "ANSWER] The self is used to represent the instance of the class . With this keyword , we can access the attributes and\n",
    "methods of the class in python . It binds the attributes with the given arguments. The reason why we use self is that\n",
    "python does not use the @ syntex to refer to instance attributes.                               \"\"\""
   ]
  },
  {
   "cell_type": "code",
   "execution_count": null,
   "id": "92059f8b-a799-4175-bbab-9a70eac683da",
   "metadata": {},
   "outputs": [],
   "source": []
  },
  {
   "cell_type": "code",
   "execution_count": null,
   "id": "9e06336b-c7b9-461e-8e96-7f65b54e42b7",
   "metadata": {},
   "outputs": [],
   "source": [
    "\"\"\"\n",
    "5] What is inheritence ? give an example for each type of inheritence.\n",
    "ANSWER]Inheritence allows us to define a class that inherits from another class , also called derived class.   \"\"\"\n",
    "           TYPES OF INHERITENCE\n",
    "1] Single level inheritence   \n",
    "2] Multiple inheritance\n",
    "3] Multilevel inheritence\n",
    "4] Hierarchical inheritence\n",
    "5] Hybrid inheritence                                                                                  \"\"\" "
   ]
  },
  {
   "cell_type": "code",
   "execution_count": null,
   "id": "5b9a02ae-cac9-433a-970e-99cffd36fc5a",
   "metadata": {},
   "outputs": [],
   "source": [
    "\"\"\"                      Single level inheritence"
   ]
  },
  {
   "cell_type": "code",
   "execution_count": 29,
   "id": "1de205dd-cb2e-4305-b47b-054701ac3299",
   "metadata": {},
   "outputs": [],
   "source": [
    "class test:                                # CLASS\n",
    "    def test_meth(self):\n",
    "        return \" this is my first class\"             \n",
    "    "
   ]
  },
  {
   "cell_type": "code",
   "execution_count": 30,
   "id": "aadc1aed-3504-4c02-bb74-f5f8da566642",
   "metadata": {},
   "outputs": [],
   "source": [
    "class child_test(test):\n",
    "    pass"
   ]
  },
  {
   "cell_type": "code",
   "execution_count": 31,
   "id": "f561eceb-e202-43e0-b3d6-3086119410ca",
   "metadata": {},
   "outputs": [],
   "source": [
    "child_test_obj = child_test()          #    OBJECT"
   ]
  },
  {
   "cell_type": "code",
   "execution_count": 32,
   "id": "a53db55b-c34f-490e-8910-6677e56d4a8d",
   "metadata": {},
   "outputs": [
    {
     "data": {
      "text/plain": [
       "' this is my first class'"
      ]
     },
     "execution_count": 32,
     "metadata": {},
     "output_type": "execute_result"
    }
   ],
   "source": [
    "child_test_obj.test_meth()"
   ]
  },
  {
   "cell_type": "code",
   "execution_count": null,
   "id": "f5bf68d1-4a7d-402a-bc83-6bbd67685497",
   "metadata": {},
   "outputs": [],
   "source": [
    "\"\"\"                    MULTILEVEL INHERITENCE"
   ]
  },
  {
   "cell_type": "code",
   "execution_count": 33,
   "id": "6ef55dc4-608f-4b94-b99a-edc1d47cde6d",
   "metadata": {},
   "outputs": [],
   "source": [
    "class class1:\n",
    "    def test_class1(self):\n",
    "        return \" this is parent class\""
   ]
  },
  {
   "cell_type": "code",
   "execution_count": 34,
   "id": "4937b18b-db7e-4bf8-9b6a-6fc243784582",
   "metadata": {},
   "outputs": [],
   "source": [
    "class class2(class1):\n",
    "    def test_class2(self):\n",
    "        return \" this is my son class\""
   ]
  },
  {
   "cell_type": "code",
   "execution_count": 35,
   "id": "a196a7ee-a7da-4672-beb2-9a0f36d3c7cc",
   "metadata": {},
   "outputs": [],
   "source": [
    "class class3(class2):\n",
    "    pass"
   ]
  },
  {
   "cell_type": "code",
   "execution_count": 36,
   "id": "6650be3a-6111-4e9b-9c6f-bc3b31aefb88",
   "metadata": {},
   "outputs": [],
   "source": [
    "obj_class3 = class3()"
   ]
  },
  {
   "cell_type": "code",
   "execution_count": 38,
   "id": "16c11db7-47dc-48da-b541-817b5a8695fd",
   "metadata": {},
   "outputs": [
    {
     "data": {
      "text/plain": [
       "' this is parent class'"
      ]
     },
     "execution_count": 38,
     "metadata": {},
     "output_type": "execute_result"
    }
   ],
   "source": [
    "obj_class3.test_class1()"
   ]
  },
  {
   "cell_type": "code",
   "execution_count": 39,
   "id": "33579a47-ac5e-47bc-9590-95f3afc4aff9",
   "metadata": {},
   "outputs": [
    {
     "data": {
      "text/plain": [
       "' this is my son class'"
      ]
     },
     "execution_count": 39,
     "metadata": {},
     "output_type": "execute_result"
    }
   ],
   "source": [
    "obj_class3.test_class2()"
   ]
  },
  {
   "cell_type": "code",
   "execution_count": null,
   "id": "1a2a1adc-6d2a-41af-a065-6bfa5cceebc9",
   "metadata": {},
   "outputs": [],
   "source": [
    "\"\"\"                        MULTIPLE INHERITENCE"
   ]
  },
  {
   "cell_type": "code",
   "execution_count": 40,
   "id": "90cc39d6-8183-43a5-bbbd-a97c0b887172",
   "metadata": {},
   "outputs": [],
   "source": [
    "class class1:\n",
    "    def shubham(self):\n",
    "        return\" my name is shubham\""
   ]
  },
  {
   "cell_type": "code",
   "execution_count": 41,
   "id": "f33d7391-5ec9-44d3-bcdf-df9e4d841a2e",
   "metadata": {},
   "outputs": [],
   "source": [
    "class class2:\n",
    "    def mishra(self):\n",
    "        return\" my sirname is mishra\"\n",
    "    "
   ]
  },
  {
   "cell_type": "code",
   "execution_count": 42,
   "id": "f936cc5f-1210-4979-84e8-95aa434df9b1",
   "metadata": {},
   "outputs": [],
   "source": [
    "class class3(class1,class2):\n",
    "    def full_name(self):\n",
    "        return \" my full name is shubham mishra\""
   ]
  },
  {
   "cell_type": "code",
   "execution_count": 43,
   "id": "bc5e905f-20df-4002-8a3c-a25efba2faa9",
   "metadata": {},
   "outputs": [],
   "source": [
    "object_class3 = class3()"
   ]
  },
  {
   "cell_type": "code",
   "execution_count": 44,
   "id": "7b48d41d-5cb1-4ee4-a4da-a761540e0b7f",
   "metadata": {},
   "outputs": [
    {
     "data": {
      "text/plain": [
       "' my name is shubham'"
      ]
     },
     "execution_count": 44,
     "metadata": {},
     "output_type": "execute_result"
    }
   ],
   "source": [
    "object_class3.shubham()"
   ]
  },
  {
   "cell_type": "code",
   "execution_count": 45,
   "id": "7787f77d-9d37-4d9e-9b77-d49ba08df54f",
   "metadata": {},
   "outputs": [
    {
     "data": {
      "text/plain": [
       "' my full name is shubham mishra'"
      ]
     },
     "execution_count": 45,
     "metadata": {},
     "output_type": "execute_result"
    }
   ],
   "source": [
    "object_class3.full_name()"
   ]
  },
  {
   "cell_type": "code",
   "execution_count": null,
   "id": "fbe8572f-5f8d-47aa-88a8-49aea470a995",
   "metadata": {},
   "outputs": [],
   "source": [
    "\"\"\"                             HIERARCHICAL INHERITANCE"
   ]
  },
  {
   "cell_type": "code",
   "execution_count": 46,
   "id": "9ca7c8f6-b4bb-424d-94fa-c28bfeb8c9d1",
   "metadata": {},
   "outputs": [],
   "source": [
    "class class1:\n",
    "    def message1(self):\n",
    "        return \" this is class1\""
   ]
  },
  {
   "cell_type": "code",
   "execution_count": 48,
   "id": "99d30aba-6834-4d8a-95d6-1b199e419960",
   "metadata": {},
   "outputs": [],
   "source": [
    "class class2(class1):\n",
    "    def message2(self):\n",
    "        return \" this is class 2\""
   ]
  },
  {
   "cell_type": "code",
   "execution_count": 49,
   "id": "770ec8fc-0d01-43d4-af4b-52e1b2f70105",
   "metadata": {},
   "outputs": [],
   "source": [
    "class class3(class1):\n",
    "    def message3(self):\n",
    "        return \" this is my class3\""
   ]
  },
  {
   "cell_type": "code",
   "execution_count": 50,
   "id": "2d509ef5-531e-4644-ac0d-be56caf66bf5",
   "metadata": {},
   "outputs": [],
   "source": [
    "class class4(class1):\n",
    "    def message4(self):\n",
    "        return \" this is my class 4\""
   ]
  },
  {
   "cell_type": "code",
   "execution_count": 52,
   "id": "08a2f140-ca10-4cb1-8d10-f1eedea1e9ab",
   "metadata": {},
   "outputs": [],
   "source": [
    "obj_class4 = class4()"
   ]
  },
  {
   "cell_type": "code",
   "execution_count": 55,
   "id": "028d69f5-98a2-4019-ae79-c9544fcb5e93",
   "metadata": {},
   "outputs": [
    {
     "data": {
      "text/plain": [
       "' this is class1'"
      ]
     },
     "execution_count": 55,
     "metadata": {},
     "output_type": "execute_result"
    }
   ],
   "source": [
    "obj_class4.message1()"
   ]
  },
  {
   "cell_type": "code",
   "execution_count": null,
   "id": "a4bf0257-3f45-4985-9d22-3130b779b1c6",
   "metadata": {},
   "outputs": [],
   "source": [
    "\"\"\"                        HYBRID INHERITANCE"
   ]
  },
  {
   "cell_type": "code",
   "execution_count": 56,
   "id": "e555b99e-517f-47d8-9f4d-137b6f219962",
   "metadata": {},
   "outputs": [],
   "source": [
    "class school:\n",
    "    def fun1(self):\n",
    "        return \" this is school class\""
   ]
  },
  {
   "cell_type": "code",
   "execution_count": 57,
   "id": "94c18708-5449-4872-b1fc-cdd24e45b3b3",
   "metadata": {},
   "outputs": [],
   "source": [
    "class teacher1(school):\n",
    "    def fun2(self):\n",
    "        return \" this is my teacher class\""
   ]
  },
  {
   "cell_type": "code",
   "execution_count": 58,
   "id": "887813eb-56de-436a-a54e-91325c29e2c5",
   "metadata": {},
   "outputs": [],
   "source": [
    "class teacher2(school):\n",
    "    def fun3(self):\n",
    "        return \" this is my teacher class 2\""
   ]
  },
  {
   "cell_type": "code",
   "execution_count": 59,
   "id": "9522cd40-cc24-47b0-99f1-678b1e06fa8b",
   "metadata": {},
   "outputs": [],
   "source": [
    "class student(teacher1,teacher2):\n",
    "    def fun4(self):\n",
    "        return \"this is my student class\""
   ]
  },
  {
   "cell_type": "code",
   "execution_count": 60,
   "id": "e0fdc2c8-cc69-47da-b712-968ec1abd6e9",
   "metadata": {},
   "outputs": [],
   "source": [
    "object_student = student()"
   ]
  },
  {
   "cell_type": "code",
   "execution_count": 64,
   "id": "33e4df55-263a-4160-81a6-f6d8afd71b5a",
   "metadata": {},
   "outputs": [
    {
     "data": {
      "text/plain": [
       "' this is school class'"
      ]
     },
     "execution_count": 64,
     "metadata": {},
     "output_type": "execute_result"
    }
   ],
   "source": [
    "object_student.fun1()"
   ]
  },
  {
   "cell_type": "code",
   "execution_count": null,
   "id": "484809ff-d0d1-4004-a037-f74ee2817766",
   "metadata": {},
   "outputs": [],
   "source": []
  }
 ],
 "metadata": {
  "kernelspec": {
   "display_name": "Python 3 (ipykernel)",
   "language": "python",
   "name": "python3"
  },
  "language_info": {
   "codemirror_mode": {
    "name": "ipython",
    "version": 3
   },
   "file_extension": ".py",
   "mimetype": "text/x-python",
   "name": "python",
   "nbconvert_exporter": "python",
   "pygments_lexer": "ipython3",
   "version": "3.10.6"
  }
 },
 "nbformat": 4,
 "nbformat_minor": 5
}
