{
 "cells": [
  {
   "cell_type": "code",
   "execution_count": null,
   "id": "f510d37f-0a47-4c3e-8b9d-da17c36f1515",
   "metadata": {},
   "outputs": [],
   "source": [
    "\"\"\"                                    [ASSIGNMENT] \n",
    "Q1. What are the three measures of central tendency?\n",
    "\n",
    "ANSWER] A measure of central tendency (also referred to as measures of centre or central location) is a summary measure that \n",
    "attempts to describe a whole set of data with a single value that represents the middle or centre of its distribution.\n",
    "There are three main measures of central tendency:\n",
    "\n",
    "mode  : The mode is the most commonly occurring value in a distribution.\n",
    "median  : The median is the middle value in distribution when the values are arranged in ascending or descending order.\n",
    "mean : The mean is the sum of the value of each observation in a dataset divided by the number of observations. This is also\n",
    "known as the arithmetic average. "
   ]
  },
  {
   "cell_type": "code",
   "execution_count": null,
   "id": "8bfedf9c-0c10-42e9-9cf7-150b9f0e6dd8",
   "metadata": {},
   "outputs": [],
   "source": [
    "\"\"\"\n",
    "Q2. What is the difference between the mean, median, and mode? How are they used to measure the\n",
    "central tendency of a dataset?\n",
    "\n",
    "ANSWER]There are three main measures of central tendency:\n",
    "\n",
    "mode  : The mode is the most commonly occurring value in a distribution.\n",
    "\n",
    "median  : The median is the middle value in distribution when the values are arranged in ascending or descending order.\n",
    "mean : The mean is the sum of the value of each observation in a dataset divided by the number of observations. This is also\n",
    "known as the arithmetic average. \n",
    "Looking at the retirement age distribution again: \n",
    "\n",
    "54, 54, 54, 55, 56, 57, 57, 58, 58, 60, 60\n",
    "\n",
    "The mean is calculated by adding together all the values (54+54+54+55+56+57+57+58+58+60+60 = 623) and dividing by the number\n",
    "of observations (11) which equals 56.6 years."
   ]
  },
  {
   "cell_type": "code",
   "execution_count": null,
   "id": "8a5eda3a-61f7-4da5-bd9b-7dbf5a06d8df",
   "metadata": {},
   "outputs": [],
   "source": [
    "\"\"\"\n",
    "Q3. Measure the three measures of central tendency for the given height data:\n",
    "[178,177,176,177,178.2,178,175,179,180,175,178.9,176.2,177,172.5,178,176.5]"
   ]
  },
  {
   "cell_type": "code",
   "execution_count": 2,
   "id": "9a1dea71-7b72-4481-9c50-a7b94bfd5b3f",
   "metadata": {},
   "outputs": [],
   "source": [
    " data = [178,177,176,177,178.2,178,175,179,180,175,178.9,176.2,177,172.5,178,176.5]"
   ]
  },
  {
   "cell_type": "code",
   "execution_count": 3,
   "id": "47a015ce-356d-4c83-9ab3-953dc77b9535",
   "metadata": {},
   "outputs": [
    {
     "data": {
      "text/plain": [
       "177.01875"
      ]
     },
     "execution_count": 3,
     "metadata": {},
     "output_type": "execute_result"
    }
   ],
   "source": [
    "import numpy as np\n",
    "np.mean(data)"
   ]
  },
  {
   "cell_type": "code",
   "execution_count": 4,
   "id": "e68905cf-31d2-4d28-89f7-1aaa1b751cea",
   "metadata": {},
   "outputs": [
    {
     "data": {
      "text/plain": [
       "177.0"
      ]
     },
     "execution_count": 4,
     "metadata": {},
     "output_type": "execute_result"
    }
   ],
   "source": [
    "np.median(data)"
   ]
  },
  {
   "cell_type": "code",
   "execution_count": 5,
   "id": "7fcbd03d-7dfa-4ee5-a769-8e12fd4989bf",
   "metadata": {},
   "outputs": [
    {
     "name": "stderr",
     "output_type": "stream",
     "text": [
      "/tmp/ipykernel_204/4053617249.py:2: FutureWarning: Unlike other reduction functions (e.g. `skew`, `kurtosis`), the default behavior of `mode` typically preserves the axis it acts along. In SciPy 1.11.0, this behavior will change: the default value of `keepdims` will become False, the `axis` over which the statistic is taken will be eliminated, and the value None will no longer be accepted. Set `keepdims` to True or False to avoid this warning.\n",
      "  stats.mode(data)\n"
     ]
    },
    {
     "data": {
      "text/plain": [
       "ModeResult(mode=array([177.]), count=array([3]))"
      ]
     },
     "execution_count": 5,
     "metadata": {},
     "output_type": "execute_result"
    }
   ],
   "source": [
    "from scipy import stats\n",
    "stats.mode(data)\n",
    "\n"
   ]
  },
  {
   "cell_type": "code",
   "execution_count": null,
   "id": "68a43a2f-b1c0-457e-b53b-246d4978cc8f",
   "metadata": {},
   "outputs": [],
   "source": []
  },
  {
   "cell_type": "code",
   "execution_count": null,
   "id": "d26b6a99-d9ca-4522-b0ff-6c77aa897d94",
   "metadata": {},
   "outputs": [],
   "source": [
    "\"\"\"\n",
    "Q4. Find the standard deviation for the given data:\n",
    "[178,177,176,177,178.2,178,175,179,180,175,178.9,176.2,177,172.5,178,176.5]\n"
   ]
  },
  {
   "cell_type": "code",
   "execution_count": 8,
   "id": "62b9bac1-1257-4666-8345-c8a43f432ef7",
   "metadata": {},
   "outputs": [],
   "source": [
    "data1 = [178,177,176,177,178.2,178,175,179,180,175,178.9,176.2,177,172.5,178,176.5]\n"
   ]
  },
  {
   "cell_type": "code",
   "execution_count": 7,
   "id": "546c29e2-9b3b-4993-ad72-c0800f4de554",
   "metadata": {},
   "outputs": [
    {
     "data": {
      "text/plain": [
       "1.7885814036548633"
      ]
     },
     "execution_count": 7,
     "metadata": {},
     "output_type": "execute_result"
    }
   ],
   "source": [
    "import numpy as np\n",
    "np.std(data1)"
   ]
  },
  {
   "cell_type": "code",
   "execution_count": null,
   "id": "9bb3ba8f-34ce-49c2-9ec1-88a8809ec113",
   "metadata": {},
   "outputs": [],
   "source": [
    "\"\"\"\n",
    "Q5. How are measures of dispersion such as range, variance, and standard deviation used to describe\n",
    "the spread of a dataset? Provide an example\n",
    "\n",
    "answer] A  measure of dispersion indicates the scattering of data. It explains the disparity of data from one another,\n",
    "delivering a precise view of their distribution. The measure of dispersion displays and gives us an idea about the variation \n",
    "and the central value of an individual item.\n",
    "RANGE\n",
    "The range is the difference between the largest and the smallest observation in the data. The prime advantage of this measure\n",
    "of dispersion is that it is easy to calculate. \n",
    "Standard deviation (SD) is the most commonly used measure of dispersion. It is a measure of spread of data about the mean.\n",
    "SD is the square root of sum of squared deviation from the mean divided by the number of observations.\n",
    "Variance is a measure of how data points differ from the mean. According to Layman, a variance is a measure of how far a set\n",
    "of data (numbers) are spread out from their mean (average) value.\n",
    "data1 = [178,177,176,177,178.2,178,175,179,180,175,178.9,176.2,177,172.5,178,176.5]\n"
   ]
  },
  {
   "cell_type": "code",
   "execution_count": 9,
   "id": "65c6d047-a618-4600-9026-f25804f72ef4",
   "metadata": {},
   "outputs": [
    {
     "data": {
      "text/plain": [
       "1.7885814036548633"
      ]
     },
     "execution_count": 9,
     "metadata": {},
     "output_type": "execute_result"
    }
   ],
   "source": [
    "import numpy as np\n",
    "np.std(data1)"
   ]
  },
  {
   "cell_type": "code",
   "execution_count": 10,
   "id": "5f1d39c0-0ab2-41e5-ad0a-e4bf026a4e09",
   "metadata": {},
   "outputs": [
    {
     "data": {
      "text/plain": [
       "3.199023437500001"
      ]
     },
     "execution_count": 10,
     "metadata": {},
     "output_type": "execute_result"
    }
   ],
   "source": [
    "import numpy as np\n",
    "np.var(data1)"
   ]
  },
  {
   "cell_type": "code",
   "execution_count": null,
   "id": "738ae58d-655b-4e8d-b100-f31bb35232e2",
   "metadata": {},
   "outputs": [],
   "source": []
  },
  {
   "cell_type": "code",
   "execution_count": null,
   "id": "667cbe0e-74a0-4b29-86c1-1cc34475738e",
   "metadata": {},
   "outputs": [],
   "source": [
    "\"\"\"\n",
    "Q6. What is a Venn diagram?\n",
    "\n",
    "answer]A Venn diagram is an illustration that uses circles to show the relationships among things or finite groups of things.\n",
    "Circles that overlap have a commonality while circles that do not overlap do not share those traits. Venn diagrams help to \n",
    "visually represent the similarities and differences between two concepts."
   ]
  },
  {
   "cell_type": "code",
   "execution_count": null,
   "id": "3340d0e2-251d-4a82-896c-d9a51895eef3",
   "metadata": {},
   "outputs": [],
   "source": [
    "\"\"\"\n",
    "Q7. For the two given sets A = (2,3,4,5,6,7) & B = (0,2,6,8,10). Find:\n",
    "(i) A B\n",
    "(ii) A ⋃ B\n",
    "answer] A INTERSECTION B\n",
    "         {2,6,}\n",
    "        A UNION B\n",
    "        {0,2,3,4,5,6,7,8,10}"
   ]
  },
  {
   "cell_type": "code",
   "execution_count": null,
   "id": "a35cf099-b454-43cf-a544-2540831c53ab",
   "metadata": {},
   "outputs": [],
   "source": [
    "\"\"\"\n",
    "Q8. What do you understand about skewness in data?\n",
    "\n",
    "ANSWER] Skewness is a measure of the asymmetry of a distribution. A distribution is asymmetrical when its left and right side\n",
    "are not mirror images.\n",
    "\n",
    "A distribution can have right (or positive), left (or negative), or zero skewness. A right-skewed distribution is longer on the\n",
    "right side of its peak, and a left-skewed distribution is longer on the left side of its peak:"
   ]
  },
  {
   "cell_type": "code",
   "execution_count": null,
   "id": "f3874d0e-07a9-437a-a42f-38801528692b",
   "metadata": {},
   "outputs": [],
   "source": [
    "\"\"\"\n",
    "Q9. If a data is right skewed then what will be the position of median with respect to mean?\n",
    "ANSWER] Median is less than or equal to mean"
   ]
  },
  {
   "cell_type": "code",
   "execution_count": null,
   "id": "908c5197-9da9-4939-8dde-0edfec02560a",
   "metadata": {},
   "outputs": [],
   "source": [
    "\"\"\"\n",
    "Q10. Explain the difference between covariance and correlation. How are these measures used in\n",
    "statistical analysis?\n",
    "\n",
    "answer] Covariance is an indicator of the extent to which 2 random variables are dependent on each other. A higher number \n",
    "denotes higher dependency.\n",
    "Correlation is a statistical measure that indicates how strongly two variables are related.\n",
    ".Covariance and correlation are two terms that are opposed and are both used in statistics and regression analysis. Covariance\n",
    "shows you how the two variables differ, whereas correlation shows you how the two variables are related. "
   ]
  },
  {
   "cell_type": "code",
   "execution_count": null,
   "id": "820c03e5-1c17-41eb-ab11-13633fb96d2b",
   "metadata": {},
   "outputs": [],
   "source": [
    "\"\"\"\n",
    "Q11. What is the formula for calculating the sample mean? Provide an example calculation for a\n",
    "dataset.\n",
    "\n",
    "answer]Mean is the average of the given numbers and is calculated by dividing the sum of given numbers by the total number of\n",
    "numbers.\n",
    "Example:\n",
    "\n",
    "What is the mean of 2, 4, 6, 8 and 10?\n",
    "\n",
    "Solution:\n",
    "\n",
    "First, add all the numbers.\n",
    "\n",
    "2 + 4 + 6 + 8 + 10 = 30\n",
    "\n",
    "Now divide by 5 (total number of observations).\n",
    "\n",
    "Mean = 30/5 = 6"
   ]
  },
  {
   "cell_type": "code",
   "execution_count": null,
   "id": "f10da1e6-a6c0-4a75-a0db-dad59da4af0d",
   "metadata": {},
   "outputs": [],
   "source": [
    "\"\"\"\n",
    "Q12. For a normal distribution data what is the relationship between its measure of central tendency?\n",
    "\n",
    "answer] The normal distribution is a symmetrical, bell-shaped distribution in which the mean, median and mode are all equal. \n"
   ]
  },
  {
   "cell_type": "code",
   "execution_count": null,
   "id": "35f0eaf3-bd0e-49d5-880f-75a4208aaeae",
   "metadata": {},
   "outputs": [],
   "source": [
    "\"\"\"\n",
    "Q13. How is covariance different from correlation?\n",
    "\n",
    "answer] Covariance and correlation are two terms that are opposed and are both used in statistics and regression analysis.\n",
    "Covariance shows you how the two variables differ, whereas correlation shows you how the two variables are related. \n"
   ]
  },
  {
   "cell_type": "code",
   "execution_count": null,
   "id": "517d1aa3-5bb4-4950-81b2-2aa9654844b7",
   "metadata": {},
   "outputs": [],
   "source": [
    "\"\"\"\n",
    "Q14. How do outliers affect measures of central tendency and dispersion? Provide an example.\n",
    "\n",
    "answer] Outliers affect the mean value of the data but have little effect on the median or mode of a given set of data."
   ]
  },
  {
   "cell_type": "code",
   "execution_count": 11,
   "id": "d3f9b2d5-d804-430b-befc-f3f58a1d6c8d",
   "metadata": {},
   "outputs": [],
   "source": [
    "data = [1,2,3,4,5,50,100]"
   ]
  },
  {
   "cell_type": "code",
   "execution_count": 12,
   "id": "bbdde104-7ab4-4895-84fd-1c74f89788dc",
   "metadata": {},
   "outputs": [],
   "source": [
    "import numpy as np"
   ]
  },
  {
   "cell_type": "code",
   "execution_count": 13,
   "id": "ed87a147-37b1-491d-b2e1-dd8f686125d6",
   "metadata": {},
   "outputs": [
    {
     "data": {
      "text/plain": [
       "23.571428571428573"
      ]
     },
     "execution_count": 13,
     "metadata": {},
     "output_type": "execute_result"
    }
   ],
   "source": [
    "np.mean(data)"
   ]
  },
  {
   "cell_type": "code",
   "execution_count": 14,
   "id": "491cfa85-be13-440b-ab3e-059f94d76d10",
   "metadata": {},
   "outputs": [
    {
     "data": {
      "text/plain": [
       "4.0"
      ]
     },
     "execution_count": 14,
     "metadata": {},
     "output_type": "execute_result"
    }
   ],
   "source": [
    "np.median(data)"
   ]
  },
  {
   "cell_type": "code",
   "execution_count": 15,
   "id": "942d1c92-f375-484a-b283-1df80ca3ef2f",
   "metadata": {},
   "outputs": [
    {
     "data": {
      "text/plain": [
       "1237.9591836734694"
      ]
     },
     "execution_count": 15,
     "metadata": {},
     "output_type": "execute_result"
    }
   ],
   "source": [
    "np.var(data)"
   ]
  },
  {
   "cell_type": "code",
   "execution_count": 16,
   "id": "161ebb40-1e2c-4ea8-8d6e-81415ca30f5a",
   "metadata": {},
   "outputs": [],
   "source": [
    "data = [1,2,3,4,5,50,100,5000]"
   ]
  },
  {
   "cell_type": "code",
   "execution_count": 17,
   "id": "745ec694-c3f5-47b2-9c67-692499593459",
   "metadata": {},
   "outputs": [
    {
     "data": {
      "text/plain": [
       "645.625"
      ]
     },
     "execution_count": 17,
     "metadata": {},
     "output_type": "execute_result"
    }
   ],
   "source": [
    "np.mean(data)"
   ]
  },
  {
   "cell_type": "code",
   "execution_count": null,
   "id": "e7696723-2518-407c-ac65-62112f341a01",
   "metadata": {},
   "outputs": [],
   "source": []
  },
  {
   "cell_type": "code",
   "execution_count": null,
   "id": "10b918ae-fabd-4b98-a025-e5baedc3d928",
   "metadata": {},
   "outputs": [],
   "source": []
  }
 ],
 "metadata": {
  "kernelspec": {
   "display_name": "Python 3 (ipykernel)",
   "language": "python",
   "name": "python3"
  },
  "language_info": {
   "codemirror_mode": {
    "name": "ipython",
    "version": 3
   },
   "file_extension": ".py",
   "mimetype": "text/x-python",
   "name": "python",
   "nbconvert_exporter": "python",
   "pygments_lexer": "ipython3",
   "version": "3.10.6"
  }
 },
 "nbformat": 4,
 "nbformat_minor": 5
}
