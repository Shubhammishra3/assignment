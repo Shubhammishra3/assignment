{
 "cells": [
  {
   "cell_type": "code",
   "execution_count": null,
   "id": "4942ad58-0436-4fdb-be12-8e5e315fa3c7",
   "metadata": {},
   "outputs": [],
   "source": [
    "\"\"\"                         [18 feb assignment]\n",
    "Q1. What is an API? Give an example, where an API is used in real life.\n",
    "answer]APIs are mechanisms that enable two software components to communicate with each other using a set of \n",
    "definitions and protocols. For example, the weather bureau’s software system contains daily weather data. The weather \n",
    "app on your phone “talks” to this system via APIs and shows you daily weather updates on your phone.\n",
    "       API stands for Application Programming Interface. In the context of APIs, the word Application refers to any\n",
    "       software with a distinct function. Interface can be thought of as a contract of service between two applications.\n",
    "       This contract defines how the two communicate with each other using requests and responses. Their API documentation\n",
    "       contains information on how developers are to structure those requests and responses.\n",
    " API real life examples;\n",
    " 1] Weather Snippets\n",
    " 2] Pay with PayPal\n",
    " 3]Travel Booking\n",
    " 4] Google Maps\n",
    " 5] Restaurants\n",
    " 6] Blogging"
   ]
  },
  {
   "cell_type": "code",
   "execution_count": null,
   "id": "08a53eb8-b822-47fb-a283-606132c9b469",
   "metadata": {},
   "outputs": [],
   "source": []
  },
  {
   "cell_type": "code",
   "execution_count": null,
   "id": "2f9c2800-11ca-4963-909e-f987f9623744",
   "metadata": {},
   "outputs": [],
   "source": [
    "\"\"\"\n",
    "Q2. Give advantages and disadvantages of using API.\n",
    "answer]        ADVANTAGES\n",
    "1] Applications: Access to APIs ensures more flexibility in information-transfer processes.\n",
    "2] Reach: APIs let you create layers in apps in order to distribute information to different audiences.\n",
    "3] Customization: Furthermore, it can serve as a solution to create different experiences for users, letting protocols,\n",
    "functions, and commands be adapted according to specific demands.\n",
    "4] Efficiency: When you have content that is automatically published and made available on different channels\n",
    "simultaneously, APIs allow for more efficient data distribution.\n",
    "5] Adaptability: One of the greatest benefits of APIs is the ability it has to adapt to changes through data migration\n",
    "and flexibility of services\n",
    "                  DISADVANTAGES\n",
    "There is a lot of conveniences and advantages to APIs, but business leaders should also be aware of the disadvantages.\n",
    "As a single point of entry, an API is a gateway and can become a hacker's primary target. Once the API is compromised,\n",
    "all other applications and systems become vulnerable.                  "
   ]
  },
  {
   "cell_type": "code",
   "execution_count": null,
   "id": "138e3f3d-9b05-4523-be67-7d9bcd8d40a9",
   "metadata": {},
   "outputs": [],
   "source": []
  },
  {
   "cell_type": "code",
   "execution_count": null,
   "id": "1b0aa051-b5b4-43ee-a30d-972c9a3d3bbf",
   "metadata": {},
   "outputs": [],
   "source": [
    "\"\"\"\n",
    "Q3. What is a Web API? Differentiate between API and Web API.\n",
    "\n",
    "ANSWER] API is the acronym for Application Programming Interface. It is a software interface that allows two applications to\n",
    "interact with each other without any user intervention.\n",
    "\n",
    "Web API is an API as the name suggests, it can be accessed over the web using the HTTP protocol. It is a framework that\n",
    "helps you to create and develop HTTP based RESTFUL services. The web API can be developed by using different technologies\n",
    "such as java, ASP.NET, etc.\n",
    "\n",
    "Web service is used for REST, SOAP, and XML-RPC for communication, while API is used for any style of communication.\n",
    "Web service supports only HTTP protocol, whereas API supports HTTP/HTTPS protocol.\n",
    "Web service supports XML, while API supports XML and JSON.\n",
    "All Web services are APIs, but all APIs are not web services."
   ]
  },
  {
   "cell_type": "code",
   "execution_count": null,
   "id": "3245b97d-50ac-44cc-91d0-143ff48e61a8",
   "metadata": {},
   "outputs": [],
   "source": []
  },
  {
   "cell_type": "code",
   "execution_count": null,
   "id": "34df2887-25a7-4337-8dc3-b7fde81c6d57",
   "metadata": {},
   "outputs": [],
   "source": [
    "\"\"\"\n",
    "Q4. Explain REST and SOAP Architecture. Mention shortcomings of SOAP.\n",
    "\n",
    "answer] REST APIs uses multiple standards like HTTP, JSON, URL, and XML for data communication and transfer. SOAP APIs \n",
    "is largely based and uses only HTTP and XML. As REST API deploys and uses multiple standards as stated above, so it takes \n",
    "fewer resources and bandwidth as compared to SOAP API.\n",
    " \n",
    "                 Disadvantages of SOAP\n",
    "API Calls are not Cached. An API call is a process of sending a request when an API has been set up with the necessary \n",
    "endpoints.\n",
    "Extremely Complicated. SOAP is substantially more sophisticated than REST.\n",
    "No Choice of Data Formats. \n",
    "Requires More Bandwidth."
   ]
  },
  {
   "cell_type": "code",
   "execution_count": null,
   "id": "6d79dfd6-09ad-4c21-b02a-cd7da22a5bf3",
   "metadata": {},
   "outputs": [],
   "source": []
  },
  {
   "cell_type": "code",
   "execution_count": null,
   "id": "db310a3d-b068-4919-8ed7-3350e3010500",
   "metadata": {},
   "outputs": [],
   "source": [
    "\"\"\"\n",
    "Q5. Differentiate between REST and SOAP.\n",
    "\n",
    "answer] Key Difference Between SOAP and REST API\n",
    "SOAP needs more bandwidth for its usage whereas REST doesn't need much bandwidth. Comparing SOAP vs REST API, SOAP only\n",
    "works with XML formats whereas REST work with plain text, XML, HTML and JSON. SOAP cannot make use of REST whereas REST can \n",
    "make use of SOAP.\n",
    "SOAP is a protocol, whereas REST is an architectural style\n",
    "REST APIs access a resource for data (a URI); SOAP APIs perform an operation\n",
    "SOAP requires more bandwidth, whereas REST requires fewer resources (depending on the API)"
   ]
  },
  {
   "cell_type": "code",
   "execution_count": null,
   "id": "07709f25-e202-4077-b25a-214c2c373b5a",
   "metadata": {},
   "outputs": [],
   "source": []
  },
  {
   "cell_type": "code",
   "execution_count": null,
   "id": "7b364c23-7e47-49dd-9214-25504e1e6f33",
   "metadata": {},
   "outputs": [],
   "source": []
  }
 ],
 "metadata": {
  "kernelspec": {
   "display_name": "Python 3 (ipykernel)",
   "language": "python",
   "name": "python3"
  },
  "language_info": {
   "codemirror_mode": {
    "name": "ipython",
    "version": 3
   },
   "file_extension": ".py",
   "mimetype": "text/x-python",
   "name": "python",
   "nbconvert_exporter": "python",
   "pygments_lexer": "ipython3",
   "version": "3.10.6"
  }
 },
 "nbformat": 4,
 "nbformat_minor": 5
}
