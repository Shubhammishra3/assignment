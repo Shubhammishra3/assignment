{
 "cells": [
  {
   "cell_type": "code",
   "execution_count": null,
   "id": "3e387d45-28a4-4e45-a997-268dce8da7d3",
   "metadata": {},
   "outputs": [],
   "source": [
    "\"\"\"                                 [ASSIGNMENT]\n",
    "Q1. Create a Pandas Series that contains the following data: 4, 8, 15, 16, 23, and 42. Then, print the series.\n"
   ]
  },
  {
   "cell_type": "code",
   "execution_count": 1,
   "id": "a019f2b2-a999-4224-9c11-6b2e129c0130",
   "metadata": {},
   "outputs": [
    {
     "name": "stdout",
     "output_type": "stream",
     "text": [
      "Requirement already satisfied: pandas in /opt/conda/lib/python3.10/site-packages (1.5.1)\n",
      "Requirement already satisfied: python-dateutil>=2.8.1 in /opt/conda/lib/python3.10/site-packages (from pandas) (2.8.2)\n",
      "Requirement already satisfied: pytz>=2020.1 in /opt/conda/lib/python3.10/site-packages (from pandas) (2022.5)\n",
      "Requirement already satisfied: numpy>=1.21.0 in /opt/conda/lib/python3.10/site-packages (from pandas) (1.23.4)\n",
      "Requirement already satisfied: six>=1.5 in /opt/conda/lib/python3.10/site-packages (from python-dateutil>=2.8.1->pandas) (1.16.0)\n",
      "Note: you may need to restart the kernel to use updated packages.\n"
     ]
    }
   ],
   "source": [
    "pip install pandas"
   ]
  },
  {
   "cell_type": "code",
   "execution_count": 22,
   "id": "7f2ec18e-fdde-4e57-a045-f9f5ff7fc7c2",
   "metadata": {},
   "outputs": [
    {
     "name": "stdout",
     "output_type": "stream",
     "text": [
      "0     4\n",
      "1     8\n",
      "2    15\n",
      "3    16\n",
      "4    23\n",
      "5    42\n",
      "dtype: int64\n"
     ]
    }
   ],
   "source": [
    "import pandas as pd\n",
    "\n",
    "a = [4,8,15,16,23,42]\n",
    "\n",
    "b = pd.Series(a)\n",
    "\n",
    "print(b)"
   ]
  },
  {
   "cell_type": "code",
   "execution_count": null,
   "id": "ee28fb2d-962e-4801-a498-3a6c77a52a2e",
   "metadata": {},
   "outputs": [],
   "source": []
  },
  {
   "cell_type": "code",
   "execution_count": null,
   "id": "bb4c6cd7-9711-4714-bdcb-ad0eea879944",
   "metadata": {},
   "outputs": [],
   "source": [
    "\"\"\"\n",
    "Q2. Create a variable of list type containing 10 elements in it, and apply pandas.Series function on the\n",
    "variable print it."
   ]
  },
  {
   "cell_type": "code",
   "execution_count": 4,
   "id": "300322fb-37a9-4abb-9e50-86f66098b8cd",
   "metadata": {},
   "outputs": [
    {
     "name": "stdout",
     "output_type": "stream",
     "text": [
      "0     1\n",
      "1     2\n",
      "2     3\n",
      "3     4\n",
      "4     5\n",
      "5     6\n",
      "6     7\n",
      "7     8\n",
      "8     9\n",
      "9    10\n",
      "dtype: int64\n"
     ]
    }
   ],
   "source": [
    "import pandas as pd\n",
    "a = [1,2,3,4,5,6,7,8,9,10]\n",
    "b = pd.Series(a)\n",
    "print(b)"
   ]
  },
  {
   "cell_type": "code",
   "execution_count": null,
   "id": "2e784410-8ed6-4f0b-b65a-a12f156e2ab2",
   "metadata": {},
   "outputs": [],
   "source": []
  },
  {
   "cell_type": "code",
   "execution_count": null,
   "id": "2eac4f64-3c33-4729-9fe5-2c1e08924f71",
   "metadata": {},
   "outputs": [],
   "source": [
    "\"\"\"\n",
    "Q3. Create a Pandas DataFrame that contains the following data:\n",
    "Name         Age         GENDER\n",
    " Alice        25         FEMALE\n",
    "  Bob         30          MALE\n",
    "Claire        27         FEMALE\n",
    "Then, print the DataFrame."
   ]
  },
  {
   "cell_type": "code",
   "execution_count": 7,
   "id": "64c5a245-153b-4fe6-8ec3-93d70e06fe67",
   "metadata": {},
   "outputs": [],
   "source": [
    "D = {\" Name\" : [\"Alice\", \"Bob\", \"Claire\"],\n",
    "     \" Age\"  : [25, 30,27],\n",
    "     \" Gender\" : [ \"Female\", \"Male\" , \"Female\"]}\n",
    "import pandas as pd\n",
    "df = pd.DataFrame(D)\n",
    "     "
   ]
  },
  {
   "cell_type": "code",
   "execution_count": 8,
   "id": "1e83aa56-c910-43cc-8b10-f55054a8320e",
   "metadata": {},
   "outputs": [
    {
     "data": {
      "text/html": [
       "<div>\n",
       "<style scoped>\n",
       "    .dataframe tbody tr th:only-of-type {\n",
       "        vertical-align: middle;\n",
       "    }\n",
       "\n",
       "    .dataframe tbody tr th {\n",
       "        vertical-align: top;\n",
       "    }\n",
       "\n",
       "    .dataframe thead th {\n",
       "        text-align: right;\n",
       "    }\n",
       "</style>\n",
       "<table border=\"1\" class=\"dataframe\">\n",
       "  <thead>\n",
       "    <tr style=\"text-align: right;\">\n",
       "      <th></th>\n",
       "      <th>Name</th>\n",
       "      <th>Age</th>\n",
       "      <th>Gender</th>\n",
       "    </tr>\n",
       "  </thead>\n",
       "  <tbody>\n",
       "    <tr>\n",
       "      <th>0</th>\n",
       "      <td>Alice</td>\n",
       "      <td>25</td>\n",
       "      <td>Female</td>\n",
       "    </tr>\n",
       "    <tr>\n",
       "      <th>1</th>\n",
       "      <td>Bob</td>\n",
       "      <td>30</td>\n",
       "      <td>Male</td>\n",
       "    </tr>\n",
       "    <tr>\n",
       "      <th>2</th>\n",
       "      <td>Claire</td>\n",
       "      <td>27</td>\n",
       "      <td>Female</td>\n",
       "    </tr>\n",
       "  </tbody>\n",
       "</table>\n",
       "</div>"
      ],
      "text/plain": [
       "     Name   Age  Gender\n",
       "0   Alice    25  Female\n",
       "1     Bob    30    Male\n",
       "2  Claire    27  Female"
      ]
     },
     "execution_count": 8,
     "metadata": {},
     "output_type": "execute_result"
    }
   ],
   "source": [
    "df"
   ]
  },
  {
   "cell_type": "code",
   "execution_count": null,
   "id": "39c54a1b-d18e-4307-8eb3-afd669f65fdf",
   "metadata": {},
   "outputs": [],
   "source": []
  },
  {
   "cell_type": "code",
   "execution_count": null,
   "id": "0397defd-7872-4970-9ff2-4c5e02509494",
   "metadata": {},
   "outputs": [],
   "source": [
    "\"\"\"\n",
    "Q4. What is ‘DataFrame’ in pandas and how is it different from pandas.series? Explain with an example.\n",
    "answer] Pandas is a very popular open-source Python library that offers a diverse set of tools that aid in performing \n",
    "analysis more efficiently. The Pandas package is mainly used for data pre-processing purposes such as data cleaning,\n",
    "manipulation, and transformation.\n",
    "A Pandas DataFrame is a 2 dimensional data structure, like a 2 dimensional array, or a table with rows and columns.\n",
    "Heterogenous – DataFrame elements can have different data type\n",
    "Size-mutable – Elements can be dropped or added in an existing DataFrame.\n",
    "\n",
    "Pandas Series is a one-dimensional labeled array whose object size cannot be changed. You can also see it as the \n",
    "primary building block for a DataFrame, making up its rows and columns. \n"
   ]
  },
  {
   "cell_type": "code",
   "execution_count": 1,
   "id": "2b175ecf-35a7-44c4-92f4-45f74cb8f544",
   "metadata": {},
   "outputs": [
    {
     "name": "stdout",
     "output_type": "stream",
     "text": [
      "0    1\n",
      "1    7\n",
      "2    2\n",
      "dtype: int64\n"
     ]
    }
   ],
   "source": [
    "import pandas as pd\n",
    "\n",
    "a = [1, 7, 2]\n",
    "\n",
    "myvar = pd.Series(a)\n",
    "\n",
    "print(myvar)"
   ]
  },
  {
   "cell_type": "code",
   "execution_count": null,
   "id": "008d57fb-13f2-4112-a91c-a1e924b596c5",
   "metadata": {},
   "outputs": [],
   "source": [
    "\"\"\"\n",
    "Q5. What are some common functions you can use to manipulate data in a Pandas DataFrame? Can\n",
    "you give an example of when you might use one of these functions?\n",
    "ANSWER] Dropping columns in the data\n",
    "        Dropping rows in the data\n",
    "        Renaming a column in the dataset\n",
    "        Select columns with specific data types\n",
    "        Slicing the dataset"
   ]
  },
  {
   "cell_type": "code",
   "execution_count": null,
   "id": "c2bd8c3c-c13d-4fcc-a9a5-a1ddee113e90",
   "metadata": {},
   "outputs": [],
   "source": []
  },
  {
   "cell_type": "code",
   "execution_count": 3,
   "id": "51b7bd3f-70fd-4cfd-aea3-03b34031c49e",
   "metadata": {},
   "outputs": [],
   "source": [
    "D = {\" Name\" : [\"Alice\", \"Bob\", \"Claire\"],\n",
    "     \" Age\"  : [25, 30,27],\n",
    "     \" Gender\" : [ \"Female\", \"Male\" , \"Female\"]}\n",
    "import pandas as pd\n",
    "df = pd.DataFrame(D)\n",
    "     "
   ]
  },
  {
   "cell_type": "code",
   "execution_count": 4,
   "id": "8e4cdfec-0831-41db-a080-e3980917bc12",
   "metadata": {},
   "outputs": [
    {
     "data": {
      "text/html": [
       "<div>\n",
       "<style scoped>\n",
       "    .dataframe tbody tr th:only-of-type {\n",
       "        vertical-align: middle;\n",
       "    }\n",
       "\n",
       "    .dataframe tbody tr th {\n",
       "        vertical-align: top;\n",
       "    }\n",
       "\n",
       "    .dataframe thead th {\n",
       "        text-align: right;\n",
       "    }\n",
       "</style>\n",
       "<table border=\"1\" class=\"dataframe\">\n",
       "  <thead>\n",
       "    <tr style=\"text-align: right;\">\n",
       "      <th></th>\n",
       "      <th>Name</th>\n",
       "      <th>Age</th>\n",
       "      <th>Gender</th>\n",
       "    </tr>\n",
       "  </thead>\n",
       "  <tbody>\n",
       "    <tr>\n",
       "      <th>0</th>\n",
       "      <td>Alice</td>\n",
       "      <td>25</td>\n",
       "      <td>Female</td>\n",
       "    </tr>\n",
       "    <tr>\n",
       "      <th>1</th>\n",
       "      <td>Bob</td>\n",
       "      <td>30</td>\n",
       "      <td>Male</td>\n",
       "    </tr>\n",
       "    <tr>\n",
       "      <th>2</th>\n",
       "      <td>Claire</td>\n",
       "      <td>27</td>\n",
       "      <td>Female</td>\n",
       "    </tr>\n",
       "  </tbody>\n",
       "</table>\n",
       "</div>"
      ],
      "text/plain": [
       "     Name   Age  Gender\n",
       "0   Alice    25  Female\n",
       "1     Bob    30    Male\n",
       "2  Claire    27  Female"
      ]
     },
     "execution_count": 4,
     "metadata": {},
     "output_type": "execute_result"
    }
   ],
   "source": [
    "df"
   ]
  },
  {
   "cell_type": "code",
   "execution_count": 17,
   "id": "7b87c4c5-53c2-4ccf-bfe3-6dd0f1efdd27",
   "metadata": {},
   "outputs": [
    {
     "data": {
      "text/html": [
       "<div>\n",
       "<style scoped>\n",
       "    .dataframe tbody tr th:only-of-type {\n",
       "        vertical-align: middle;\n",
       "    }\n",
       "\n",
       "    .dataframe tbody tr th {\n",
       "        vertical-align: top;\n",
       "    }\n",
       "\n",
       "    .dataframe thead th {\n",
       "        text-align: right;\n",
       "    }\n",
       "</style>\n",
       "<table border=\"1\" class=\"dataframe\">\n",
       "  <thead>\n",
       "    <tr style=\"text-align: right;\">\n",
       "      <th></th>\n",
       "      <th>Name</th>\n",
       "      <th>Age</th>\n",
       "      <th>Gender</th>\n",
       "    </tr>\n",
       "  </thead>\n",
       "  <tbody>\n",
       "    <tr>\n",
       "      <th>0</th>\n",
       "      <td>Alice</td>\n",
       "      <td>25</td>\n",
       "      <td>Female</td>\n",
       "    </tr>\n",
       "    <tr>\n",
       "      <th>2</th>\n",
       "      <td>Claire</td>\n",
       "      <td>27</td>\n",
       "      <td>Female</td>\n",
       "    </tr>\n",
       "  </tbody>\n",
       "</table>\n",
       "</div>"
      ],
      "text/plain": [
       "     Name   Age  Gender\n",
       "0   Alice    25  Female\n",
       "2  Claire    27  Female"
      ]
     },
     "execution_count": 17,
     "metadata": {},
     "output_type": "execute_result"
    }
   ],
   "source": [
    "\n",
    "df_dropped = df.drop(1)\n",
    "df_dropped.head()"
   ]
  },
  {
   "cell_type": "code",
   "execution_count": 6,
   "id": "83b9369e-79ab-4cf3-8109-1f8d35c23b8d",
   "metadata": {},
   "outputs": [],
   "source": [
    "df[\"mobile number\"] = 23345566, 7654321 , 45680986"
   ]
  },
  {
   "cell_type": "code",
   "execution_count": 7,
   "id": "c29f9a12-0d65-4d54-830e-5c0f1930e832",
   "metadata": {},
   "outputs": [
    {
     "data": {
      "text/html": [
       "<div>\n",
       "<style scoped>\n",
       "    .dataframe tbody tr th:only-of-type {\n",
       "        vertical-align: middle;\n",
       "    }\n",
       "\n",
       "    .dataframe tbody tr th {\n",
       "        vertical-align: top;\n",
       "    }\n",
       "\n",
       "    .dataframe thead th {\n",
       "        text-align: right;\n",
       "    }\n",
       "</style>\n",
       "<table border=\"1\" class=\"dataframe\">\n",
       "  <thead>\n",
       "    <tr style=\"text-align: right;\">\n",
       "      <th></th>\n",
       "      <th>Name</th>\n",
       "      <th>Age</th>\n",
       "      <th>Gender</th>\n",
       "      <th>mobile number</th>\n",
       "    </tr>\n",
       "  </thead>\n",
       "  <tbody>\n",
       "    <tr>\n",
       "      <th>0</th>\n",
       "      <td>Alice</td>\n",
       "      <td>25</td>\n",
       "      <td>Female</td>\n",
       "      <td>23345566</td>\n",
       "    </tr>\n",
       "    <tr>\n",
       "      <th>1</th>\n",
       "      <td>Bob</td>\n",
       "      <td>30</td>\n",
       "      <td>Male</td>\n",
       "      <td>7654321</td>\n",
       "    </tr>\n",
       "    <tr>\n",
       "      <th>2</th>\n",
       "      <td>Claire</td>\n",
       "      <td>27</td>\n",
       "      <td>Female</td>\n",
       "      <td>45680986</td>\n",
       "    </tr>\n",
       "  </tbody>\n",
       "</table>\n",
       "</div>"
      ],
      "text/plain": [
       "     Name   Age  Gender  mobile number\n",
       "0   Alice    25  Female       23345566\n",
       "1     Bob    30    Male        7654321\n",
       "2  Claire    27  Female       45680986"
      ]
     },
     "execution_count": 7,
     "metadata": {},
     "output_type": "execute_result"
    }
   ],
   "source": [
    "df"
   ]
  },
  {
   "cell_type": "code",
   "execution_count": 10,
   "id": "adea78f9-145b-4b32-9b6a-3caec95b43f8",
   "metadata": {},
   "outputs": [
    {
     "data": {
      "text/html": [
       "<div>\n",
       "<style scoped>\n",
       "    .dataframe tbody tr th:only-of-type {\n",
       "        vertical-align: middle;\n",
       "    }\n",
       "\n",
       "    .dataframe tbody tr th {\n",
       "        vertical-align: top;\n",
       "    }\n",
       "\n",
       "    .dataframe thead th {\n",
       "        text-align: right;\n",
       "    }\n",
       "</style>\n",
       "<table border=\"1\" class=\"dataframe\">\n",
       "  <thead>\n",
       "    <tr style=\"text-align: right;\">\n",
       "      <th></th>\n",
       "      <th>0</th>\n",
       "      <th>1</th>\n",
       "      <th>2</th>\n",
       "    </tr>\n",
       "  </thead>\n",
       "  <tbody>\n",
       "    <tr>\n",
       "      <th>Name</th>\n",
       "      <td>Alice</td>\n",
       "      <td>Bob</td>\n",
       "      <td>Claire</td>\n",
       "    </tr>\n",
       "    <tr>\n",
       "      <th>Age</th>\n",
       "      <td>25</td>\n",
       "      <td>30</td>\n",
       "      <td>27</td>\n",
       "    </tr>\n",
       "    <tr>\n",
       "      <th>Gender</th>\n",
       "      <td>Female</td>\n",
       "      <td>Male</td>\n",
       "      <td>Female</td>\n",
       "    </tr>\n",
       "    <tr>\n",
       "      <th>mobile number</th>\n",
       "      <td>23345566</td>\n",
       "      <td>7654321</td>\n",
       "      <td>45680986</td>\n",
       "    </tr>\n",
       "  </tbody>\n",
       "</table>\n",
       "</div>"
      ],
      "text/plain": [
       "                      0        1         2\n",
       " Name             Alice      Bob    Claire\n",
       " Age                 25       30        27\n",
       " Gender          Female     Male    Female\n",
       "mobile number  23345566  7654321  45680986"
      ]
     },
     "execution_count": 10,
     "metadata": {},
     "output_type": "execute_result"
    }
   ],
   "source": [
    "df.transpose()"
   ]
  },
  {
   "cell_type": "code",
   "execution_count": null,
   "id": "b3d54925-2ed5-4be2-bf90-c27c32cafe78",
   "metadata": {},
   "outputs": [],
   "source": [
    "\"\"\"\n",
    "Q6. Which of the following is mutable in nature Series, DataFrame, Panel?\n",
    "answer] All Pandas data structures are value mutable (can be changed) and except Series all are size mutable. Series is size\n",
    "immutable."
   ]
  },
  {
   "cell_type": "code",
   "execution_count": null,
   "id": "4c9012bf-d2fd-4a83-8fbf-0a6f88b68e39",
   "metadata": {},
   "outputs": [],
   "source": [
    "\"\"\"\n",
    "Q7. Create a DataFrame using multiple Series. Explain with an example.\n"
   ]
  },
  {
   "cell_type": "code",
   "execution_count": 11,
   "id": "d300bc20-d3aa-4eca-9216-8ed07ac610bf",
   "metadata": {},
   "outputs": [],
   "source": [
    "import pandas as pd"
   ]
  },
  {
   "cell_type": "code",
   "execution_count": 18,
   "id": "48a1d3a9-cf67-475f-8272-dbea9e4e7622",
   "metadata": {},
   "outputs": [
    {
     "name": "stdout",
     "output_type": "stream",
     "text": [
      "   age      name  gender\n",
      "0   23      ram     male\n",
      "1   45   krishna    male\n",
      "2   65   shubham    male\n"
     ]
    }
   ],
   "source": [
    "age = pd.Series([23,45,65] , name = \"age\")\n",
    "name = pd.Series([\"ram \" , \" krishna\", \"shubham\"] , name = \" name\")\n",
    "gender = pd.Series([\"male\",\"male\",\"male\"]  , name = \" gender\")\n",
    "df = pd.concat([age,name,gender], axis = 1)\n",
    "print(df)"
   ]
  },
  {
   "cell_type": "code",
   "execution_count": null,
   "id": "4da5b8c8-2a71-4b18-8c4e-80eba6f31df4",
   "metadata": {},
   "outputs": [],
   "source": []
  },
  {
   "cell_type": "code",
   "execution_count": 20,
   "id": "0dce99d9-f20f-406d-8b2b-89232e6965dc",
   "metadata": {},
   "outputs": [
    {
     "name": "stdout",
     "output_type": "stream",
     "text": [
      "   courses   fees  discount\n",
      "0    Spark  22000      1000\n",
      "1  PySpark  25000      2300\n",
      "2   Hadoop  23000      1000\n"
     ]
    }
   ],
   "source": [
    "\n",
    "courses = pd.Series([\"Spark\",\"PySpark\",\"Hadoop\"], name='courses')\n",
    "fees = pd.Series([22000,25000,23000], name='fees')\n",
    "discount  = pd.Series([1000,2300,1000],name='discount')\n",
    "\n",
    "df=pd.concat([courses,fees,discount],axis=1)\n",
    "print(df)"
   ]
  },
  {
   "cell_type": "code",
   "execution_count": null,
   "id": "36514087-fabb-41ed-b60e-33e79acf8748",
   "metadata": {},
   "outputs": [],
   "source": []
  },
  {
   "cell_type": "code",
   "execution_count": null,
   "id": "1c226cc5-739f-4f46-a50e-0fab2b7f1f5b",
   "metadata": {},
   "outputs": [],
   "source": []
  },
  {
   "cell_type": "code",
   "execution_count": null,
   "id": "a23aedcf-bfa8-4e59-a6a6-da970b36f041",
   "metadata": {},
   "outputs": [],
   "source": []
  }
 ],
 "metadata": {
  "kernelspec": {
   "display_name": "Python 3 (ipykernel)",
   "language": "python",
   "name": "python3"
  },
  "language_info": {
   "codemirror_mode": {
    "name": "ipython",
    "version": 3
   },
   "file_extension": ".py",
   "mimetype": "text/x-python",
   "name": "python",
   "nbconvert_exporter": "python",
   "pygments_lexer": "ipython3",
   "version": "3.10.6"
  }
 },
 "nbformat": 4,
 "nbformat_minor": 5
}
