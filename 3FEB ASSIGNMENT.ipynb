{
 "cells": [
  {
   "cell_type": "code",
   "execution_count": null,
   "id": "5b6a0624-9f7f-401b-a3b6-f505ea9a8540",
   "metadata": {},
   "outputs": [],
   "source": [
    "\"\"\"                   [ ASSIGNMENT 3 FEB.]\n",
    "\n",
    "\n",
    "1] Which key word is used to create a function ? Create a function to return a list of odd numbers in the range of 1 to 25.\n",
    "ANSWER] \"def\" keyword along with function name is used to create function .                                           \"\"\""
   ]
  },
  {
   "cell_type": "code",
   "execution_count": 14,
   "id": "f0fc273a-de4f-462d-bd11-85dfb7e385d4",
   "metadata": {},
   "outputs": [],
   "source": [
    "l1 = list(range(1,26))"
   ]
  },
  {
   "cell_type": "code",
   "execution_count": 16,
   "id": "77ca57fb-4189-4cf6-8b85-ca43bf0210d7",
   "metadata": {},
   "outputs": [],
   "source": [
    "def odd(l1):\n",
    "    l = []\n",
    "    for i in l1:\n",
    "        if i% 2 != 0:\n",
    "            l.append(i)\n",
    "            i =i+1\n",
    "    return l\n",
    "    "
   ]
  },
  {
   "cell_type": "code",
   "execution_count": 17,
   "id": "3ad51b5b-a438-48e2-8903-997d896359da",
   "metadata": {},
   "outputs": [
    {
     "data": {
      "text/plain": [
       "[1, 3, 5, 7, 9, 11, 13, 15, 17, 19, 21, 23, 25]"
      ]
     },
     "execution_count": 17,
     "metadata": {},
     "output_type": "execute_result"
    }
   ],
   "source": [
    "odd(l1)\n"
   ]
  },
  {
   "cell_type": "code",
   "execution_count": null,
   "id": "7ef66f54-5eda-434a-bd65-82790e4d3cbf",
   "metadata": {},
   "outputs": [],
   "source": [
    "\"\"\"\n",
    "2] Why \"*args\" and \"**kwargs\"is used in some functions? Create a function each for \"args and \"kwargs to demonstrate their use.\n",
    "\n",
    "\n",
    "ANSWER] \" *args\" is used to give multiple parameters to the function as inputs. It is non key word arguments.\n",
    "\" **kwargs\" is used to dictionary as a output. This type of parameter in function definition gives a key - value pair in output\n",
    ". It is key word argument.                                                        \"\"\""
   ]
  },
  {
   "cell_type": "code",
   "execution_count": 19,
   "id": "f0e810a4-d93e-4e72-85eb-f7d42ae68ae8",
   "metadata": {},
   "outputs": [],
   "source": [
    "def shubham(*args):\n",
    "    return args\n"
   ]
  },
  {
   "cell_type": "code",
   "execution_count": 20,
   "id": "4b3ea36c-4a2b-49a7-9803-a2357328a766",
   "metadata": {},
   "outputs": [
    {
     "data": {
      "text/plain": [
       "(2, 3, 4.4, 'shub', [4, 6, 8])"
      ]
     },
     "execution_count": 20,
     "metadata": {},
     "output_type": "execute_result"
    }
   ],
   "source": [
    "shubham(2,3,4.4,\"shub\",[4,6,8])"
   ]
  },
  {
   "cell_type": "code",
   "execution_count": 21,
   "id": "8162b691-c27a-4aef-ad53-2627e679f00c",
   "metadata": {},
   "outputs": [],
   "source": [
    "def shubham(**kwargs):\n",
    "    return kwargs"
   ]
  },
  {
   "cell_type": "code",
   "execution_count": 22,
   "id": "5a139542-96d2-46ac-b504-52067cff2857",
   "metadata": {},
   "outputs": [
    {
     "data": {
      "text/plain": [
       "{'a': 3, 'b': 8.99, 'c': 'mishra'}"
      ]
     },
     "execution_count": 22,
     "metadata": {},
     "output_type": "execute_result"
    }
   ],
   "source": [
    "shubham(a = 3, b = 8.99 , c =\"mishra\")"
   ]
  },
  {
   "cell_type": "code",
   "execution_count": null,
   "id": "7385d140-01ce-44fd-899e-f6308657a86e",
   "metadata": {},
   "outputs": [],
   "source": []
  },
  {
   "cell_type": "code",
   "execution_count": null,
   "id": "babb1670-9d5e-4844-b65f-8df37eb0a958",
   "metadata": {},
   "outputs": [],
   "source": []
  },
  {
   "cell_type": "code",
   "execution_count": null,
   "id": "dd27f8e2-140a-4633-a050-f3e6d64baab9",
   "metadata": {},
   "outputs": [],
   "source": [
    "\"\"\"\n",
    "3] What is an iterator in python ? Name the methods used to initialise the iterator object and the method used for iterator.\n",
    "Use these methods to print first five elements of the given list [2,4,6,8,10,12,14,16,18,20].\n",
    "\n",
    "\n",
    "ANSWER] An iterator is an object that contins a countable number of values. An iterator is an object that can be iterated upon ,\n",
    "meaning that we can traverse through all the values.In python iterator is an object which implements the iterator protocol , which\n",
    "consist of the methods __iter__() and __next__(). List , string , sets , tuples, dict. are iterable                    \"\"\""
   ]
  },
  {
   "cell_type": "code",
   "execution_count": 23,
   "id": "64f61011-352b-43b1-8881-b0a6db6ffc25",
   "metadata": {},
   "outputs": [],
   "source": [
    "list = [2,4,6,8,10,12,14,18,20]\n",
    "l2 = iter(list)"
   ]
  },
  {
   "cell_type": "code",
   "execution_count": 24,
   "id": "5f4dcab9-b500-41a2-914a-9450877ddc3f",
   "metadata": {},
   "outputs": [
    {
     "name": "stdout",
     "output_type": "stream",
     "text": [
      "2\n"
     ]
    }
   ],
   "source": [
    "print(next(l2))"
   ]
  },
  {
   "cell_type": "code",
   "execution_count": 26,
   "id": "99f33a3a-f558-4b18-bca8-8df031ea7c5d",
   "metadata": {},
   "outputs": [
    {
     "name": "stdout",
     "output_type": "stream",
     "text": [
      "4\n"
     ]
    }
   ],
   "source": [
    "print(next(l2))\n",
    "      "
   ]
  },
  {
   "cell_type": "code",
   "execution_count": 27,
   "id": "f52980a2-2da3-4d18-88d7-c92d701b7f7e",
   "metadata": {},
   "outputs": [
    {
     "name": "stdout",
     "output_type": "stream",
     "text": [
      "6\n"
     ]
    }
   ],
   "source": [
    "print(next(l2))"
   ]
  },
  {
   "cell_type": "code",
   "execution_count": 28,
   "id": "2163da57-82d5-4908-ba1f-4b818c9bcd7d",
   "metadata": {},
   "outputs": [
    {
     "name": "stdout",
     "output_type": "stream",
     "text": [
      "8\n"
     ]
    }
   ],
   "source": [
    "print(next(l2))"
   ]
  },
  {
   "cell_type": "code",
   "execution_count": 29,
   "id": "74cce294-108d-4ef9-be2e-e7144516823a",
   "metadata": {},
   "outputs": [
    {
     "name": "stdout",
     "output_type": "stream",
     "text": [
      "10\n"
     ]
    }
   ],
   "source": [
    "print(next(l2))"
   ]
  },
  {
   "cell_type": "code",
   "execution_count": 30,
   "id": "94358780-6f70-4e4a-97e4-54130be16fe5",
   "metadata": {},
   "outputs": [
    {
     "name": "stdout",
     "output_type": "stream",
     "text": [
      "12\n"
     ]
    }
   ],
   "source": [
    "print(next(l2))"
   ]
  },
  {
   "cell_type": "code",
   "execution_count": null,
   "id": "f1e39381-1b8e-4951-bb0e-cb73ba3e8b7a",
   "metadata": {},
   "outputs": [],
   "source": []
  },
  {
   "cell_type": "code",
   "execution_count": null,
   "id": "af44b164-cf68-4b0e-9eed-76acbc6338ae",
   "metadata": {},
   "outputs": [],
   "source": [
    "\"\"\"\n",
    "4] What is a generator function in python ? Why yield keyword is used ? Give  an example of a generator function.\n",
    "\n",
    "\n",
    "ANSWER] Generator function generate outcomes one by one with holding every thing in memory.Key word for generator\n",
    "function is yield ."
   ]
  },
  {
   "cell_type": "code",
   "execution_count": 35,
   "id": "b30d15b7-8c04-4e6f-9131-c5fc93ab7064",
   "metadata": {},
   "outputs": [],
   "source": [
    "def test_fib(n):\n",
    "    a,b = 0,1\n",
    "    for i in range(n):\n",
    "        yield a\n",
    "    \n",
    "        a,b = b, a+b"
   ]
  },
  {
   "cell_type": "code",
   "execution_count": 36,
   "id": "4d789d06-c56f-42d6-9087-1a0390ab61e1",
   "metadata": {},
   "outputs": [
    {
     "name": "stdout",
     "output_type": "stream",
     "text": [
      "0\n",
      "1\n",
      "1\n",
      "2\n",
      "3\n",
      "5\n",
      "8\n",
      "13\n",
      "21\n",
      "34\n"
     ]
    }
   ],
   "source": [
    "for i in test_fib(10):\n",
    "    print(i)\n"
   ]
  },
  {
   "cell_type": "code",
   "execution_count": null,
   "id": "083cfbaf-e48c-4f62-a32f-9f805fd8fb8b",
   "metadata": {},
   "outputs": [],
   "source": []
  },
  {
   "cell_type": "code",
   "execution_count": null,
   "id": "35bdb16b-1766-47c2-97af-f41230446241",
   "metadata": {},
   "outputs": [],
   "source": [
    "\"\"\"\n",
    "5] Create a generator function for prime number less than 1000. Use next () methods to print the first 20 prime numbers."
   ]
  },
  {
   "cell_type": "code",
   "execution_count": 30,
   "id": "3176b7d5-4828-4576-a46c-64c1ef7146a9",
   "metadata": {},
   "outputs": [],
   "source": [
    "def isPrime(num):\n",
    "    for i in range(2,num):\n",
    "        if num % i == 0:\n",
    "            return False\n",
    "    return True\n",
    "def primeGenerator(n):\n",
    "    num =2\n",
    "    while n:\n",
    "        if isPrime(num):\n",
    "            yield num\n",
    "            n-=1\n",
    "        num+=1\n",
    "    return   "
   ]
  },
  {
   "cell_type": "code",
   "execution_count": 31,
   "id": "fb8f3086-a947-44ca-9dd1-ec4ab1a9b30b",
   "metadata": {},
   "outputs": [],
   "source": [
    "it =primeGenerator(20)\n"
   ]
  },
  {
   "cell_type": "code",
   "execution_count": 32,
   "id": "92329868-bc10-479e-b218-2f8deadff654",
   "metadata": {},
   "outputs": [
    {
     "name": "stdout",
     "output_type": "stream",
     "text": [
      "2 3 5 7 11 13 17 19 23 29 31 37 41 43 47 53 59 61 67 71 "
     ]
    }
   ],
   "source": [
    "for e in it:\n",
    "    print( e , end=\" \")\n",
    "\n",
    "    "
   ]
  },
  {
   "cell_type": "code",
   "execution_count": null,
   "id": "6df61828-5809-4834-be75-f7d89053e01b",
   "metadata": {},
   "outputs": [],
   "source": []
  },
  {
   "cell_type": "code",
   "execution_count": null,
   "id": "239241ea-172c-4f29-a404-61e8f369df13",
   "metadata": {},
   "outputs": [],
   "source": [
    "\"\"\"\n",
    "6] Write a python program to print the 10 fabonacci numbers using a while loop."
   ]
  },
  {
   "cell_type": "code",
   "execution_count": 72,
   "id": "71da435e-250d-4628-9308-7462ef7192f5",
   "metadata": {},
   "outputs": [
    {
     "name": "stdout",
     "output_type": "stream",
     "text": [
      "0\n",
      "1\n",
      "1\n",
      "2\n",
      "3\n",
      "5\n",
      "8\n",
      "13\n",
      "21\n",
      "34\n"
     ]
    }
   ],
   "source": [
    "a = 0\n",
    "b = 1\n",
    "i = 1\n",
    "while i<=10:\n",
    "    print(a)\n",
    "    c = a+ b\n",
    "    a = b\n",
    "    b = c\n",
    "    i = i+1\n",
    "        \n"
   ]
  },
  {
   "cell_type": "code",
   "execution_count": null,
   "id": "da7eda65-55b4-4366-bc82-bedc4399d02a",
   "metadata": {},
   "outputs": [],
   "source": []
  },
  {
   "cell_type": "code",
   "execution_count": null,
   "id": "2c97ca49-e32f-438c-84a6-395ac48a6973",
   "metadata": {},
   "outputs": [],
   "source": [
    "\"\"\"7]Write a list comprehension to iterate through the given string :\"pwskills\"\n",
    "output : [ \"p\",\"w\",\"s\",\"k\",\"i\",\"l\",\"l\",\"s\"]"
   ]
  },
  {
   "cell_type": "code",
   "execution_count": 76,
   "id": "0527ae1a-5b6a-4d2a-bad0-5270e0ef86d5",
   "metadata": {},
   "outputs": [],
   "source": [
    "string =  \"pwskills\""
   ]
  },
  {
   "cell_type": "code",
   "execution_count": 78,
   "id": "5ae3b671-d478-47dd-b2b6-077cffc42382",
   "metadata": {},
   "outputs": [
    {
     "data": {
      "text/plain": [
       "['p', 'w', 's', 'k', 'i', 'l', 'l', 's']"
      ]
     },
     "execution_count": 78,
     "metadata": {},
     "output_type": "execute_result"
    }
   ],
   "source": [
    "[i for i in string]"
   ]
  },
  {
   "cell_type": "code",
   "execution_count": null,
   "id": "13258fdb-831e-4874-a8c7-b4503f20bf9e",
   "metadata": {},
   "outputs": [],
   "source": []
  },
  {
   "cell_type": "code",
   "execution_count": null,
   "id": "d0c7555d-6c4f-4aa5-8bf0-da75a9eda0c9",
   "metadata": {},
   "outputs": [],
   "source": [
    "\"\"\"\n",
    "8] Write a python program to check whether a given number is palindrome or not using a while loop."
   ]
  },
  {
   "cell_type": "code",
   "execution_count": 95,
   "id": "0dece329-b28f-48c8-9c99-92e8cafa4a84",
   "metadata": {},
   "outputs": [
    {
     "name": "stdin",
     "output_type": "stream",
     "text": [
      "enter the number 567321\n"
     ]
    },
    {
     "name": "stdout",
     "output_type": "stream",
     "text": [
      "not palindrome\n"
     ]
    }
   ],
   "source": [
    "num = int(input(\"enter the number\"))\n",
    "temp = num\n",
    "reverse =0\n",
    "while temp > 0:\n",
    "    remainder = temp %10\n",
    "    reverse = (reverse * 10)+ remainder\n",
    "    temp = temp //10\n",
    "if num == reverse:\n",
    "    print(\"palindrome\")\n",
    "else:\n",
    "    print(\"not palindrome\")\n"
   ]
  },
  {
   "cell_type": "code",
   "execution_count": null,
   "id": "c1be560e-582e-471b-9cc9-fc2da94465fe",
   "metadata": {},
   "outputs": [],
   "source": []
  },
  {
   "cell_type": "code",
   "execution_count": null,
   "id": "5c98dde2-8e22-43fe-92f0-8852af9df730",
   "metadata": {},
   "outputs": [],
   "source": [
    "\"\"\"\n",
    "9]Write a code to print odd numbers from 1 to 100 using list comprehension."
   ]
  },
  {
   "cell_type": "code",
   "execution_count": 81,
   "id": "cab130cd-fb21-4aa9-8566-cce34751aba8",
   "metadata": {},
   "outputs": [
    {
     "data": {
      "text/plain": [
       "[1,\n",
       " 3,\n",
       " 5,\n",
       " 7,\n",
       " 9,\n",
       " 11,\n",
       " 13,\n",
       " 15,\n",
       " 17,\n",
       " 19,\n",
       " 21,\n",
       " 23,\n",
       " 25,\n",
       " 27,\n",
       " 29,\n",
       " 31,\n",
       " 33,\n",
       " 35,\n",
       " 37,\n",
       " 39,\n",
       " 41,\n",
       " 43,\n",
       " 45,\n",
       " 47,\n",
       " 49,\n",
       " 51,\n",
       " 53,\n",
       " 55,\n",
       " 57,\n",
       " 59,\n",
       " 61,\n",
       " 63,\n",
       " 65,\n",
       " 67,\n",
       " 69,\n",
       " 71,\n",
       " 73,\n",
       " 75,\n",
       " 77,\n",
       " 79,\n",
       " 81,\n",
       " 83,\n",
       " 85,\n",
       " 87,\n",
       " 89,\n",
       " 91,\n",
       " 93,\n",
       " 95,\n",
       " 97,\n",
       " 99]"
      ]
     },
     "execution_count": 81,
     "metadata": {},
     "output_type": "execute_result"
    }
   ],
   "source": [
    "[i for i in range(1,101) if i%2 != 0]"
   ]
  },
  {
   "cell_type": "code",
   "execution_count": null,
   "id": "8b2ac2de-8782-46a1-a21c-bb021f091540",
   "metadata": {},
   "outputs": [],
   "source": []
  },
  {
   "cell_type": "code",
   "execution_count": null,
   "id": "349227b0-a1ca-4721-9980-d7000b40f334",
   "metadata": {},
   "outputs": [],
   "source": []
  },
  {
   "cell_type": "code",
   "execution_count": null,
   "id": "8f80da1b-05b9-420f-8545-1810093cbd33",
   "metadata": {},
   "outputs": [],
   "source": []
  }
 ],
 "metadata": {
  "kernelspec": {
   "display_name": "Python 3 (ipykernel)",
   "language": "python",
   "name": "python3"
  },
  "language_info": {
   "codemirror_mode": {
    "name": "ipython",
    "version": 3
   },
   "file_extension": ".py",
   "mimetype": "text/x-python",
   "name": "python",
   "nbconvert_exporter": "python",
   "pygments_lexer": "ipython3",
   "version": "3.10.6"
  }
 },
 "nbformat": 4,
 "nbformat_minor": 5
}
