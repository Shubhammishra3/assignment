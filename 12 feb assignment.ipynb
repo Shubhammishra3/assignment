{
 "cells": [
  {
   "cell_type": "code",
   "execution_count": null,
   "id": "17329333-c2a1-4a35-a0c7-9ba768de1fa1",
   "metadata": {},
   "outputs": [],
   "source": [
    " \"\"\"                          [ASSIGNMENT 12 FEB]\n",
    "1] What is an exception in python ? write the difference between exception and syntax errors.\n",
    "\n",
    "answer] To handle the exception ,we have to put the code inside try block. Now when an exception occurs, the rest of\n",
    "the code inside the try block is skipped. The except block catches the exception and statements inside the except block\n",
    "are executed.\n",
    "      There are mainly three types of distinguishable errors in python.\n",
    "      1) Syntax error - similar to grammar error in a language like missing symbols,incorrect indentation,spelling mistake\n",
    "      2) Exceptions - may occur in syntatically correct code at run time, when python can not execute the requested action\n",
    "         like try to read a file and file does not exist,division by zero error\n",
    "      3) Logical errors - in case of logical error , code does not give desired result but it does not show any error message"
   ]
  },
  {
   "cell_type": "code",
   "execution_count": null,
   "id": "cf35bb5a-e091-485e-ae12-40ab56b48812",
   "metadata": {},
   "outputs": [],
   "source": [
    "\"\"\"\n",
    "2] What happens when an exception is not handled? Explain  with an example.\n",
    "\n",
    "answer] Exceptions are errors that are detected during execution . When ever their is an error in a program , exceptions \n",
    "are raised. if these exceptions are not handled , it drives the program into a halt state.Exception handling in python\n",
    "is required to prevent the program from terminating abruptly."
   ]
  },
  {
   "cell_type": "code",
   "execution_count": 1,
   "id": "ad556d4b-fef2-41dd-a981-69dcbb724635",
   "metadata": {},
   "outputs": [
    {
     "name": "stdout",
     "output_type": "stream",
     "text": [
      "this will execute when try block execute\n"
     ]
    }
   ],
   "source": [
    "try:\n",
    "    f = open(\"text.txt\",\"w\")\n",
    "    f.write(\" shubham mishra\")\n",
    "except Exception as e:\n",
    "    print(\" this is my except block\")\n",
    "else:\n",
    "    print(\"this will execute when try block execute\")"
   ]
  },
  {
   "cell_type": "code",
   "execution_count": null,
   "id": "7f1931ce-cd05-45c0-be32-902a45f170d2",
   "metadata": {},
   "outputs": [],
   "source": []
  },
  {
   "cell_type": "code",
   "execution_count": null,
   "id": "6614e669-20dd-4382-a6b6-7f4ef7f9f0a1",
   "metadata": {},
   "outputs": [],
   "source": [
    "\"\"\"\n",
    "3] Which python statements are used to catch and handle exceptions?Explain with an example .\n",
    "\n",
    "answer] The try and except block is used to catch and handle exceptions. Python executes code following the try \n",
    "statement as a normal part of the program.The code that follows the except statement is the program's response to any \n",
    "exceptions in the preceding try clause."
   ]
  },
  {
   "cell_type": "code",
   "execution_count": 2,
   "id": "ac65433c-d259-4056-84e9-c98fa08394ab",
   "metadata": {},
   "outputs": [
    {
     "name": "stdout",
     "output_type": "stream",
     "text": [
      "this will execute always\n"
     ]
    }
   ],
   "source": [
    "try:\n",
    "    f = open(\"text.txt\",\"w\")\n",
    "    f.write(\" shubham mishra\")\n",
    "except Exception as e:\n",
    "    print(\" this is my except block\")\n",
    "finally:\n",
    "    print(\"this will execute always\")"
   ]
  },
  {
   "cell_type": "code",
   "execution_count": null,
   "id": "21254b80-c8e1-43b3-8287-929a7c0f0bb6",
   "metadata": {},
   "outputs": [],
   "source": [
    "\"\"\"\n",
    "4] Explain with an example.\n",
    "\n",
    "1) try - The try block lets you test a block of code for errors.\n",
    "2) except - Except block lets you handle the error.\n",
    "2) finally -Finally block lets you execute code ,regardless of the result of the try and except blocks.\n",
    "3) raise - Raise is a keyword in python is mainly used for exception handling.\n",
    "4) else - else block will execute code when their is no error(try block execute)"
   ]
  },
  {
   "cell_type": "code",
   "execution_count": 5,
   "id": "78e71b67-920b-4a9f-a845-14ba778b2012",
   "metadata": {},
   "outputs": [
    {
     "name": "stdout",
     "output_type": "stream",
     "text": [
      "3.0\n"
     ]
    }
   ],
   "source": [
    "a = 12\n",
    "b = 4\n",
    "try:\n",
    "    if a<0 or b<0:\n",
    "        raise ZeroDivisionError\n",
    "    print(a/b)\n",
    "except ZeroDivisionError:\n",
    "    print(\"please enter valid integer value\")"
   ]
  },
  {
   "cell_type": "code",
   "execution_count": null,
   "id": "ec4329f6-94a4-4c84-b4b8-7775e73b8015",
   "metadata": {},
   "outputs": [],
   "source": [
    "\"\"\"\n",
    "5] What are customs exceptions in python? Why do we need custom exceptions.explain with example\n",
    "\n",
    "answer] Like standard exception classes, custom exceptions are also classes.Hence we can add functionality to\n",
    "the custom exception classes like\n",
    "       1] adding attributes and properties\n",
    "       2] adding methods\n",
    "       3] overriding the  __str__ and __repr__ methods"
   ]
  },
  {
   "cell_type": "code",
   "execution_count": 21,
   "id": "f3c09bc1-7f73-40df-be8c-1377b206b663",
   "metadata": {},
   "outputs": [],
   "source": [
    "class error(Exception):\n",
    "    pass"
   ]
  },
  {
   "cell_type": "code",
   "execution_count": 22,
   "id": "45ae6bca-2df3-4d34-a023-274a4ab26c29",
   "metadata": {},
   "outputs": [],
   "source": [
    "class zerodivision(error):\n",
    "    pass"
   ]
  },
  {
   "cell_type": "code",
   "execution_count": 23,
   "id": "b0b7aa51-e175-4a2f-a641-93c35850c8a8",
   "metadata": {},
   "outputs": [
    {
     "name": "stdin",
     "output_type": "stream",
     "text": [
      "enter a number 0\n"
     ]
    },
    {
     "name": "stdout",
     "output_type": "stream",
     "text": [
      "input the value is zero,try again!\n",
      "\n"
     ]
    }
   ],
   "source": [
    "try:\n",
    "    i_num = int(input(\"enter a number\"))\n",
    "    if i_num ==0:\n",
    "       class error(Exception):\n",
    "    pass raise zerodivision\n",
    "except zerodivision:\n",
    "    print(\"input the value is zero,try again!\")\n",
    "    print()\n",
    "        "
   ]
  },
  {
   "cell_type": "code",
   "execution_count": null,
   "id": "ef7a3002-c170-4bae-9603-12df84fc0d76",
   "metadata": {},
   "outputs": [],
   "source": []
  },
  {
   "cell_type": "code",
   "execution_count": null,
   "id": "219106a3-caa4-4524-a05b-4431a74c7d5a",
   "metadata": {},
   "outputs": [],
   "source": [
    "\"\"\"\n",
    "6] Creat a custom exception class. use this class to handle an exception."
   ]
  },
  {
   "cell_type": "code",
   "execution_count": 24,
   "id": "9ffc59a9-6721-46fd-8176-856271b76d90",
   "metadata": {},
   "outputs": [
    {
     "name": "stdout",
     "output_type": "stream",
     "text": [
      " a new exception occurred : 6\n"
     ]
    }
   ],
   "source": [
    "class myerror(Exception):\n",
    "    def __init__(self,value):\n",
    "        self.value = value\n",
    "    def __str__(self):\n",
    "        return(repr(self.value))\n",
    "try:\n",
    "    raise (myerror(3*2))\n",
    "except myerror as error:\n",
    "    print(' a new exception occurred :',error.value)"
   ]
  },
  {
   "cell_type": "code",
   "execution_count": null,
   "id": "ac4be622-a306-4060-9a21-dcfc32ee50fd",
   "metadata": {},
   "outputs": [],
   "source": []
  }
 ],
 "metadata": {
  "kernelspec": {
   "display_name": "Python 3 (ipykernel)",
   "language": "python",
   "name": "python3"
  },
  "language_info": {
   "codemirror_mode": {
    "name": "ipython",
    "version": 3
   },
   "file_extension": ".py",
   "mimetype": "text/x-python",
   "name": "python",
   "nbconvert_exporter": "python",
   "pygments_lexer": "ipython3",
   "version": "3.10.6"
  }
 },
 "nbformat": 4,
 "nbformat_minor": 5
}
