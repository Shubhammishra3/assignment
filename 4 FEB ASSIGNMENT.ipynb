{
 "cells": [
  {
   "cell_type": "code",
   "execution_count": null,
   "id": "e5102aa7-4655-4a77-9731-6cf0286bdd45",
   "metadata": {},
   "outputs": [],
   "source": [
    "\"\"\"                            [ ASSGNMENT 4 FEB]  \n",
    "\n",
    "\n",
    "1] create a python program to sort the given list of tuples based on integer value using a lambda function.\n",
    "[(\"Sachin Tendulkar\" , 34357) , (\"Ricky Ponting\" , 27483),(\"Jack kallis\",25534), (\"Virat Kohli\",24936)]             \"\"\""
   ]
  },
  {
   "cell_type": "code",
   "execution_count": 1,
   "id": "d23354bb-8c2a-4f8e-96e9-a008131cb295",
   "metadata": {},
   "outputs": [],
   "source": [
    "l= [(\"Sachin Tendulkar\" , 34357) , (\"Ricky Ponting\" , 27483),(\"Jack kallis\",25534), (\"Virat Kohli\",24936)]"
   ]
  },
  {
   "cell_type": "code",
   "execution_count": 2,
   "id": "f812977f-7e9b-44d9-9872-7ee15390c719",
   "metadata": {},
   "outputs": [],
   "source": [
    "sort = lambda i: i[0::]"
   ]
  },
  {
   "cell_type": "code",
   "execution_count": 3,
   "id": "1721c898-20f4-4cd6-b1ad-f4e42dbb6e66",
   "metadata": {},
   "outputs": [
    {
     "data": {
      "text/plain": [
       "[('Sachin Tendulkar', 34357),\n",
       " ('Ricky Ponting', 27483),\n",
       " ('Jack kallis', 25534),\n",
       " ('Virat Kohli', 24936)]"
      ]
     },
     "execution_count": 3,
     "metadata": {},
     "output_type": "execute_result"
    }
   ],
   "source": [
    "sort(l)"
   ]
  },
  {
   "cell_type": "code",
   "execution_count": 5,
   "id": "29d211dd-c988-4cb9-afe0-34b764ce4037",
   "metadata": {},
   "outputs": [
    {
     "data": {
      "text/plain": [
       "[('Sachin Tendulkar', 34357),\n",
       " ('Ricky Ponting', 27483),\n",
       " ('Jack kallis', 25534),\n",
       " ('Virat Kohli', 24936)]"
      ]
     },
     "execution_count": 5,
     "metadata": {},
     "output_type": "execute_result"
    }
   ],
   "source": [
    "list(filter(lambda i:i[0::],l))         #   ALTERNATE METHOD"
   ]
  },
  {
   "cell_type": "code",
   "execution_count": 6,
   "id": "c58d6fe9-cdb2-4bff-8835-32863d01dd60",
   "metadata": {},
   "outputs": [
    {
     "data": {
      "text/plain": [
       "[('Sachin Tendulkar', 34357),\n",
       " ('Ricky Ponting', 27483),\n",
       " ('Jack kallis', 25534),\n",
       " ('Virat Kohli', 24936)]"
      ]
     },
     "execution_count": 6,
     "metadata": {},
     "output_type": "execute_result"
    }
   ],
   "source": [
    "list(map(lambda i: i[0::],l))          #    ALTERNATE METHOD"
   ]
  },
  {
   "cell_type": "code",
   "execution_count": 7,
   "id": "0b2cfdd6-7ae6-4bfb-ac16-ff32c5e85735",
   "metadata": {},
   "outputs": [],
   "source": []
  },
  {
   "cell_type": "code",
   "execution_count": null,
   "id": "7c877294-b3da-4564-9a05-058eaba554dd",
   "metadata": {},
   "outputs": [],
   "source": []
  },
  {
   "cell_type": "code",
   "execution_count": null,
   "id": "074cea29-41ae-4c47-954d-8b26a14c6002",
   "metadata": {},
   "outputs": [],
   "source": []
  },
  {
   "cell_type": "code",
   "execution_count": null,
   "id": "8da77754-6312-4c66-bf7f-b756035f3d1b",
   "metadata": {},
   "outputs": [],
   "source": [
    "\"\"\"\n",
    "2] Write a python program to find the square of all the numbers in the given list of integers using lambda and map function?\n",
    "      [ 1,2,3,4,5,6,7,8,9,10]"
   ]
  },
  {
   "cell_type": "code",
   "execution_count": 10,
   "id": "d04710da-8e57-4ce7-883f-14925c4233c5",
   "metadata": {},
   "outputs": [],
   "source": [
    "l=  [ 1,2,3,4,5,6,7,8,9,10]"
   ]
  },
  {
   "cell_type": "code",
   "execution_count": 11,
   "id": "d3cb1234-24c4-46e8-a153-bbc22c4616a5",
   "metadata": {},
   "outputs": [
    {
     "data": {
      "text/plain": [
       "[1, 4, 9, 16, 25, 36, 49, 64, 81, 100]"
      ]
     },
     "execution_count": 11,
     "metadata": {},
     "output_type": "execute_result"
    }
   ],
   "source": [
    "list(map(lambda i: i**2 , l))"
   ]
  },
  {
   "cell_type": "code",
   "execution_count": null,
   "id": "e62474b4-c883-4b4c-a764-b3aff7f1a74a",
   "metadata": {},
   "outputs": [],
   "source": []
  },
  {
   "cell_type": "code",
   "execution_count": null,
   "id": "4635c6d7-8d96-4dcf-b28e-509cd5048c76",
   "metadata": {},
   "outputs": [],
   "source": []
  },
  {
   "cell_type": "code",
   "execution_count": null,
   "id": "a33efa80-ed3a-468b-9125-b6a026f9f759",
   "metadata": {},
   "outputs": [],
   "source": [
    "\"\"\"\n",
    "3]Write a python program to convert the given list of  integers into a tuple of strings. Use map and lambda functions.\n",
    "string : [1,2,3,4,5,6,7,8,9,10]\n",
    "Expected outcome :( \"1\",\"2\",\"3\",\"4\",\"5\",\"6\",\"7\",\"8\",\"9\",\"10\")"
   ]
  },
  {
   "cell_type": "code",
   "execution_count": 55,
   "id": "a24b1912-b07b-4fb2-8da0-46d917261a57",
   "metadata": {},
   "outputs": [],
   "source": [
    "string = [1,2,3,4,5,6,7,8,9,10]"
   ]
  },
  {
   "cell_type": "code",
   "execution_count": 71,
   "id": "6042f76b-4cbb-4e7a-961f-e24bf98a2ca9",
   "metadata": {},
   "outputs": [
    {
     "data": {
      "text/plain": [
       "('1', '2', '3', '4', '5', '6', '7', '8', '9', '10')"
      ]
     },
     "execution_count": 71,
     "metadata": {},
     "output_type": "execute_result"
    }
   ],
   "source": [
    "tuple(map(lambda i : str(i), string))"
   ]
  },
  {
   "cell_type": "code",
   "execution_count": null,
   "id": "488d2c11-d6a7-4546-af7f-ce7abf5ab35c",
   "metadata": {},
   "outputs": [],
   "source": []
  },
  {
   "cell_type": "code",
   "execution_count": null,
   "id": "d285e677-fbfe-4c20-96fc-1c0416291d17",
   "metadata": {},
   "outputs": [],
   "source": []
  },
  {
   "cell_type": "code",
   "execution_count": null,
   "id": "d5a34e7f-9215-46ef-9bd5-8e556ef0edc4",
   "metadata": {},
   "outputs": [],
   "source": []
  },
  {
   "cell_type": "code",
   "execution_count": null,
   "id": "fb0cd660-cfb3-403c-8d56-69afde3f608c",
   "metadata": {},
   "outputs": [],
   "source": [
    "\"\"\"\n",
    "4] Write a python program using reduce function to compute the product of a list contining numbers from 1 to 25."
   ]
  },
  {
   "cell_type": "code",
   "execution_count": 44,
   "id": "fdc95980-4032-4aec-9a4f-b017d3015f02",
   "metadata": {},
   "outputs": [],
   "source": [
    " l = (range(1,26))"
   ]
  },
  {
   "cell_type": "code",
   "execution_count": 48,
   "id": "2b332124-b32d-4ec0-a53a-b8e4644660b3",
   "metadata": {},
   "outputs": [
    {
     "data": {
      "text/plain": [
       "15511210043330985984000000"
      ]
     },
     "execution_count": 48,
     "metadata": {},
     "output_type": "execute_result"
    }
   ],
   "source": [
    "reduce(lambda i, j: i*j , l)"
   ]
  },
  {
   "cell_type": "code",
   "execution_count": null,
   "id": "9dbf1e1f-689b-4240-b186-b01bcc6e3be0",
   "metadata": {},
   "outputs": [],
   "source": []
  },
  {
   "cell_type": "code",
   "execution_count": null,
   "id": "60bc863e-700c-4fe2-a290-fe20cda9e4f4",
   "metadata": {},
   "outputs": [],
   "source": []
  },
  {
   "cell_type": "code",
   "execution_count": null,
   "id": "d47f4d6a-ae7b-48ca-9d92-2a21351b1c3c",
   "metadata": {},
   "outputs": [],
   "source": [
    "\"\"\"\n",
    "5] Write a python program to filter the number in a given list that are divisible by 2 and 3 using the filter function.\n",
    "[2,3,6,9,27,60,90,120,55,46]"
   ]
  },
  {
   "cell_type": "code",
   "execution_count": 51,
   "id": "7eba5fb9-3e45-44fb-bb7c-18263933bf8c",
   "metadata": {},
   "outputs": [],
   "source": [
    "l6 = [2,3,6,9,27,60,90,120,55,46]"
   ]
  },
  {
   "cell_type": "code",
   "execution_count": 52,
   "id": "33ba86c1-eaa5-4ca7-a415-1a523af7d3fe",
   "metadata": {},
   "outputs": [
    {
     "data": {
      "text/plain": [
       "[6, 60, 90, 120]"
      ]
     },
     "execution_count": 52,
     "metadata": {},
     "output_type": "execute_result"
    }
   ],
   "source": [
    "list(filter(lambda i :  i % 2 ==0 and i % 3 ==0 , l6))"
   ]
  },
  {
   "cell_type": "code",
   "execution_count": null,
   "id": "40472658-fcf8-4d87-981b-3fbc1e604f5b",
   "metadata": {},
   "outputs": [],
   "source": [
    "\"\"\"\n",
    "6] Write a python program to find the palindromes in the given list of strings using lambda and filter function.\n",
    "[\"python\",\"php\",\"aba\",\"radar\",\"level\"]"
   ]
  },
  {
   "cell_type": "code",
   "execution_count": 53,
   "id": "797cdcf4-d9e0-47c6-9bf9-d9caa6ad840a",
   "metadata": {},
   "outputs": [],
   "source": [
    "l7 = [\"python\",\"php\",\"aba\",\"radar\",\"level\"]"
   ]
  },
  {
   "cell_type": "code",
   "execution_count": 54,
   "id": "f14772a6-98eb-4d4c-86f5-2a9c09d3bad7",
   "metadata": {},
   "outputs": [
    {
     "data": {
      "text/plain": [
       "['php', 'aba', 'radar', 'level']"
      ]
     },
     "execution_count": 54,
     "metadata": {},
     "output_type": "execute_result"
    }
   ],
   "source": [
    "list(filter(lambda i: i[0::] == i[::-1],l7))"
   ]
  },
  {
   "cell_type": "code",
   "execution_count": null,
   "id": "ae8fff4c-b395-4838-b24b-913b36d83b65",
   "metadata": {},
   "outputs": [],
   "source": []
  }
 ],
 "metadata": {
  "kernelspec": {
   "display_name": "Python 3 (ipykernel)",
   "language": "python",
   "name": "python3"
  },
  "language_info": {
   "codemirror_mode": {
    "name": "ipython",
    "version": 3
   },
   "file_extension": ".py",
   "mimetype": "text/x-python",
   "name": "python",
   "nbconvert_exporter": "python",
   "pygments_lexer": "ipython3",
   "version": "3.10.6"
  }
 },
 "nbformat": 4,
 "nbformat_minor": 5
}
