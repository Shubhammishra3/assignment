{
 "cells": [
  {
   "cell_type": "markdown",
   "id": "bd2fee70-5d4e-42f9-8ffd-2e2d3b1b9342",
   "metadata": {},
   "source": [
    "\"\"\"                                  [ ASSIGNMENT 2 ] 30 JAN\n",
    "1] WRITE A PROGRAM TO ACCEPT PERCENTAGE FROM USER AND DISPLAY THE GRADE ACCORING TO FOLLOWING CRITERIA\n",
    "               MARKS                     GRADE\n",
    "               >90                         A\n",
    "               >80 AND <=90                B\n",
    "               >=60 AND <=80               C\n",
    "               BELOW 60                    D                                                     \"\"\""
   ]
  },
  {
   "cell_type": "code",
   "execution_count": 3,
   "id": "3e0a1956-230d-44e7-929b-c99aed3a910c",
   "metadata": {},
   "outputs": [
    {
     "name": "stdin",
     "output_type": "stream",
     "text": [
      " enter your marks 120\n"
     ]
    },
    {
     "name": "stdout",
     "output_type": "stream",
     "text": [
      "invalid marks\n"
     ]
    }
   ],
   "source": [
    "marks = int(input(\" enter your marks\"))\n",
    "if marks > 90 and marks <=100:\n",
    "    print(\"grade obtained is A\")\n",
    "elif marks > 80 and marks <=90:\n",
    "    print(\"grade obtained is B\")\n",
    "elif marks >=60 and marks <= 80:\n",
    "    print(\"grade obtained is C\")\n",
    "elif marks<60:\n",
    "    print(\"grade obtained is D\")\n",
    "else:\n",
    "    print(\"invalid marks\")"
   ]
  },
  {
   "cell_type": "markdown",
   "id": "7beb833e-c5bb-4d63-80a5-c15850d031a7",
   "metadata": {},
   "source": [
    "\"\"\" 2] WRITE A PROGRAM TO ACCEPT THE COST OF BIKE AND DISPLAY THE ROAD TAX TO BE PAID AS PER FOLLOWING CRITERIA\n",
    "             TAX                COST PRICE[Rs]\n",
    "             15%                 >100000\n",
    "             10%                 >50000 and <=100000\n",
    "             5%                  <=50000"
   ]
  },
  {
   "cell_type": "code",
   "execution_count": 4,
   "id": "127f2ca4-994b-4687-a560-76c8e62cdede",
   "metadata": {},
   "outputs": [
    {
     "name": "stdin",
     "output_type": "stream",
     "text": [
      "enter the cost of bike 5000000\n"
     ]
    },
    {
     "name": "stdout",
     "output_type": "stream",
     "text": [
      "TAX of bike is 750000.0\n"
     ]
    }
   ],
   "source": [
    "cost =int(input(\"enter the cost of bike\"))\n",
    "if cost > 100000:\n",
    "    tax = .15*cost\n",
    "    print(\"TAX of bike is\" , tax)\n",
    "if cost > 50000 and cost <= 100000:\n",
    "    tax = .1*cost\n",
    "    print(\"TAX of bike is \" ,tax)\n",
    "if cost <= 50000:\n",
    "    tax = .05*cost\n",
    "    print(\"TAX of bike is \" , tax)"
   ]
  },
  {
   "cell_type": "markdown",
   "id": "2aba52c7-3add-40a1-8e23-9faf4cc027a9",
   "metadata": {},
   "source": [
    "\"\"\" 3] ACCEPT CITY FROM USER AND DISPLAY MONUMENT OF THAT CITY.\n",
    "           CITY           MONUMENT\n",
    "           DELHI          RED FORT\n",
    "           AGRA           TAJ MAHAL\n",
    "           JAIPUR         JAI MAHAL                                      \"\"\""
   ]
  },
  {
   "cell_type": "code",
   "execution_count": 6,
   "id": "1e6cd49f-37ea-4c6b-810f-dc766d6294c2",
   "metadata": {},
   "outputs": [
    {
     "name": "stdin",
     "output_type": "stream",
     "text": [
      " enter city DELHI\n"
     ]
    },
    {
     "name": "stdout",
     "output_type": "stream",
     "text": [
      " red fort\n"
     ]
    }
   ],
   "source": [
    "city = input(\" enter city\")\n",
    "if city.upper()  == \"DELHI\":\n",
    "     print(\" red fort\")\n",
    "elif city.upper() == \"AGRA\":\n",
    "     print(\"tajmahal\")\n",
    "elif city.upper() == \"jaipur\":\n",
    "     print(\"jal maha\")\n",
    "    "
   ]
  },
  {
   "cell_type": "markdown",
   "id": "bfc9ce1f-efae-4c72-a46b-75dd2a1317bd",
   "metadata": {},
   "source": [
    "\"\"\" 4] CHECK HOW MANY TIMES A GIVEN NUMBER CAN BE DIVIDED BY 3 BEFORE IT IS LESS THA OR EQUAL TO 10   \"\"\""
   ]
  },
  {
   "cell_type": "code",
   "execution_count": 1,
   "id": "bdc3037b-b054-42f3-84f2-8dd2dece7433",
   "metadata": {},
   "outputs": [
    {
     "name": "stdin",
     "output_type": "stream",
     "text": [
      "enter number 180\n"
     ]
    },
    {
     "name": "stdout",
     "output_type": "stream",
     "text": [
      "2\n"
     ]
    }
   ],
   "source": [
    "number = int(input(\"enter number\"))\n",
    "count =0\n",
    "while(number >= 3):\n",
    "    if number % 3 == 0:\n",
    "        count = count +1\n",
    "    number = number /3\n",
    "print(count)"
   ]
  },
  {
   "cell_type": "code",
   "execution_count": null,
   "id": "17eae746-85c9-4a76-bfc3-a8258d4baac5",
   "metadata": {},
   "outputs": [],
   "source": [
    "\"\"\" 5] WHY AND WHEN TO USE WHILE LOOP IN PYTHON GIVE A DETAILED DESCROPTION WITH EXAMPLE?        \"\"\""
   ]
  },
  {
   "cell_type": "markdown",
   "id": "4e78e015-ba74-47fb-bf85-79fa73a9df13",
   "metadata": {},
   "source": [
    "\"\"\"\n",
    "5 ANSWER] Loops are important in python or any other language as they help you to execute a block of code repeatedly .\n",
    "we will often come face to face with situations where you would need to use a piece of code over and over but you donot want to write the same line of code multiple times.\n",
    "while loop is used to run a block of code untill a certain conditions is met . if condition evaluates to True , code inside the loop continue to execute."
   ]
  },
  {
   "cell_type": "code",
   "execution_count": 7,
   "id": "05bf7f5d-0119-45a3-b372-6f80b81c2ce4",
   "metadata": {},
   "outputs": [
    {
     "name": "stdout",
     "output_type": "stream",
     "text": [
      "1\n",
      "2\n",
      "3\n"
     ]
    }
   ],
   "source": [
    "# example of while loop\n",
    "i = 1\n",
    "while i < 6:\n",
    "    print(i)\n",
    "    if i==3:\n",
    "        break\n",
    "    i += 1   "
   ]
  },
  {
   "cell_type": "markdown",
   "id": "36b693bb-2ab5-4f24-a41a-02b3bbb220c4",
   "metadata": {},
   "source": [
    "\"\"\"6] USE NESTED WHILE LOOP TO PRINT 3 DIFFERENT PATTERNS?         \"\"\""
   ]
  },
  {
   "cell_type": "code",
   "execution_count": 13,
   "id": "715e287e-d70e-43fa-90b1-5a41d77b758b",
   "metadata": {},
   "outputs": [
    {
     "name": "stdin",
     "output_type": "stream",
     "text": [
      "enter the number of rows 5\n"
     ]
    },
    {
     "name": "stdout",
     "output_type": "stream",
     "text": [
      "*****\n",
      "****\n",
      "***\n",
      "**\n",
      "*\n"
     ]
    }
   ],
   "source": [
    "num  = int(input(\"enter the number of rows\"))     # pattern 1 using for loop [just for experiment ]\n",
    "for i in range(num,0,-1):\n",
    "    for j in range(0,i):\n",
    "        print(\"*\",end=\"\")\n",
    "    print()    "
   ]
  },
  {
   "cell_type": "code",
   "execution_count": 3,
   "id": "c8e10f98-6ef5-47d5-afb6-02934475fec0",
   "metadata": {},
   "outputs": [
    {
     "name": "stdin",
     "output_type": "stream",
     "text": [
      " enter number of rows 5\n"
     ]
    },
    {
     "name": "stdout",
     "output_type": "stream",
     "text": [
      "*\n",
      "**\n",
      "***\n",
      "****\n",
      "*****\n"
     ]
    }
   ],
   "source": [
    "n =int(input(\" enter number of rows\")               # pattern example 1\n",
    "i =1\n",
    "while i<= n:\n",
    "    j = 1\n",
    "    while j<= i:\n",
    "        print(\"*\",end = \"\")\n",
    "        j +=1\n",
    "    print()\n",
    "    i+=1\n",
    "          "
   ]
  },
  {
   "cell_type": "code",
   "execution_count": 4,
   "id": "b10a8060-610e-453c-856e-677c7dbffe2c",
   "metadata": {},
   "outputs": [
    {
     "name": "stdin",
     "output_type": "stream",
     "text": [
      " enter number of rows 5\n"
     ]
    },
    {
     "name": "stdout",
     "output_type": "stream",
     "text": [
      "*****\n",
      "****\n",
      "***\n",
      "**\n",
      "*\n"
     ]
    }
   ],
   "source": [
    "n =int(input(\" enter number of rows\"))\n",
    "i =1\n",
    "while i<= n:                                              # pattern example 2\n",
    "    j = n\n",
    "    while j>= i:\n",
    "        print(\"*\",end = \"\")\n",
    "        j -=1\n",
    "    print()\n",
    "    i+=1\n",
    "         "
   ]
  },
  {
   "cell_type": "code",
   "execution_count": 5,
   "id": "3d08d8d0-4df3-4eb2-9152-23e9da416509",
   "metadata": {},
   "outputs": [
    {
     "name": "stdin",
     "output_type": "stream",
     "text": [
      "enter number of rows 7\n"
     ]
    },
    {
     "name": "stdout",
     "output_type": "stream",
     "text": [
      "  1 \n",
      "  2   3 \n",
      "  4   5   6 \n",
      "  7   8   9  10 \n",
      " 11  12  13  14  15 \n",
      " 16  17  18  19  20  21 \n",
      " 22  23  24  25  26  27  28 \n"
     ]
    }
   ],
   "source": [
    "n = int (input(\"enter number of rows\"))\n",
    "k =1\n",
    "i = 1\n",
    "while i<= n:\n",
    "    j  =1                                                                # pattern example 3\n",
    "    while j<=i:\n",
    "        print(\"{:3d}\" . format(k) , end = \" \")\n",
    "        j += 1\n",
    "        k += 1\n",
    "    print()\n",
    "    i += 1"
   ]
  },
  {
   "cell_type": "markdown",
   "id": "5a3709d0-897a-43af-8157-8a9c2dd5d219",
   "metadata": {},
   "source": [
    "\"\"\"\n",
    "7 and 8] REVERSE A WHILE LOOP TO DISPLAY NUMBER FROM 10 TO 1?                            \"\"\""
   ]
  },
  {
   "cell_type": "code",
   "execution_count": 7,
   "id": "1c6a5a38-83e8-4b8c-b76d-1c734ce9b816",
   "metadata": {},
   "outputs": [
    {
     "name": "stdout",
     "output_type": "stream",
     "text": [
      "10\n",
      "9\n",
      "8\n",
      "7\n",
      "6\n",
      "5\n",
      "4\n",
      "3\n",
      "2\n",
      "1\n"
     ]
    }
   ],
   "source": [
    "number = 10\n",
    "while(number<=10 and number>0):\n",
    "    print(number)\n",
    "    number = number -1"
   ]
  },
  {
   "cell_type": "code",
   "execution_count": 6,
   "id": "7a5c0002-480f-4712-8583-50f518da1066",
   "metadata": {},
   "outputs": [
    {
     "name": "stdout",
     "output_type": "stream",
     "text": [
      "1\n",
      "2\n",
      "3\n",
      "4\n",
      "5\n",
      "6\n",
      "7\n",
      "8\n",
      "9\n",
      "10\n"
     ]
    }
   ],
   "source": [
    "number = 1\n",
    "while(number<=10 and number>=1):              # EXPERIMENT TO PRINT NUMBER FROM 1 TO 10 USING WHILE LOOP\n",
    "    print(number)\n",
    "    number = number + 1\n"
   ]
  },
  {
   "cell_type": "code",
   "execution_count": null,
   "id": "4b18f4db-5dd6-43aa-901f-d6589eb163b6",
   "metadata": {},
   "outputs": [],
   "source": []
  }
 ],
 "metadata": {
  "kernelspec": {
   "display_name": "Python 3 (ipykernel)",
   "language": "python",
   "name": "python3"
  },
  "language_info": {
   "codemirror_mode": {
    "name": "ipython",
    "version": 3
   },
   "file_extension": ".py",
   "mimetype": "text/x-python",
   "name": "python",
   "nbconvert_exporter": "python",
   "pygments_lexer": "ipython3",
   "version": "3.10.6"
  }
 },
 "nbformat": 4,
 "nbformat_minor": 5
}
