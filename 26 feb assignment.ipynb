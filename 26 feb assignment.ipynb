{
 "cells": [
  {
   "cell_type": "code",
   "execution_count": null,
   "id": "4a67fa56-8f8f-4a60-888a-ac8f64dc49ee",
   "metadata": {},
   "outputs": [],
   "source": [
    "\"\"\"                                 [ASSIGNMENT]\n",
    "Consider the below code to answer further questions:\n",
    "import numpy as np\n",
    "list_ =ference in the data type of variables lrray_liist_ and ast? [ ‘1’ , ’2’ , ‘3’ , ‘4’ , ‘5’ ]\n",
    "array_list = np.array(object = list_)\n",
    "Q1. Is there any difference between data type of list_ and array_list.  If there is then write a code\n",
    "to print the data types of both the variables.\n"
   ]
  },
  {
   "cell_type": "code",
   "execution_count": 2,
   "id": "ea24fd28-4ecb-4c5e-a774-218fe00edd70",
   "metadata": {},
   "outputs": [],
   "source": [
    "import numpy as np\n",
    "list_ = [ \"1\" , \"2\" , \"3\" , \"4\" , \"5\" ]\n",
    "array_list = np.array(object = list_)"
   ]
  },
  {
   "cell_type": "code",
   "execution_count": 3,
   "id": "4125f9f1-4ce0-4e3d-9aa1-f7cefe899b14",
   "metadata": {},
   "outputs": [
    {
     "data": {
      "text/plain": [
       "array(['1', '2', '3', '4', '5'], dtype='<U1')"
      ]
     },
     "execution_count": 3,
     "metadata": {},
     "output_type": "execute_result"
    }
   ],
   "source": [
    "array_list"
   ]
  },
  {
   "cell_type": "code",
   "execution_count": 4,
   "id": "0aa41181-b3cf-4b3a-8e6e-16b5264e49c5",
   "metadata": {},
   "outputs": [
    {
     "data": {
      "text/plain": [
       "numpy.ndarray"
      ]
     },
     "execution_count": 4,
     "metadata": {},
     "output_type": "execute_result"
    }
   ],
   "source": [
    "type(array_list)"
   ]
  },
  {
   "cell_type": "code",
   "execution_count": 5,
   "id": "d73a9a8d-ef10-44b0-aac7-76e44d760a0d",
   "metadata": {},
   "outputs": [],
   "source": [
    "list_ = [ \"1\" , \"2\" , \"3\" , \"4\" , \"5\" ]"
   ]
  },
  {
   "cell_type": "code",
   "execution_count": 8,
   "id": "e0862aff-2c8f-454a-89bd-5a851e3468ae",
   "metadata": {},
   "outputs": [
    {
     "data": {
      "text/plain": [
       "['1', '2', '3', '4', '5']"
      ]
     },
     "execution_count": 8,
     "metadata": {},
     "output_type": "execute_result"
    }
   ],
   "source": [
    "list_"
   ]
  },
  {
   "cell_type": "code",
   "execution_count": 9,
   "id": "ac428061-1048-4f73-908c-ccb87cb67da6",
   "metadata": {},
   "outputs": [
    {
     "data": {
      "text/plain": [
       "list"
      ]
     },
     "execution_count": 9,
     "metadata": {},
     "output_type": "execute_result"
    }
   ],
   "source": [
    "type(list_)"
   ]
  },
  {
   "cell_type": "code",
   "execution_count": null,
   "id": "b51fb3b7-55d4-4736-815e-2a0612744a48",
   "metadata": {},
   "outputs": [],
   "source": [
    "\"\"\"yes there is difference between both data types as shown above\""
   ]
  },
  {
   "cell_type": "code",
   "execution_count": null,
   "id": "1abd4b30-7d6a-4102-9f9d-76ba436b479f",
   "metadata": {},
   "outputs": [],
   "source": [
    "\"\"\"Q2. Write a code to print the data type of each and every element of both the variables list_ and\n",
    "arra_list."
   ]
  },
  {
   "cell_type": "code",
   "execution_count": 13,
   "id": "82d5528f-28b8-4a7e-be7f-97f2c06aacd7",
   "metadata": {},
   "outputs": [
    {
     "data": {
      "text/plain": [
       "['1', '2', '3', '4', '5']"
      ]
     },
     "execution_count": 13,
     "metadata": {},
     "output_type": "execute_result"
    }
   ],
   "source": [
    "list_"
   ]
  },
  {
   "cell_type": "code",
   "execution_count": 10,
   "id": "23fb80f0-da8c-42d3-92e4-649ab397e975",
   "metadata": {},
   "outputs": [
    {
     "data": {
      "text/plain": [
       "'1'"
      ]
     },
     "execution_count": 10,
     "metadata": {},
     "output_type": "execute_result"
    }
   ],
   "source": [
    "list_[0]"
   ]
  },
  {
   "cell_type": "code",
   "execution_count": 11,
   "id": "b4e19985-954d-4cb9-9109-8d9e10149722",
   "metadata": {},
   "outputs": [
    {
     "data": {
      "text/plain": [
       "str"
      ]
     },
     "execution_count": 11,
     "metadata": {},
     "output_type": "execute_result"
    }
   ],
   "source": [
    "type(list_[0])"
   ]
  },
  {
   "cell_type": "code",
   "execution_count": 20,
   "id": "e7be0c2a-9d3e-4446-bef4-3e4cb43c4707",
   "metadata": {},
   "outputs": [
    {
     "data": {
      "text/plain": [
       "str"
      ]
     },
     "execution_count": 20,
     "metadata": {},
     "output_type": "execute_result"
    }
   ],
   "source": [
    "type(list_[1])"
   ]
  },
  {
   "cell_type": "code",
   "execution_count": 17,
   "id": "67d21701-19a9-4dab-b2f7-1ccbe0305387",
   "metadata": {},
   "outputs": [
    {
     "data": {
      "text/plain": [
       "str"
      ]
     },
     "execution_count": 17,
     "metadata": {},
     "output_type": "execute_result"
    }
   ],
   "source": [
    "type(list_[3])"
   ]
  },
  {
   "cell_type": "code",
   "execution_count": null,
   "id": "488a7706-122b-42f6-9f71-f30faa3bcdff",
   "metadata": {},
   "outputs": [],
   "source": []
  },
  {
   "cell_type": "code",
   "execution_count": 14,
   "id": "debd3e2f-f9cf-4cba-870f-192bfaffa59d",
   "metadata": {},
   "outputs": [
    {
     "data": {
      "text/plain": [
       "array(['1', '2', '3', '4', '5'], dtype='<U1')"
      ]
     },
     "execution_count": 14,
     "metadata": {},
     "output_type": "execute_result"
    }
   ],
   "source": [
    "array_list"
   ]
  },
  {
   "cell_type": "code",
   "execution_count": 15,
   "id": "20617339-4ee1-4e64-984e-2fb62eb9b981",
   "metadata": {},
   "outputs": [
    {
     "data": {
      "text/plain": [
       "'1'"
      ]
     },
     "execution_count": 15,
     "metadata": {},
     "output_type": "execute_result"
    }
   ],
   "source": [
    "array_list[0]"
   ]
  },
  {
   "cell_type": "code",
   "execution_count": 12,
   "id": "68ac8b84-7ba7-4d40-be54-1d564509d260",
   "metadata": {},
   "outputs": [
    {
     "data": {
      "text/plain": [
       "numpy.str_"
      ]
     },
     "execution_count": 12,
     "metadata": {},
     "output_type": "execute_result"
    }
   ],
   "source": [
    "type(array_list[0])"
   ]
  },
  {
   "cell_type": "code",
   "execution_count": 18,
   "id": "97b1b7bf-1865-4a21-97af-4a154eaa34fc",
   "metadata": {},
   "outputs": [
    {
     "data": {
      "text/plain": [
       "numpy.str_"
      ]
     },
     "execution_count": 18,
     "metadata": {},
     "output_type": "execute_result"
    }
   ],
   "source": [
    "type(array_list[2])"
   ]
  },
  {
   "cell_type": "code",
   "execution_count": null,
   "id": "788c80fb-f94f-4d3c-bc8e-03392a404cce",
   "metadata": {},
   "outputs": [],
   "source": []
  },
  {
   "cell_type": "code",
   "execution_count": null,
   "id": "c146b775-f374-429b-a276-10bb3d47005a",
   "metadata": {},
   "outputs": [],
   "source": [
    "\"\"\" data type of element of list_ is \"str\" and data type of element of array_list is \" numpy.str_\""
   ]
  },
  {
   "cell_type": "code",
   "execution_count": null,
   "id": "75e0eb88-daf2-450e-859c-802fcf17cdc1",
   "metadata": {},
   "outputs": [],
   "source": [
    "\"\"\"Q3. Considering the following changes in the variable, array_list:\n",
    "array_list = np.array(object = list_, dtype = int)\n",
    "Will there be any difference in the data type of the elements present in both the variables, list_ and\n",
    "arra_list? If so then print the data types of each and every element present in both the variables, list_\n",
    "and arra_list.\n",
    "Consider the below code to answer further questions:\n",
    "import numpy as np\n",
    "num_list = [ [ 1 , 2 , 3 ] , [ 4 , 5 , 6 ] ]\n",
    "num_array = np.array(object = num_list)"
   ]
  },
  {
   "cell_type": "code",
   "execution_count": 24,
   "id": "4f06898e-60f8-4a72-a701-653ff462be4a",
   "metadata": {},
   "outputs": [],
   "source": [
    "list_ = [ \"1\" , \"2\" , \"3\" , \"4\" , \"5\" ]\n",
    "array_list = np.array(object = list_, dtype = int)"
   ]
  },
  {
   "cell_type": "code",
   "execution_count": 26,
   "id": "e772385b-f6b9-4102-8a79-c78aee79d335",
   "metadata": {},
   "outputs": [
    {
     "data": {
      "text/plain": [
       "str"
      ]
     },
     "execution_count": 26,
     "metadata": {},
     "output_type": "execute_result"
    }
   ],
   "source": [
    "type(list_[0])"
   ]
  },
  {
   "cell_type": "code",
   "execution_count": 27,
   "id": "60e79718-8533-495c-9607-67f2e87a2513",
   "metadata": {},
   "outputs": [
    {
     "data": {
      "text/plain": [
       "numpy.int64"
      ]
     },
     "execution_count": 27,
     "metadata": {},
     "output_type": "execute_result"
    }
   ],
   "source": [
    "type(array_list[0])"
   ]
  },
  {
   "cell_type": "code",
   "execution_count": null,
   "id": "4471c108-4642-4eac-a9ef-25e3f3d00994",
   "metadata": {},
   "outputs": [],
   "source": [
    "\"\"\" yes data type of array_list changes from numpy.str_ to numpy.int64"
   ]
  },
  {
   "cell_type": "code",
   "execution_count": null,
   "id": "5feb98fb-f982-4452-998b-91ce5e7df13a",
   "metadata": {},
   "outputs": [],
   "source": []
  },
  {
   "cell_type": "code",
   "execution_count": null,
   "id": "b02bd9e0-cd52-4ee9-b01c-fdffd3cc6d9e",
   "metadata": {},
   "outputs": [],
   "source": []
  },
  {
   "cell_type": "code",
   "execution_count": null,
   "id": "7ef8f6f4-6650-4768-ad65-c89fd9d7b258",
   "metadata": {},
   "outputs": [],
   "source": [
    "\"\"\"Q4. Write a code to find the following characteristics of variable, num_array:\n",
    "(i) shape\n",
    "(ii) size"
   ]
  },
  {
   "cell_type": "code",
   "execution_count": 28,
   "id": "754aaf60-2e9f-42df-866b-60386fb584b5",
   "metadata": {},
   "outputs": [],
   "source": [
    "import numpy as np\n",
    "num_list = [ [ 1 , 2 , 3 ] , [ 4 , 5 , 6 ] ]\n",
    "num_array = np.array(object = num_list)"
   ]
  },
  {
   "cell_type": "code",
   "execution_count": 29,
   "id": "1ccbf674-5fc4-4960-a187-bd260b6fbe6b",
   "metadata": {},
   "outputs": [
    {
     "data": {
      "text/plain": [
       "(2, 3)"
      ]
     },
     "execution_count": 29,
     "metadata": {},
     "output_type": "execute_result"
    }
   ],
   "source": [
    "num_array.shape"
   ]
  },
  {
   "cell_type": "code",
   "execution_count": 30,
   "id": "a907dcc9-5684-49d4-b013-0895920203cc",
   "metadata": {},
   "outputs": [
    {
     "data": {
      "text/plain": [
       "6"
      ]
     },
     "execution_count": 30,
     "metadata": {},
     "output_type": "execute_result"
    }
   ],
   "source": [
    "num_array.size"
   ]
  },
  {
   "cell_type": "code",
   "execution_count": null,
   "id": "383cb263-911b-4f9a-a119-323aa7dec494",
   "metadata": {},
   "outputs": [],
   "source": [
    "\"\"\"Q5. Write a code to create numpy array of 3*3 matrix containing zeros only, using a numpy array\n",
    "creation function.\n",
    "[Hint: The size of the array will be 9 and the shape will be (3,3).]"
   ]
  },
  {
   "cell_type": "code",
   "execution_count": 33,
   "id": "41462ea0-0d5e-4adf-9c71-4f03f3aa87fa",
   "metadata": {},
   "outputs": [
    {
     "ename": "AttributeError",
     "evalue": "module 'numpy' has no attribute 'zeroes'",
     "output_type": "error",
     "traceback": [
      "\u001b[0;31m---------------------------------------------------------------------------\u001b[0m",
      "\u001b[0;31mAttributeError\u001b[0m                            Traceback (most recent call last)",
      "Cell \u001b[0;32mIn [33], line 1\u001b[0m\n\u001b[0;32m----> 1\u001b[0m \u001b[43mnp\u001b[49m\u001b[38;5;241;43m.\u001b[39;49m\u001b[43mzeroes\u001b[49m((\u001b[38;5;241m3\u001b[39m,\u001b[38;5;241m3\u001b[39m))\n",
      "File \u001b[0;32m/opt/conda/lib/python3.10/site-packages/numpy/__init__.py:311\u001b[0m, in \u001b[0;36m__getattr__\u001b[0;34m(attr)\u001b[0m\n\u001b[1;32m    308\u001b[0m     \u001b[38;5;28;01mfrom\u001b[39;00m \u001b[38;5;21;01m.\u001b[39;00m\u001b[38;5;21;01mtesting\u001b[39;00m \u001b[38;5;28;01mimport\u001b[39;00m Tester\n\u001b[1;32m    309\u001b[0m     \u001b[38;5;28;01mreturn\u001b[39;00m Tester\n\u001b[0;32m--> 311\u001b[0m \u001b[38;5;28;01mraise\u001b[39;00m \u001b[38;5;167;01mAttributeError\u001b[39;00m(\u001b[38;5;124m\"\u001b[39m\u001b[38;5;124mmodule \u001b[39m\u001b[38;5;132;01m{!r}\u001b[39;00m\u001b[38;5;124m has no attribute \u001b[39m\u001b[38;5;124m\"\u001b[39m\n\u001b[1;32m    312\u001b[0m                      \u001b[38;5;124m\"\u001b[39m\u001b[38;5;132;01m{!r}\u001b[39;00m\u001b[38;5;124m\"\u001b[39m\u001b[38;5;241m.\u001b[39mformat(\u001b[38;5;18m__name__\u001b[39m, attr))\n",
      "\u001b[0;31mAttributeError\u001b[0m: module 'numpy' has no attribute 'zeroes'"
     ]
    }
   ],
   "source": [
    "np.zeroes((3,3))"
   ]
  },
  {
   "cell_type": "code",
   "execution_count": null,
   "id": "c647b9d8-a413-41ff-a57c-3d33aeacf131",
   "metadata": {},
   "outputs": [],
   "source": []
  },
  {
   "cell_type": "code",
   "execution_count": null,
   "id": "d0b3e773-d966-454b-94e3-8490a8f0027c",
   "metadata": {},
   "outputs": [],
   "source": [
    "\"\"\"Q6. Create an identity matrix of shape (5,5) using numpy functions?\n",
    "[Hint: An identity matrix is a matrix containing 1 diagonally and other elements will be 0.]"
   ]
  },
  {
   "cell_type": "code",
   "execution_count": null,
   "id": "6f3ab57d-85b6-4a7d-bdd7-53c41f779bb9",
   "metadata": {},
   "outputs": [],
   "source": []
  },
  {
   "cell_type": "code",
   "execution_count": null,
   "id": "d6bb291d-b95e-4314-8aaa-c384084144e7",
   "metadata": {},
   "outputs": [],
   "source": []
  },
  {
   "cell_type": "code",
   "execution_count": null,
   "id": "9adea224-d021-411c-8bc0-fec1d596e393",
   "metadata": {},
   "outputs": [],
   "source": []
  },
  {
   "cell_type": "code",
   "execution_count": null,
   "id": "0ae8792b-4bd5-4e3c-a04a-119046c19fda",
   "metadata": {},
   "outputs": [],
   "source": []
  },
  {
   "cell_type": "code",
   "execution_count": null,
   "id": "95318559-86ff-4ea8-add2-1eabbbb61501",
   "metadata": {},
   "outputs": [],
   "source": []
  },
  {
   "cell_type": "code",
   "execution_count": null,
   "id": "189338ef-6765-40fe-982e-46c8eca9b4f1",
   "metadata": {},
   "outputs": [],
   "source": []
  },
  {
   "cell_type": "code",
   "execution_count": null,
   "id": "da4d20e4-89bd-41b2-aa8f-3b587e6015d9",
   "metadata": {},
   "outputs": [],
   "source": []
  },
  {
   "cell_type": "code",
   "execution_count": null,
   "id": "77d3a937-82cc-4d10-abaa-47227b831d42",
   "metadata": {},
   "outputs": [],
   "source": []
  },
  {
   "cell_type": "code",
   "execution_count": null,
   "id": "42bdc5c2-f025-49fc-b3bb-d9b978ccdc8c",
   "metadata": {},
   "outputs": [],
   "source": []
  },
  {
   "cell_type": "code",
   "execution_count": null,
   "id": "897f8a84-bcc5-4bc7-b574-7bc6f1e12c2a",
   "metadata": {},
   "outputs": [],
   "source": []
  },
  {
   "cell_type": "code",
   "execution_count": null,
   "id": "937fbe86-ef19-4e34-b0f6-996e05854e5f",
   "metadata": {},
   "outputs": [],
   "source": []
  },
  {
   "cell_type": "code",
   "execution_count": null,
   "id": "4051bda0-6a48-4520-8572-dabc4aff0e1a",
   "metadata": {},
   "outputs": [],
   "source": []
  },
  {
   "cell_type": "code",
   "execution_count": null,
   "id": "c90cb4a1-5e42-4e00-8bc8-a4074f36ed85",
   "metadata": {},
   "outputs": [],
   "source": []
  },
  {
   "cell_type": "code",
   "execution_count": null,
   "id": "82a00931-310a-4514-8ca5-039de10b0f1d",
   "metadata": {},
   "outputs": [],
   "source": []
  },
  {
   "cell_type": "code",
   "execution_count": null,
   "id": "b015f749-256b-4009-b560-87ac9d1c4555",
   "metadata": {},
   "outputs": [],
   "source": []
  },
  {
   "cell_type": "code",
   "execution_count": null,
   "id": "05fcd455-b15d-4564-9ef6-0f8799c11e6a",
   "metadata": {},
   "outputs": [],
   "source": []
  }
 ],
 "metadata": {
  "kernelspec": {
   "display_name": "Python 3 (ipykernel)",
   "language": "python",
   "name": "python3"
  },
  "language_info": {
   "codemirror_mode": {
    "name": "ipython",
    "version": 3
   },
   "file_extension": ".py",
   "mimetype": "text/x-python",
   "name": "python",
   "nbconvert_exporter": "python",
   "pygments_lexer": "ipython3",
   "version": "3.10.6"
  }
 },
 "nbformat": 4,
 "nbformat_minor": 5
}
