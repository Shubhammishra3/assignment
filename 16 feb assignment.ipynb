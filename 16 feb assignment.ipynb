{
 "cells": [
  {
   "cell_type": "code",
   "execution_count": null,
   "id": "7430a630-51ab-4857-817c-5f6abdad0d53",
   "metadata": {},
   "outputs": [],
   "source": [
    "\"\"\"                             [16 FEB ASSIGNMENT]\n",
    "1] What is a data base? Differentiate between sql and Nosql  databases.\n",
    "\n",
    "answer] Structured and optimized collection of data where data can be organized in form of rows , columns and index\n",
    " to retrive the relevant information.POpular data bases are mysql,oracle,database,mongodb.  \n",
    "            sql - It manages structured data\n",
    "                  It handles data in less volume\n",
    "                  It gives only read scalability\n",
    "                  It support complex transactions\n",
    "                  Data arrives from one or few locations\n",
    "                  \n",
    "                  \n",
    "            Nosql - It manages all type of data(structured amd unstructured) \n",
    "                    It handle data in high volume\n",
    "                    It give both read and write scalibility\n",
    "                    It support simple transaction\n",
    "                    Data arrives from many locations\n",
    "                    \n",
    "                    "
   ]
  },
  {
   "cell_type": "code",
   "execution_count": null,
   "id": "efdf51ee-bd4d-412a-8b12-7e4e720e4ef7",
   "metadata": {},
   "outputs": [],
   "source": []
  },
  {
   "cell_type": "code",
   "execution_count": null,
   "id": "e12d073b-6741-45ca-9f0b-ffa456217b19",
   "metadata": {},
   "outputs": [],
   "source": [
    "\"\"\"\n",
    "2] What is DDL? Explain why CREATE,DROP , ALTER , AND TRUNCATE are used with an example.\n",
    "\n",
    "answer]DDL stands for data definition language . It is used to create and modify the structure of a data base and \n",
    "        data base objects.\n",
    "        CREATE - command is used to creat table or database. The syntax for create command is :\n",
    "                  CREATE DATABASE database_name;\n",
    "                  CREATE TABLE table_name(\n",
    "                          column1 datatype,\n",
    "                          column2 datatype,\n",
    "                          .....\n",
    "                          .....\n",
    "                          );\n",
    "         DROP - command used to drope a table. syntax is \n",
    "                DROP TABLE table_name;\n",
    "         ALTER -  To change the properties of a column such as its type , type capacity , add constraints etc. Syntex is\n",
    "                   ALTER TABLE table_name\n",
    "         TRUNCATE - This command is similar to the drop table commands. The only difference is that while the \n",
    "                   drop commands remove the table as well as its contents, the truncate command only erases the \n",
    "                   contents of the table's contents are not the table itself.\n",
    "                   syntex; TRUNCATE TABLE CUSTOMERS;\n",
    "                            "
   ]
  },
  {
   "cell_type": "code",
   "execution_count": null,
   "id": "bead631a-6210-4b0d-a158-0a49ee65b78e",
   "metadata": {},
   "outputs": [],
   "source": []
  },
  {
   "cell_type": "code",
   "execution_count": null,
   "id": "f83b4cd2-942b-498d-beb7-41131c7257f5",
   "metadata": {},
   "outputs": [],
   "source": [
    "\"\"\"\n",
    "3] What is DML? Explain INSERT , UPDATE , AND DELETE with an example.\n",
    "\n",
    "answer] DML is an abbreviation for DATA MANIPULATION LANGUAGE. Represent a collection of programming languages \n",
    "        explicitly used to make changes to the database\n",
    "        INSERT - command to add new values to the database \n",
    "        UPDATE - command to change or update current data to a more recent value within the database\n",
    "        DELETE - commands to delete or delete values or data information of the current table in the database"
   ]
  },
  {
   "cell_type": "code",
   "execution_count": null,
   "id": "d5523ac1-ae4f-44ac-941f-715547566a0a",
   "metadata": {},
   "outputs": [],
   "source": []
  },
  {
   "cell_type": "code",
   "execution_count": null,
   "id": "5d2798ad-08f1-402d-8260-c09d32b51b5c",
   "metadata": {},
   "outputs": [],
   "source": [
    "\"\"\"\n",
    "4] What is DQL? Explain SELECT with an example.\n",
    "\n",
    "answer] DQL is used to retrive data.It consists of commands that do so.\n",
    "          SELECT command use to select data from data base \n",
    "          syntex : SELECT customerName , City FROM Customer;\n",
    "          SELECT * FROM table_name;"
   ]
  },
  {
   "cell_type": "code",
   "execution_count": null,
   "id": "03c7b37b-9fa1-4fd8-aed0-3b5c7c50e4e5",
   "metadata": {},
   "outputs": [],
   "source": []
  },
  {
   "cell_type": "code",
   "execution_count": null,
   "id": "aed12e92-16fa-4d2e-ab01-b386d9c507d3",
   "metadata": {},
   "outputs": [],
   "source": [
    "\"\"\"\n",
    "5] Explain primary key and foreign key.\n",
    "\n",
    "answer] Primary key is used to ensure that data in the specific column is unique.A column can not have NULL values.\n",
    "        It is either an existing table column or a column that is specifically generated by the database according to\n",
    "        a defined sequence.\n",
    "        FOREIGN KEY : is a column or group of columns in a relational database table that provides a link between \n",
    "        data in two tables . It is a columns that references a column of another table"
   ]
  },
  {
   "cell_type": "code",
   "execution_count": null,
   "id": "485a3d85-9c48-4d47-8d12-822316754c71",
   "metadata": {},
   "outputs": [],
   "source": []
  },
  {
   "cell_type": "code",
   "execution_count": null,
   "id": "cfde91e1-6cc0-4963-9f3b-8ddc5b37bc05",
   "metadata": {},
   "outputs": [],
   "source": [
    "\"\"\"\n",
    "6] Write a python code to connect mysql to python . Explain the cursor() and execute() method."
   ]
  },
  {
   "cell_type": "code",
   "execution_count": null,
   "id": "19a4ed29-a8a6-4a0a-b8aa-fd9f0a3684fa",
   "metadata": {},
   "outputs": [],
   "source": [
    "import mysql.connector\n",
    "mydb = mysql.connector.connect(\n",
    "    host = \"local host\",\n",
    "    user = \"abc\" ,\n",
    "    password = \"password\")\n",
    "mycursor = mydb.cursor()"
   ]
  },
  {
   "cell_type": "code",
   "execution_count": null,
   "id": "a25d75f6-170b-4764-acef-0a7e7575b363",
   "metadata": {},
   "outputs": [],
   "source": [
    "\"\"\"Cursor is a temporary memory or temporary work station. It is allocated by database server at the time of\n",
    "   performing DML \n",
    "   The EXEC command is used to execute a stored procedure. Execute method execute a specified query."
   ]
  },
  {
   "cell_type": "code",
   "execution_count": null,
   "id": "e059636a-4704-4f51-b6f6-3d67d54a7975",
   "metadata": {},
   "outputs": [],
   "source": [
    "\"\"\"\n",
    "7] Give the order of execution of sql clauses in an sql query.\n",
    "answer] The order of execution of sql clauses in an sql query is\n",
    "         1] FROM\n",
    "         2] WHERE\n",
    "         3] GROUP BY\n",
    "         4] HAVING\n",
    "         5] SELECT\n",
    "         6] ORDERED BY\n",
    "         7] LIMIT"
   ]
  },
  {
   "cell_type": "code",
   "execution_count": null,
   "id": "30533d52-bc51-406d-be38-0b51261a324a",
   "metadata": {},
   "outputs": [],
   "source": []
  }
 ],
 "metadata": {
  "kernelspec": {
   "display_name": "Python 3 (ipykernel)",
   "language": "python",
   "name": "python3"
  },
  "language_info": {
   "codemirror_mode": {
    "name": "ipython",
    "version": 3
   },
   "file_extension": ".py",
   "mimetype": "text/x-python",
   "name": "python",
   "nbconvert_exporter": "python",
   "pygments_lexer": "ipython3",
   "version": "3.10.6"
  }
 },
 "nbformat": 4,
 "nbformat_minor": 5
}
