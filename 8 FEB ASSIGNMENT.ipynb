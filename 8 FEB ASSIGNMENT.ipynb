{
 "cells": [
  {
   "cell_type": "code",
   "execution_count": null,
   "id": "4147bf21-acc0-4091-9055-d8daa2b9716a",
   "metadata": {},
   "outputs": [],
   "source": [
    "\"\"\"                     [ 8 FEB ASSIGNMENT]\n",
    "\n",
    "1] WHAT IS ABSTRACTION IN OOPS? EXPLAIN WITH EXAMPLE.\n",
    "\n",
    "ANSWER] Abstraction is core concept of oops . It is process of hiding the internal data and implementation from outer\n",
    "world.\n",
    "               TWO TYPES OF ABSTRACTION\n",
    "1] DATA ABSTRACTION = refer to providing only essentials information to the outside world and hiding their background\n",
    "details\n",
    "2]  PROCESS ABSTRACTION = When we hide the internal implementation of the different functions involved in a user operation"
   ]
  },
  {
   "cell_type": "code",
   "execution_count": 2,
   "id": "e9d74935-7fde-4ba7-9d4b-0400e5bd780c",
   "metadata": {},
   "outputs": [],
   "source": [
    "import abc \n",
    "class pwskills:\n",
    "    @abc.abstractmethod\n",
    "    def student_details(self):\n",
    "        pass\n",
    "    @abc.abstractmethod\n",
    "    def student_assignment(self):\n",
    "        pass\n",
    "    @abc.abstractmethod\n",
    "    def students_marks(self):\n",
    "        pass"
   ]
  },
  {
   "cell_type": "code",
   "execution_count": 3,
   "id": "9d5a23cd-103f-4274-b8f3-394d94bc94f4",
   "metadata": {},
   "outputs": [],
   "source": [
    "class student_details(pwskills):\n",
    "    def student_details(self):\n",
    "        return \" this ia a method for taking students details\"\n",
    "    def student_assignment(self):\n",
    "        return \" this is a method for assign details of particular\""
   ]
  },
  {
   "cell_type": "code",
   "execution_count": 4,
   "id": "556af11b-236a-43a0-89f6-2c655480a697",
   "metadata": {},
   "outputs": [],
   "source": [
    "sd = student_details()"
   ]
  },
  {
   "cell_type": "code",
   "execution_count": 6,
   "id": "6355ff3c-9315-4c2d-ba24-2133d408cd15",
   "metadata": {},
   "outputs": [
    {
     "data": {
      "text/plain": [
       "' this ia a method for taking students details'"
      ]
     },
     "execution_count": 6,
     "metadata": {},
     "output_type": "execute_result"
    }
   ],
   "source": [
    "sd.student_details()"
   ]
  },
  {
   "cell_type": "code",
   "execution_count": null,
   "id": "675b7266-5db1-4c89-91f5-1e5cdcceb16d",
   "metadata": {},
   "outputs": [],
   "source": []
  },
  {
   "cell_type": "code",
   "execution_count": null,
   "id": "f03c6f32-d486-46a3-93b7-83fbed849d99",
   "metadata": {},
   "outputs": [],
   "source": [
    "\"\"\"\n",
    "2] DIFFERENTIATION BETWEEN ABSTRACTION AND ENCAPSULATION. EXPLAIN WITH EXAMPLE.\n",
    "\n",
    "ANSWER] Abstraction hides the internal implementation and creates the skelton of what is required for that entity.\n",
    "Outer lay out is used in design and solve the problem in design.\n",
    "\n",
    "Encapsulation hides the data from external world. it protect the data within class and exposes methods to the world.\n",
    "Hiding the code and data into a single unit to protect data from out side world.solve the problem at implementation level."
   ]
  },
  {
   "cell_type": "code",
   "execution_count": 29,
   "id": "a00b0b44-1068-40a1-a161-03096d425916",
   "metadata": {},
   "outputs": [],
   "source": [
    "import abc \n",
    "class pwskills:\n",
    "    @abc.abstractmethod\n",
    "    def student_details(self):\n",
    "        pass                                        # ABSTRACTION EXAMPLE\n",
    "    @abc.abstractmethod\n",
    "    def student_assignment(self):\n",
    "        pass\n",
    "    @abc.abstractmethod\n",
    "    def students_marks(self):\n",
    "        pass"
   ]
  },
  {
   "cell_type": "code",
   "execution_count": 30,
   "id": "2d24acbc-8670-4d40-b1c3-4aac9eb7359d",
   "metadata": {},
   "outputs": [],
   "source": [
    "class student_details(pwskills):\n",
    "    def student_details(self):\n",
    "        return \" this ia a method for taking students details\"\n",
    "    def student_assignment(self):\n",
    "        return \" this is a method for assign details of particular\""
   ]
  },
  {
   "cell_type": "code",
   "execution_count": 31,
   "id": "cb52f3a6-c784-4aac-b503-5107a8f2c8f4",
   "metadata": {},
   "outputs": [],
   "source": [
    "sd = student_details()"
   ]
  },
  {
   "cell_type": "code",
   "execution_count": 32,
   "id": "86210933-be2b-4da6-8ad4-1b7ce1976340",
   "metadata": {},
   "outputs": [
    {
     "data": {
      "text/plain": [
       "' this ia a method for taking students details'"
      ]
     },
     "execution_count": 32,
     "metadata": {},
     "output_type": "execute_result"
    }
   ],
   "source": [
    "sd.student_details()"
   ]
  },
  {
   "cell_type": "code",
   "execution_count": null,
   "id": "cbc0a1f3-24d4-466b-a3e2-fc54951215c0",
   "metadata": {},
   "outputs": [],
   "source": []
  },
  {
   "cell_type": "code",
   "execution_count": null,
   "id": "3b09ac8b-3041-4d54-b573-708599623044",
   "metadata": {},
   "outputs": [],
   "source": []
  },
  {
   "cell_type": "code",
   "execution_count": null,
   "id": "9afdad20-e2c0-4e18-bc12-b4f0f8192757",
   "metadata": {},
   "outputs": [],
   "source": [
    "class car:\n",
    "    def __init__(self):\n",
    "        self.__updatesoftware()\n",
    "    def drive(self):\n",
    "        print(\"driving\")                          # ENCAPSULATION EXAMPLE\n",
    "    def __updatesoftware(self):\n",
    "        print(\"updating software\")"
   ]
  },
  {
   "cell_type": "code",
   "execution_count": 27,
   "id": "48e3a096-4cdc-491a-bedf-0521317c25b8",
   "metadata": {},
   "outputs": [
    {
     "name": "stdout",
     "output_type": "stream",
     "text": [
      "updating software\n"
     ]
    }
   ],
   "source": [
    "blackcar = car()"
   ]
  },
  {
   "cell_type": "code",
   "execution_count": 26,
   "id": "4a63e146-5e97-4d1f-a4ee-0a851a98014a",
   "metadata": {},
   "outputs": [
    {
     "name": "stdout",
     "output_type": "stream",
     "text": [
      "driving\n"
     ]
    }
   ],
   "source": [
    "blackcar.drive()"
   ]
  },
  {
   "cell_type": "code",
   "execution_count": null,
   "id": "c22a8251-6efe-49c3-af70-136725dd79d9",
   "metadata": {},
   "outputs": [],
   "source": [
    "\"\"\"\n",
    "3] WHAT IS ABC MODULE IN PYTHON ? WHY IS IT USED ?\n",
    "\n",
    "ANSWER] \"abc\" module in the python library provides the infrastructure for defining custom abstract base classes.\n",
    "Abstract class can not be instantiated in python. An abstract method can be call by its subclasses.It stands for abstract\n",
    "base classes."
   ]
  },
  {
   "cell_type": "code",
   "execution_count": null,
   "id": "50571ab9-9758-4aa3-a860-6f67dcd285ef",
   "metadata": {},
   "outputs": [],
   "source": []
  },
  {
   "cell_type": "code",
   "execution_count": null,
   "id": "ea2defbf-4085-4aa1-9c62-83e90d269670",
   "metadata": {},
   "outputs": [],
   "source": [
    "\"\"\"\n",
    "4] HOW CAN WE ACHIEVE DATA ABSTRACTION ?\n",
    "\n",
    "ANSWER] Abstraction can be achieved by having / using abstract classes and methods in our program. An abstract method \n",
    "is a method that is declared , but not contain implementation.TO use abstract base classes , one needs to import ABC\n",
    "meta and abstract method from the abc module."
   ]
  },
  {
   "cell_type": "code",
   "execution_count": null,
   "id": "bab3cff1-345d-46ad-94c5-5eb618e758b9",
   "metadata": {},
   "outputs": [],
   "source": []
  },
  {
   "cell_type": "code",
   "execution_count": null,
   "id": "8244e74d-f2a9-4440-afbc-73b8bc2f0ec5",
   "metadata": {},
   "outputs": [],
   "source": [
    "\"\"\"\n",
    "5] CAN WE CREATE AN INSTANCE OF AN ABSTRACT CLASS? EXPLAIN YOUR ANSWER.\n",
    "\n",
    "ANSWER] No we can not creat an instance of an abstract class but can be sub classed . When an abstract class is\n",
    "subclassed , the sub class usually provides implementations for all of the abstract methods in its parent class."
   ]
  },
  {
   "cell_type": "code",
   "execution_count": null,
   "id": "f281fe6a-cdaf-40bb-a389-faec99641ecf",
   "metadata": {},
   "outputs": [],
   "source": []
  },
  {
   "cell_type": "code",
   "execution_count": null,
   "id": "1ebf8d8e-82b9-4524-b617-d68f745423ff",
   "metadata": {},
   "outputs": [],
   "source": []
  }
 ],
 "metadata": {
  "kernelspec": {
   "display_name": "Python 3 (ipykernel)",
   "language": "python",
   "name": "python3"
  },
  "language_info": {
   "codemirror_mode": {
    "name": "ipython",
    "version": 3
   },
   "file_extension": ".py",
   "mimetype": "text/x-python",
   "name": "python",
   "nbconvert_exporter": "python",
   "pygments_lexer": "ipython3",
   "version": "3.10.6"
  }
 },
 "nbformat": 4,
 "nbformat_minor": 5
}
