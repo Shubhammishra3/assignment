{
 "cells": [
  {
   "cell_type": "code",
   "execution_count": null,
   "id": "b029e9c9-6a20-40a7-9104-9c494159a817",
   "metadata": {},
   "outputs": [],
   "source": [
    "\"\"\"\n",
    "1] Which function is used to open a file? What are the different modes of opening a file? Explain each mode of file opening.\n",
    "Answer]The open () function does what the name implies - It open a file for you so you can work with the file.\n",
    "       r - open a file in read mode\n",
    "       w - open or create a text file in write mode\n",
    "       a - open a file in append mode\n",
    "       r+ - open a file in both read and write mode\n",
    "       a+ - open a file in both read and write mode\n",
    "       w+ - open a file in both read and write mode"
   ]
  },
  {
   "cell_type": "code",
   "execution_count": null,
   "id": "5ec8768e-86fc-496d-a7b5-5ad3c55a2172",
   "metadata": {},
   "outputs": [],
   "source": [
    "\"\"\"\n",
    "2] Why close() function is used ? Why is it important to close a file?\n",
    "Answer] The close() method closes an open file. We should always close our files, in some cases, due to buffering,changes\n",
    "made to a file may not show untill you close the file."
   ]
  },
  {
   "cell_type": "code",
   "execution_count": null,
   "id": "0a55d2b6-b5bc-47d7-8fcf-eea60e7f8426",
   "metadata": {},
   "outputs": [],
   "source": [
    "\"\"\"\n",
    "3] Write a python program to create a text file. write \"I want to become a Data scientist\" in that file. Then close the file.\n",
    "Open this file and read the content of the file."
   ]
  },
  {
   "cell_type": "code",
   "execution_count": 3,
   "id": "3ff1a3a7-a206-4d08-a7b2-19b129849481",
   "metadata": {},
   "outputs": [],
   "source": [
    "f = open(\"text.txt\",\"w\")\n",
    "f.write(\" I want to become a Data scientist\")\n",
    "f.close()"
   ]
  },
  {
   "cell_type": "code",
   "execution_count": 5,
   "id": "4a79a0f7-b1a6-4e70-aae4-dcd63dcc01f3",
   "metadata": {},
   "outputs": [
    {
     "data": {
      "text/plain": [
       "' I want to become a Data scientist'"
      ]
     },
     "execution_count": 5,
     "metadata": {},
     "output_type": "execute_result"
    }
   ],
   "source": [
    "f = open(\"text.txt\",\"r\")\n",
    "f.read()"
   ]
  },
  {
   "cell_type": "code",
   "execution_count": 6,
   "id": "1544dec5-37af-4dae-a9da-3fc6cbc1f806",
   "metadata": {},
   "outputs": [],
   "source": [
    "f.close()"
   ]
  },
  {
   "cell_type": "code",
   "execution_count": null,
   "id": "c9f8a4b9-f7e9-428e-9349-29d8728072d9",
   "metadata": {},
   "outputs": [],
   "source": []
  },
  {
   "cell_type": "code",
   "execution_count": null,
   "id": "18865602-a6df-46c5-92d0-440b2298dd62",
   "metadata": {},
   "outputs": [],
   "source": [
    "\"\"\"\n",
    "4] Explain the following with python code: read() , readline() and readlines().\n",
    "Answer] Python readline() method will return a line from the file when called.\n",
    "        Python readlines() method wiil return all the lines in a file in the format of a list where each element is a \n",
    "        line in the file.\n",
    "        Python read() method will  returns the specified numbr of bytes from the file. Defaults is -1 which means the\n",
    "        whole file"
   ]
  },
  {
   "cell_type": "code",
   "execution_count": null,
   "id": "b045d2d5-1e1b-4aac-bc14-d71609a3450b",
   "metadata": {},
   "outputs": [],
   "source": []
  },
  {
   "cell_type": "code",
   "execution_count": null,
   "id": "8daf4e00-1f49-403d-8473-0fb61ac0deca",
   "metadata": {},
   "outputs": [],
   "source": [
    "\"\"\"\n",
    "5] Explain why with statement is used with open(). What is the advantage of using with statement and open() together?\n",
    "Answer] The with statement works with the open() function to open a file.unlike open() where you have to close the file with \n",
    " the close() methods,the with statement closes the file for us without telling it to.This is because the with statement calls\n",
    " two built-in methods behind the scene - __enter__ and __exit__."
   ]
  },
  {
   "cell_type": "code",
   "execution_count": null,
   "id": "57ae098f-b748-4639-a6aa-10cf72a1aac5",
   "metadata": {},
   "outputs": [],
   "source": []
  },
  {
   "cell_type": "code",
   "execution_count": null,
   "id": "86a6b728-350e-40c0-83f1-18a48707e3b9",
   "metadata": {},
   "outputs": [],
   "source": [
    "\"\"\"\n",
    "6] Explain the write() and writelines() functions. Give a suitable example.\n",
    "Answer] The write() function will write the content in the file without adding any extra characters.\n",
    "        The writelines function writes the content of a list to a file.The only difference between the write() and writelines()\n",
    "        is that write() is used to write a string to an already opened file while writelines() method is used to write a list\n",
    "        of strings in an opened file."
   ]
  },
  {
   "cell_type": "code",
   "execution_count": 10,
   "id": "203c0234-e54c-4924-96b1-21151befc8bc",
   "metadata": {},
   "outputs": [],
   "source": [
    "f = open(\"text.txt\",\"w\")\n",
    "f.write(\" The write() function will write the content in the file without adding any extra characters\")\n",
    "f.close()"
   ]
  },
  {
   "cell_type": "code",
   "execution_count": 11,
   "id": "65410c58-70da-49b1-906e-596531eb3156",
   "metadata": {},
   "outputs": [],
   "source": [
    "f = open(\"text.txt\",\"a\")\n",
    "f.writelines([\"see you in the evening\"])\n",
    "f.close()"
   ]
  },
  {
   "cell_type": "code",
   "execution_count": 12,
   "id": "7d4b1c92-e63c-4c02-8682-7b4e468c3544",
   "metadata": {},
   "outputs": [
    {
     "name": "stdout",
     "output_type": "stream",
     "text": [
      " The write() function will write the content in the file without adding any extra characterssee you in the evening\n"
     ]
    }
   ],
   "source": [
    "f = open(\"text.txt\",\"r\")\n",
    "print(f.read())"
   ]
  },
  {
   "cell_type": "code",
   "execution_count": null,
   "id": "f53b96bb-7d5e-4a0b-97e1-7936f96444e5",
   "metadata": {},
   "outputs": [],
   "source": []
  }
 ],
 "metadata": {
  "kernelspec": {
   "display_name": "Python 3 (ipykernel)",
   "language": "python",
   "name": "python3"
  },
  "language_info": {
   "codemirror_mode": {
    "name": "ipython",
    "version": 3
   },
   "file_extension": ".py",
   "mimetype": "text/x-python",
   "name": "python",
   "nbconvert_exporter": "python",
   "pygments_lexer": "ipython3",
   "version": "3.10.6"
  }
 },
 "nbformat": 4,
 "nbformat_minor": 5
}
